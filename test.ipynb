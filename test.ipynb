{
 "cells": [
  {
   "cell_type": "markdown",
   "metadata": {},
   "source": [
    "### RUN IN TERMINAL FOR DATABASE CREATION\n",
    "\n",
    "docker ps (to see the running containers)\n",
    "\n",
    "docker stop id (write instead of id what you want to delete)\n",
    "\n",
    "docker rm -f $(docker ps -aq) (delete every running container)\n",
    "\n",
    "docker run --name my-postgres-db -e POSTGRES_USER=master -e POSTGRES_PASSWORD=pass -e POSTGRES_DB=GLOBBING -p 5432:5432 -d postgres"
   ]
  },
  {
   "cell_type": "markdown",
   "metadata": {},
   "source": [
    "# Initialize the database by creating the tables"
   ]
  },
  {
   "cell_type": "code",
   "execution_count": 1,
   "metadata": {},
   "outputs": [
    {
     "name": "stderr",
     "output_type": "stream",
     "text": [
      "\u001b[31;20m/2023-05-07 20:21:08,540 / tables.py / ERROR / connect_to_db/Failed to create schema 'initial' /tables.py/59/\u001b[0m\n",
      "/2023-05-07 20:21:08,540 / tables.py / ERROR / connect_to_db/Failed to create schema 'initial' /tables.py/59/\n",
      "\u001b[31;20m/2023-05-07 20:21:08,547 / tables.py / ERROR / connect_to_db/Failed to create schema 'result' /tables.py/66/\u001b[0m\n",
      "/2023-05-07 20:21:08,547 / tables.py / ERROR / connect_to_db/Failed to create schema 'result' /tables.py/66/\n",
      "\u001b[31;20m/2023-05-07 20:21:08,579 / tables.py / ERROR / connect_to_db/Failed to create schema 'initial' /tables.py/59/\u001b[0m\n",
      "/2023-05-07 20:21:08,579 / tables.py / ERROR / connect_to_db/Failed to create schema 'initial' /tables.py/59/\n",
      "\u001b[31;20m/2023-05-07 20:21:08,583 / tables.py / ERROR / connect_to_db/Failed to create schema 'result' /tables.py/66/\u001b[0m\n",
      "/2023-05-07 20:21:08,583 / tables.py / ERROR / connect_to_db/Failed to create schema 'result' /tables.py/66/\n",
      "/2023-05-07 20:21:08,623 / matplotlib / DEBUG / (private) matplotlib data path: /opt/anaconda3/lib/python3.8/site-packages/matplotlib/mpl-data /__init__.py/241/\n",
      "/2023-05-07 20:21:08,624 / matplotlib / DEBUG / matplotlib data path: /opt/anaconda3/lib/python3.8/site-packages/matplotlib/mpl-data /__init__.py/241/\n",
      "/2023-05-07 20:21:08,628 / matplotlib / DEBUG / CONFIGDIR=/Users/nareabgaryan/.matplotlib /__init__.py/241/\n",
      "/2023-05-07 20:21:08,630 / matplotlib / DEBUG / matplotlib version 3.3.4 /__init__.py/1480/\n",
      "/2023-05-07 20:21:08,631 / matplotlib / DEBUG / interactive is False /__init__.py/1481/\n",
      "/2023-05-07 20:21:08,632 / matplotlib / DEBUG / platform is darwin /__init__.py/1482/\n",
      "/2023-05-07 20:21:08,633 / matplotlib / DEBUG / loaded modules: ['sys', 'builtins', '_frozen_importlib', '_imp', '_warnings', '_frozen_importlib_external', '_io', 'marshal', 'posix', '_thread', '_weakref', 'time', 'zipimport', '_codecs', 'codecs', 'encodings.aliases', 'encodings', 'encodings.utf_8', '_signal', '__main__', 'encodings.latin_1', '_abc', 'abc', 'io', '_stat', 'stat', '_collections_abc', 'genericpath', 'posixpath', 'os.path', 'os', '_sitebuiltins', '_locale', '_bootlocale', '_distutils_hack', 'types', 'importlib._bootstrap', 'importlib._bootstrap_external', 'warnings', 'importlib', 'importlib.machinery', 'importlib.abc', '_operator', 'operator', 'keyword', '_heapq', 'heapq', 'itertools', 'reprlib', '_collections', 'collections', '_functools', 'functools', 'contextlib', 'importlib.util', 'google', 'mpl_toolkits', 'sphinxcontrib', 'zope', 'site', '_weakrefset', 'weakref', 'pkgutil', 'runpy', 'enum', '_sre', 'sre_constants', 'sre_parse', 'sre_compile', 'copyreg', 're', 'collections.abc', 'typing.io', 'typing.re', 'typing', 'ipykernel._version', '_json', 'json.scanner', 'json.decoder', 'json.encoder', 'json', 'errno', 'signal', 'threading', '_posixsubprocess', 'select', 'math', 'selectors', 'subprocess', 'jupyter_client._version', 'platform', '_ctypes', '_struct', 'struct', 'ctypes._endian', 'ctypes', 'zmq.backend.select', '_cython_0_29_32', 'cython_runtime', 'zmq.error', 'zmq.backend.cython.context', 'zmq.backend.cython.message', 'copy', '_bisect', 'bisect', '_sha512', '_random', 'random', '_compat_pickle', '_pickle', 'pickle', 'zmq.constants', 'zmq.backend.cython.socket', 'zmq.backend.cython._device', 'zmq.backend.cython._poll', 'zmq.backend.cython._proxy_steerable', 'zmq.backend.cython._version', 'zmq.backend.cython.error', 'zmq.backend.cython.utils', 'zmq.backend.cython', 'zmq.backend', 'atexit', 'zmq.utils', 'zmq.utils.interop', 'zmq.sugar.attrsettr', 'zmq._typing', 'zmq.utils.jsonapi', 'zmq.sugar.poll', 'zmq.sugar.socket', 'zmq.sugar.context', 'zmq.sugar.frame', 'zmq.sugar.tracker', 'zmq.sugar.version', 'zmq.sugar.stopwatch', 'zmq.sugar', 'zmq', 'concurrent', 'token', 'tokenize', 'linecache', 'traceback', '_string', 'string', 'logging', 'concurrent.futures._base', 'concurrent.futures', '_socket', 'socket', '_ssl', 'binascii', 'base64', 'ssl', 'asyncio.constants', '_opcode', 'opcode', 'dis', 'inspect', 'asyncio.format_helpers', 'asyncio.base_futures', 'asyncio.log', 'asyncio.coroutines', '_contextvars', 'contextvars', 'asyncio.exceptions', 'asyncio.base_tasks', '_asyncio', 'asyncio.events', 'asyncio.futures', 'asyncio.protocols', 'asyncio.transports', 'asyncio.sslproto', 'asyncio.locks', 'asyncio.tasks', 'asyncio.staggered', 'asyncio.trsock', 'asyncio.base_events', 'asyncio.runners', 'asyncio.queues', 'asyncio.streams', 'asyncio.subprocess', 'asyncio.base_subprocess', 'asyncio.selector_events', 'asyncio.unix_events', 'asyncio', 'zmq._future', 'zmq.asyncio', '_ast', 'ast', 'fnmatch', 'ntpath', 'urllib', 'urllib.parse', 'pathlib', 'traitlets.utils', 'traitlets.utils.bunch', 'traitlets.utils.descriptions', 'traitlets.utils.getargspec', 'traitlets.utils.importstring', 'traitlets.utils.sentinel', 'traitlets.traitlets', 'traitlets._version', 'traitlets.utils.decorators', 'traitlets', '_queue', 'queue', 'jupyter_core.version', 'jupyter_core', 'jupyter_core.utils', 'jupyter_client.channelsabc', '_hashlib', '_blake2', '_sha3', 'hashlib', 'hmac', 'pprint', '_datetime', 'datetime', 'tornado', 'numbers', 'logging.handlers', 'html.entities', 'html', 'array', 'zlib', 'tornado.speedups', 'tornado.util', 'tornado.escape', 'colorama.ansi', 'colorama.win32', 'colorama.winterm', 'colorama.ansitowin32', 'colorama.initialise', 'colorama', '_curses', 'curses', 'tornado.log', 'tornado.concurrent', 'tornado.ioloop', 'socketserver', 'logging.config', 'textwrap', 'traitlets.utils.text', '_compression', '_bz2', 'bz2', '_lzma', 'lzma', 'pwd', 'grp', 'shutil', 'locale', 'gettext', 'argparse', 'traitlets.config.loader', 'traitlets.config.configurable', 'traitlets.utils.nested_update', 'traitlets.config.application', 'traitlets.config', 'traitlets.log', 'zmq.eventloop', 'zmq.eventloop.zmqstream', 'jupyter_client.adapter', 'dateutil._version', 'dateutil', '__future__', 'calendar', 'six', '_decimal', 'decimal', 'dateutil._common', 'dateutil.relativedelta', 'six.moves', 'dateutil.tz._common', 'dateutil.tz._factories', 'dateutil.tz.tz', 'dateutil.tz', 'dateutil.parser._parser', 'dateutil.parser.isoparser', 'dateutil.parser', '_strptime', 'jupyter_client.jsonutil', 'jupyter_client.session', 'jupyter_client.channels', 'termios', 'getpass', 'jupyter_client.clientabc', 'glob', 'tempfile', 'platformdirs.api', 'platformdirs.version', 'platformdirs.macos', 'platformdirs', 'jupyter_core.paths', 'jupyter_client.localinterfaces', 'jupyter_client.utils', 'jupyter_client.connect', 'jupyter_client.client', 'jupyter_client.asynchronous.client', 'jupyter_client.asynchronous', 'jupyter_client.blocking.client', 'jupyter_client.blocking', 'jupyter_client.launcher', '_uuid', 'uuid', '_csv', 'csv', 'zipfile', 'zipp', 'email', 'uu', 'quopri', 'email._parseaddr', 'email.base64mime', 'email.quoprimime', 'email.errors', 'email.encoders', 'email.charset', 'email.utils', 'email.header', 'email._policybase', 'email._encoded_words', 'email.iterators', 'email.message', 'importlib_metadata._functools', 'importlib_metadata._text', 'importlib_metadata._adapters', 'importlib_metadata._compat', 'importlib_metadata._meta', 'importlib_metadata._collections', 'importlib_metadata._itertools', 'importlib_metadata', 'jupyter_client.provisioning.provisioner_base', 'jupyter_client.provisioning.factory', 'jupyter_client.provisioning.local_provisioner', 'jupyter_client.provisioning', 'jupyter_client.kernelspec', 'jupyter_client.managerabc', 'jupyter_client.manager', 'jupyter_client.multikernelmanager', 'jupyter_client', 'ipykernel.connect', 'ipykernel', 'IPython.core', 'IPython.core.getipython', 'IPython.core.release', 'sysconfig', '_sysconfigdata__darwin_darwin', '_osx_support', 'pydoc', 'executing.executing', 'executing.version', 'executing', 'asttokens.line_numbers', 'asttokens.util', 'asttokens.asttokens', 'asttokens', 'fractions', 'pure_eval.utils', 'pure_eval.my_getattr_static', 'pure_eval.core', 'pure_eval.version', 'pure_eval', 'stack_data.utils', 'stack_data.core', 'stack_data.formatting', 'stack_data.serializing', 'stack_data.version', 'stack_data', 'pygments', 'pygments.formatters._mapping', 'pygments.plugin', 'pygments.util', 'pygments.formatters', 'pygments.styles', 'pygments.formatter', 'pygments.console', 'pygments.token', 'pygments.style', 'pygments.formatters.terminal256', 'IPython.utils', 'IPython.utils.ipstruct', 'IPython.utils.coloransi', 'IPython.utils.colorable', 'IPython.utils.PyColorize', 'IPython.utils.encoding', 'IPython.utils.py3compat', 'IPython.core.excolors', 'cmd', 'bdb', 'codeop', 'code', 'pdb', 'IPython.core.debugger', 'IPython.core.display_trap', 'pexpect.exceptions', 'pexpect.utils', 'pexpect.expect', 'tty', 'pty', 'fcntl', 'resource', 'ptyprocess.util', 'ptyprocess.ptyprocess', 'ptyprocess', 'pexpect.spawnbase', 'pexpect.pty_spawn', 'pexpect.run', 'pexpect', 'shlex', 'IPython.utils._process_common', 'IPython.utils._process_posix', 'IPython.utils.process', 'IPython.utils.path', 'IPython.utils.terminal', 'IPython.core.ultratb', 'IPython.utils._sysinfo', 'IPython.utils.sysinfo', 'IPython.core.crashhandler', 'IPython.utils.importstring', 'IPython.paths', 'IPython.core.profiledir', 'IPython.core.application', 'IPython.terminal', 'IPython.core.compilerop', 'IPython.core.error', 'IPython.utils.docs', 'IPython.utils.decorators', 'IPython.utils.text', 'IPython.core.magic_arguments', 'getopt', 'dataclasses', 'typing_extensions', 'IPython.core.display_functions', 'mimetypes', 'IPython.testing', 'IPython.testing.skipdoctest', 'IPython.core.display', 'IPython.lib', 'IPython.lib.display', 'IPython.display', 'IPython.utils.data', 'IPython.core.page', 'IPython.lib.pretty', 'IPython.utils.openpy', 'IPython.utils.dir2', 'IPython.utils.wildcard', 'pygments.lexers._mapping', 'pygments.modeline', 'pygments.lexers', 'pygments.filter', 'pygments.filters', 'pygments.regexopt', 'pygments.lexer', 'pygments.unistring', 'pygments.lexers.python', 'pygments.formatters.html', 'IPython.core.oinspect', 'IPython.core.inputtransformer2', 'IPython.core.magic', 'pickleshare', 'IPython.core.hooks', 'IPython.core.autocall', 'IPython.core.macro', 'IPython.core.splitinput', 'IPython.core.prefilter', 'IPython.core.alias', 'IPython.core.builtin_trap', 'IPython.core.displayhook', 'IPython.core.displaypub', 'backcall.backcall', 'backcall', 'IPython.core.events', 'IPython.core.extensions', 'decorator', 'IPython.utils.sentinel', 'IPython.core.formatters', '_sqlite3', 'sqlite3.dbapi2', 'sqlite3', 'IPython.core.history', 'IPython.core.logger', 'IPython.core.payload', 'IPython.core.usage', 'IPython.utils.capture', 'IPython.utils.io', 'IPython.utils.strdispatch', 'IPython.utils.syspathcontext', 'IPython.core.async_helpers', 'IPython.core.interactiveshell', 'prompt_toolkit.application.current', 'prompt_toolkit.eventloop.utils', 'prompt_toolkit.eventloop.async_generator', 'prompt_toolkit.eventloop.inputhook', 'prompt_toolkit.eventloop', 'prompt_toolkit.application.run_in_terminal', 'prompt_toolkit.selection', 'prompt_toolkit.clipboard.base', 'prompt_toolkit.clipboard.in_memory', 'prompt_toolkit.clipboard', 'prompt_toolkit.cache', 'prompt_toolkit.enums', 'prompt_toolkit.filters.base', 'prompt_toolkit.filters.app', 'prompt_toolkit.filters.cli', 'prompt_toolkit.filters.utils', 'prompt_toolkit.filters', 'prompt_toolkit.document', 'prompt_toolkit.auto_suggest', 'prompt_toolkit.keys', 'prompt_toolkit.key_binding.key_bindings', 'wcwidth.table_wide', 'wcwidth.table_zero', 'wcwidth.unicode_versions', 'wcwidth.wcwidth', 'wcwidth', 'prompt_toolkit.utils', 'prompt_toolkit.key_binding.key_processor', 'prompt_toolkit.key_binding', 'prompt_toolkit.key_binding.vi_state', 'prompt_toolkit.cursor_shapes', 'prompt_toolkit.data_structures', 'prompt_toolkit.styles.base', 'prompt_toolkit.styles.named_colors', 'prompt_toolkit.styles.style', 'prompt_toolkit.styles.defaults', 'prompt_toolkit.styles.pygments', 'colorsys', 'prompt_toolkit.styles.style_transformation', 'prompt_toolkit.styles', 'prompt_toolkit.output.color_depth', 'prompt_toolkit.output.base', 'prompt_toolkit.output.flush_stdout', 'prompt_toolkit.output.plain_text', 'prompt_toolkit.output.defaults', 'prompt_toolkit.output', 'prompt_toolkit.output.vt100', 'prompt_toolkit.mouse_events', 'prompt_toolkit.formatted_text.base', 'prompt_toolkit.formatted_text.ansi', 'xml', 'xml.dom.domreg', 'xml.dom', 'xml.dom.minicompat', 'xml.dom.NodeFilter', 'xml.dom.xmlbuilder', 'xml.dom.minidom', 'prompt_toolkit.formatted_text.html', 'prompt_toolkit.formatted_text.pygments', 'prompt_toolkit.formatted_text.utils', 'prompt_toolkit.formatted_text', 'prompt_toolkit.completion.base', 'prompt_toolkit.completion.deduplicate', 'prompt_toolkit.completion.filesystem', 'prompt_toolkit.completion.word_completer', 'prompt_toolkit.completion.fuzzy_completer', 'prompt_toolkit.completion.nested', 'prompt_toolkit.completion', 'prompt_toolkit.history', 'prompt_toolkit.search', 'prompt_toolkit.validation', 'prompt_toolkit.buffer', 'prompt_toolkit.input.base', 'prompt_toolkit.input.defaults', 'prompt_toolkit.input', 'prompt_toolkit.input.typeahead', 'prompt_toolkit.key_binding.bindings', 'prompt_toolkit.key_binding.bindings.scroll', 'prompt_toolkit.key_binding.bindings.page_navigation', 'prompt_toolkit.lexers.base', 'prompt_toolkit.lexers.pygments', 'prompt_toolkit.lexers', 'prompt_toolkit.layout.utils', 'prompt_toolkit.layout.processors', 'prompt_toolkit.layout.controls', 'prompt_toolkit.layout.dimension', 'prompt_toolkit.layout.margins', 'prompt_toolkit.layout.mouse_handlers', 'prompt_toolkit.layout.screen', 'prompt_toolkit.layout.containers', 'prompt_toolkit.layout.layout', 'prompt_toolkit.layout.menus', 'prompt_toolkit.layout.scrollable_pane', 'prompt_toolkit.layout', 'prompt_toolkit.key_binding.bindings.completion', 'prompt_toolkit.key_binding.bindings.named_commands', 'prompt_toolkit.key_binding.bindings.basic', 'prompt_toolkit.key_binding.bindings.cpr', 'prompt_toolkit.key_binding.bindings.emacs', 'prompt_toolkit.key_binding.bindings.mouse', 'prompt_toolkit.input.ansi_escape_sequences', 'prompt_toolkit.input.vt100_parser', 'prompt_toolkit.key_binding.digraphs', 'prompt_toolkit.key_binding.bindings.vi', 'prompt_toolkit.key_binding.defaults', 'prompt_toolkit.key_binding.emacs_state', 'prompt_toolkit.layout.dummy', 'prompt_toolkit.renderer', 'prompt_toolkit.application.application', 'prompt_toolkit.application.dummy', 'prompt_toolkit.application', 'prompt_toolkit.key_binding.bindings.focus', 'prompt_toolkit.widgets.toolbars', 'prompt_toolkit.widgets.base', 'prompt_toolkit.widgets.dialogs', 'prompt_toolkit.widgets.menus', 'prompt_toolkit.widgets', 'prompt_toolkit.shortcuts.dialogs', 'prompt_toolkit.shortcuts.progress_bar.formatters', 'prompt_toolkit.shortcuts.progress_bar.base', 'prompt_toolkit.shortcuts.progress_bar', 'prompt_toolkit.key_binding.bindings.auto_suggest', 'prompt_toolkit.key_binding.bindings.open_in_editor', 'prompt_toolkit.shortcuts.prompt', 'prompt_toolkit.shortcuts.utils', 'prompt_toolkit.shortcuts', 'prompt_toolkit', 'prompt_toolkit.patch_stdout', 'unicodedata', 'IPython.core.guarded_eval', 'IPython.core.latex_symbols', 'IPython.utils.generics', 'parso._compatibility', 'parso.utils', 'parso.tree', 'parso.python', 'parso.python.token', 'parso.python.tokenize', 'parso.pgen2.grammar_parser', 'parso.pgen2.generator', 'parso.pgen2', 'parso.parser', 'difflib', 'parso.python.prefix', 'parso.python.tree', 'parso.python.parser', 'parso.python.diff', 'gc', 'parso.cache', 'parso.normalizer', 'parso.python.errors', 'parso.python.pep8', 'parso.file_io', 'parso.grammar', 'parso', 'jedi.file_io', 'jedi._compatibility', 'jedi.parser_utils', 'jedi.debug', 'jedi.settings', 'jedi.cache', 'jedi.inference.cache', 'jedi.inference.helpers', 'jedi.inference.utils', 'jedi.inference.base_value', 'jedi.common', 'jedi.inference.sys_path', 'jedi.inference.recursion', 'jedi.inference.flow_analysis', 'jedi.inference.lazy_value', 'jedi.inference.docstrings', 'jedi.plugins', 'jedi.inference.names', 'jedi.inference.filters', 'jedi.inference.compiled.getattr_static', 'jedi.inference.compiled.access', 'jedi.inference.signature', 'jedi.inference.context', 'jedi.inference.compiled.value', 'jedi.inference.compiled', 'jedi.inference.analysis', 'jedi.inference.gradual', 'jedi.inference.value.module', 'jedi.inference.value.dynamic_arrays', 'jedi.inference.value.iterable', 'jedi.inference.arguments', 'jedi.inference.parser_cache', 'jedi.inference.gradual.generics', 'jedi.inference.value.function', 'jedi.inference.value.klass', 'jedi.inference.value.instance', 'jedi.inference.value', 'jedi.inference.gradual.base', 'jedi.inference.gradual.type_var', 'jedi.inference.gradual.typing', 'jedi.inference.gradual.stub_value', 'jedi.inference.gradual.typeshed', 'jedi.inference.imports', 'jedi.inference.param', 'jedi.inference.gradual.annotation', 'jedi.inference.value.decorator', 'jedi.inference.syntax_tree', 'jedi.inference', 'jedi.inference.gradual.conversion', 'jedi.inference.compiled.mixed', 'pydoc_data', 'pydoc_data.topics', 'jedi.api.keywords', 'jedi.api.completion_cache', 'jedi.api.helpers', 'jedi.api.classes', 'jedi.api.interpreter', 'jedi.api.strings', 'jedi.api.file_name', 'jedi.api.completion', 'filecmp', 'jedi.inference.compiled.subprocess.functions', 'jedi.api.exceptions', 'jedi.inference.compiled.subprocess', 'jedi.api.environment', 'jedi.inference.references', 'jedi.api.project', 'jedi.api.errors', 'jedi.api.refactoring', 'jedi.api.refactoring.extract', 'jedi.inference.gradual.utils', 'jedi.api', 'jedi.plugins.stdlib', 'jedi.plugins.flask', 'jedi.plugins.pytest', 'jedi.plugins.django', 'jedi.plugins.registry', 'jedi', 'IPython.core.completer', 'IPython.terminal.ptutils', 'IPython.terminal.shortcuts.auto_match', 'IPython.utils.tokenutil', 'IPython.terminal.shortcuts.auto_suggest', 'IPython.terminal.shortcuts.filters', 'IPython.terminal.shortcuts', 'concurrent.futures.thread', 'IPython.terminal.debugger', 'IPython.lib.clipboard', 'IPython.terminal.magics', 'IPython.terminal.pt_inputhooks', 'IPython.terminal.prompts', 'IPython.terminal.interactiveshell', 'IPython.core.magics.auto', 'IPython.core.magics.basic', 'http', 'email.feedparser', 'email.parser', 'http.client', 'urllib.response', 'urllib.error', '_scproxy', 'urllib.request', 'IPython.utils.contexts', 'IPython.core.magics.code', 'IPython.core.magics.config', 'IPython.core.magics.display', '_lsprof', 'profile', 'cProfile', 'pstats', 'timeit', 'IPython.utils.module_paths', 'IPython.utils.timing', 'IPython.core.magics.execution', 'IPython.core.magics.extension', 'IPython.core.magics.history', 'IPython.core.magics.logging', 'IPython.core.magics.namespace', 'IPython.core.magics.osm', 'IPython.core.magics.packaging', 'IPython.core.pylabtools', 'IPython.core.magics.pylab', 'IPython.core.magics.script', 'IPython.core.magics', 'IPython.core.shellapp', 'IPython.extensions', 'IPython.extensions.storemagic', 'IPython.terminal.ipapp', 'IPython.terminal.embed', 'IPython.utils.frame', 'IPython', 'ipykernel.control', 'ipykernel.heartbeat', 'ipykernel.iostream', 'comm.base_comm', 'comm', 'ipykernel.jsonutil', 'psutil._common', 'psutil._compat', 'psutil._psposix', 'psutil._psutil_osx', 'psutil._psutil_posix', 'psutil._psosx', 'psutil', 'tornado.gen', 'tornado.locks', 'tornado.queues', 'ipykernel.kernelbase', 'ipykernel.comm.comm', 'ipykernel.comm.manager', 'ipykernel.comm', 'ipykernel.compiler', 'debugpy._version', 'debugpy.public_api', 'debugpy', 'debugpy._vendored._util', 'debugpy._vendored', '_pydevd_bundle', 'encodings.ascii', 'stringprep', 'encodings.idna', '_pydevd_bundle.pydevd_vm_type', '_pydev_bundle', 'xmlrpc', 'xml.parsers', 'pyexpat.errors', 'pyexpat.model', 'pyexpat', 'xml.parsers.expat.model', 'xml.parsers.expat.errors', 'xml.parsers.expat', 'gzip', 'xmlrpc.client', 'http.server', 'xmlrpc.server', '_pydev_bundle._pydev_saved_modules', '_pydevd_bundle.pydevd_constants', '_pydev_runfiles', '_pydevd_frame_eval', 'pydev_ipython', 'plistlib', 'pkg_resources.extern', 'pkg_resources._vendor', 'pkg_resources._vendor.jaraco', 'pkg_resources.extern.jaraco', 'importlib.resources', 'pkg_resources._vendor.zipp', 'pkg_resources._vendor.importlib_resources._compat', 'pkg_resources._vendor.importlib_resources.abc', 'pkg_resources._vendor.importlib_resources._common', 'pkg_resources._vendor.importlib_resources._legacy', 'pkg_resources._vendor.importlib_resources', 'pkg_resources.extern.importlib_resources', 'pkg_resources._vendor.more_itertools.recipes', 'pkg_resources._vendor.more_itertools.more', 'pkg_resources._vendor.more_itertools', 'pkg_resources.extern.more_itertools', 'pkg_resources.extern.jaraco.functools', 'pkg_resources.extern.jaraco.context', 'pkg_resources.extern.jaraco.text', 'pkg_resources._vendor.appdirs', 'pkg_resources.extern.appdirs', 'pkg_resources._vendor.packaging.__about__', 'pkg_resources._vendor.packaging', 'pkg_resources.extern.packaging', 'pkg_resources.extern.packaging._structures', 'pkg_resources.extern.packaging.version', 'pkg_resources._vendor.packaging._manylinux', 'pkg_resources._vendor.packaging._musllinux', 'pkg_resources.extern.packaging.tags', 'pkg_resources.extern.packaging.utils', 'pkg_resources.extern.packaging.specifiers', 'pkg_resources._vendor.pyparsing.util', 'pkg_resources._vendor.pyparsing.unicode', 'pkg_resources._vendor.pyparsing.exceptions', 'pkg_resources._vendor.pyparsing.actions', 'pkg_resources._vendor.pyparsing.results', 'pkg_resources._vendor.pyparsing.core', 'pkg_resources._vendor.pyparsing.helpers', 'pkg_resources._vendor.pyparsing.testing', 'pkg_resources._vendor.pyparsing.common', 'pkg_resources._vendor.pyparsing', 'pkg_resources.extern.pyparsing', 'pkg_resources.extern.packaging.markers', 'pkg_resources.extern.packaging.requirements', 'encodings.cp437', 'pkg_resources', 'pydevd_plugins', '_pydev_bundle.pydev_log', '_pydev_bundle._pydev_filesystem_encoding', '_pydevd_bundle.pydevd_comm_constants', 'pydevd_file_utils', '_pydev_bundle._pydev_execfile', '_pydevd_bundle.pydevd_exec2', '_pydev_bundle.pydev_imports', '_pydev_bundle.pydev_is_thread_alive', '_pydev_bundle.pydev_override', 'pydevd_plugins.extensions', '_pydevd_bundle.pydevd_extension_utils', '_pydevd_bundle.pydevd_frame_utils', '_pydevd_bundle.pydevd_filtering', '_pydevd_bundle.pydevd_io', '_pydevd_bundle.pydevd_defaults', '_pydevd_bundle.pydevd_utils', '_pydevd_bundle.pydevd_runpy', '_pydev_bundle._pydev_tipper_common', '_pydev_bundle._pydev_imports_tipper', '_pydev_bundle._pydev_calltip_util', '_pydevd_bundle.pydevd_safe_repr', '_pydevd_bundle.pydevd_resolver', '_pydevd_bundle.pydevd_extension_api', '_pydevd_bundle.pydevd_xml', '_pydevd_bundle.pydevd_dont_trace', '_pydevd_frame_eval.vendored', '_pydevd_frame_eval.vendored.bytecode.flags', '_pydevd_frame_eval.vendored.bytecode.instr', '_pydevd_frame_eval.vendored.bytecode.bytecode', '_pydevd_frame_eval.vendored.bytecode.concrete', '_pydevd_frame_eval.vendored.bytecode.cfg', '_pydevd_frame_eval.vendored.bytecode', '_pydevd_bundle.pydevd_bytecode_utils', '_pydevd_bundle.pydevd_cython', '_pydevd_bundle.pydevd_cython_wrapper', '_pydevd_bundle.pydevd_additional_thread_info', '_pydevd_bundle.pydevd_thread_lifecycle', '_pydevd_bundle.pydevd_save_locals', '_pydev_bundle.pydev_monkey', 'pydevd_tracing', '_pydevd_bundle.pydevd_collect_bytecode_info', '_pydevd_bundle.pydevd_daemon_thread', '_pydevd_bundle.pydevd_timeout', '_pydevd_bundle.pydevd_vars', '_pydev_bundle.pydev_console_utils', '_pydevd_bundle.pydevd_import_class', '_pydevd_bundle.pydevd_breakpoints', '_pydevd_bundle.pydevd_custom_frames', '_pydevd_bundle.pydevd_dont_trace_files', '_pydevd_bundle.pydevd_net_command', '_pydevd_bundle.pydevconsole_code', '_pydev_bundle.pydev_umd', 'pydevconsole', '_pydev_bundle._pydev_completer', '_pydevd_bundle.pydevd_net_command_factory_xml', '_pydevd_bundle.pydevd_frame', '_pydevd_bundle.pydevd_additional_thread_info_regular', '_pydevd_bundle.pydevd_trace_dispatch', '_pydevd_frame_eval.pydevd_frame_eval_main', '_pydevd_bundle.pydevd_source_mapping', '_pydevd_bundle.pydevd_concurrency_analyser', '_pydevd_bundle.pydevd_concurrency_analyser.pydevd_thread_wrappers', '_pydevd_bundle.pydevd_concurrency_analyser.pydevd_concurrency_logger', '_pydevd_bundle._debug_adapter', '_pydevd_bundle._debug_adapter.pydevd_schema_log', '_pydevd_bundle._debug_adapter.pydevd_base_schema', '_pydevd_bundle._debug_adapter.pydevd_schema', '_pydevd_bundle.pydevd_reload', '_pydev_bundle.fsnotify', '_pydevd_bundle.pydevd_console', '_pydevd_bundle.pydevd_comm', '_pydevd_bundle.pydevd_net_command_factory_json', '_pydevd_bundle.pydevd_api', '_pydevd_bundle.pydevd_json_debug_options', '_pydevd_bundle.pydevd_process_net_command_json', '_pydevd_bundle.pydevd_traceproperty', '_pydevd_bundle.pydevd_process_net_command', '_pydevd_bundle.pydevd_suspended_frames', '_pydevd_bundle.pydevd_trace_api', 'pydevd_plugins.pydevd_line_validation', 'pydevd_plugins.django_debug', 'pydevd_plugins.jinja2_debug', '_pydevd_bundle.pydevd_plugin_utils', 'pydevd_plugins.extensions.types', 'pydevd_plugins.extensions.types.pydevd_helpers', 'pydevd_plugins.extensions.types.pydevd_plugin_numpy_types', 'pydevd_plugins.extensions.types.pydevd_plugin_pandas_types', 'pydevd_plugins.extensions.types.pydevd_plugins_django_form_str', 'pydevd', 'debugpy._vendored.force_pydevd', 'debugpy.server', 'debugpy.adapter', 'debugpy.common', 'debugpy.common.json', 'debugpy.common.timestamp', 'debugpy.common.util', 'debugpy.common.log', 'debugpy.common.sockets', 'debugpy.server.api', 'ipykernel.debugger', 'packaging.__about__', 'packaging', 'packaging._structures', 'packaging.version', 'ipykernel.eventloops', 'IPython.core.payloadpage', 'ipykernel.displayhook', 'ipykernel.zmqshell', 'ipykernel.ipkernel', 'ipykernel.parentpoller', 'ipykernel.kernelapp', 'tornado.platform', 'tornado.platform.asyncio', 'faulthandler', 'IPython.core.completerlib', 'setuptools._distutils', 'distutils.debug', 'distutils.errors', 'distutils.fancy_getopt', 'distutils.dep_util', 'distutils._log', 'distutils.spawn', 'distutils.util', 'distutils.dist', 'distutils.dir_util', 'distutils.file_util', 'distutils.archive_util', 'distutils.cmd', 'configparser', 'distutils.config', 'distutils.extension', 'distutils.core', '_distutils_hack.override', 'setuptools._deprecation_warning', 'setuptools.version', 'distutils.filelist', 'setuptools.monkey', 'setuptools.extension', 'distutils.log', 'distutils.command', 'setuptools.extern', 'setuptools._vendor', 'setuptools._vendor.packaging.__about__', 'setuptools._vendor.packaging', 'setuptools.extern.packaging', 'setuptools._vendor.ordered_set', 'setuptools.extern.ordered_set', 'setuptools._vendor.more_itertools.recipes', 'setuptools._vendor.more_itertools.more', 'setuptools._vendor.more_itertools', 'setuptools.extern.more_itertools', 'setuptools._vendor.zipp', 'setuptools._vendor.importlib_metadata._functools', 'setuptools._vendor.importlib_metadata._text', 'setuptools._vendor.importlib_metadata._adapters', 'setuptools._vendor.importlib_metadata._compat', 'setuptools._vendor.importlib_metadata._meta', 'setuptools._vendor.importlib_metadata._collections', 'setuptools._vendor.importlib_metadata._itertools', 'setuptools._vendor.importlib_metadata', 'setuptools.extern.importlib_metadata', 'setuptools._vendor.importlib_resources._compat', 'setuptools._vendor.importlib_resources.abc', 'setuptools._vendor.importlib_resources._common', 'setuptools._vendor.importlib_resources._legacy', 'setuptools._vendor.importlib_resources', 'setuptools.extern.importlib_resources', 'setuptools._importlib', 'distutils.command.bdist', 'setuptools.command', 'setuptools.windows_support', 'setuptools._vendor.pyparsing.util', 'setuptools._vendor.pyparsing.unicode', 'setuptools._vendor.pyparsing.exceptions', 'setuptools._vendor.pyparsing.actions', 'setuptools._vendor.pyparsing.results', 'setuptools._vendor.pyparsing.core', 'setuptools._vendor.pyparsing.helpers', 'setuptools._vendor.pyparsing.testing', 'setuptools._vendor.pyparsing.common', 'setuptools._vendor.pyparsing', 'setuptools.extern.pyparsing', 'setuptools._vendor.packaging._manylinux', 'setuptools._vendor.packaging._musllinux', 'setuptools.extern.packaging.tags', 'setuptools.extern.packaging._structures', 'setuptools.extern.packaging.version', 'setuptools.extern.packaging.utils', 'setuptools.extern.packaging.specifiers', 'setuptools.extern.packaging.markers', 'setuptools.extern.packaging.requirements', 'setuptools._path', 'setuptools.config.expand', 'setuptools.config.setupcfg', 'setuptools.config', 'setuptools.errors', 'email._header_value_parser', 'email.headerregistry', 'setuptools.config._apply_pyprojecttoml', 'setuptools.config.pyprojecttoml', 'setuptools.discovery', 'setuptools._vendor.jaraco', 'setuptools.extern.jaraco', 'setuptools.extern.jaraco.functools', 'setuptools.extern.jaraco.context', 'setuptools.extern.jaraco.text', 'setuptools._reqs', 'setuptools._itertools', 'setuptools._entry_points', 'setuptools.dist', 'setuptools.py34compat', 'setuptools._imp', 'setuptools.depends', 'setuptools.logging', 'setuptools.msvc', 'setuptools', 'distutils', 'distutils.version', 'ctypes.macholib', 'ctypes.macholib.framework', 'ctypes.macholib.dylib', 'ctypes.macholib.dyld', 'ctypes.util', 'appnope._nope', 'appnope', 'zenq', 'importlib.metadata', 'sqlalchemy.util.compat', 'sqlalchemy.cimmutabledict', 'sqlalchemy.util._collections', 'sqlalchemy.util._preloaded', 'greenlet._greenlet', 'greenlet', 'sqlalchemy.exc', 'sqlalchemy.util.langhelpers', 'sqlalchemy.util._concurrency_py3k', 'sqlalchemy.util.concurrency', 'sqlalchemy.util.deprecations', 'sqlalchemy.util', 'sqlalchemy.sql.roles', 'sqlalchemy.sql.visitors', 'sqlalchemy.sql.operators', 'sqlalchemy.inspection', 'sqlalchemy.sql.traversals', 'sqlalchemy.sql.base', 'sqlalchemy.sql.coercions', 'sqlalchemy.sql.type_api', 'sqlalchemy.sql.annotation', 'sqlalchemy.sql.elements', 'sqlalchemy.event.legacy', 'sqlalchemy.event.registry', 'sqlalchemy.event.attr', 'sqlalchemy.event.base', 'sqlalchemy.event.api', 'sqlalchemy.event', 'sqlalchemy.cprocessors', 'sqlalchemy.processors', 'sqlalchemy.sql.sqltypes', 'sqlalchemy.types', 'sqlalchemy.util.topological', 'sqlalchemy.sql.ddl', 'sqlalchemy.sql.selectable', 'sqlalchemy.sql.schema', 'sqlalchemy.sql.util', 'sqlalchemy.sql.dml', 'sqlalchemy.sql.crud', 'sqlalchemy.sql.functions', 'sqlalchemy.sql.compiler', 'sqlalchemy.sql.lambdas', 'sqlalchemy.sql.expression', 'sqlalchemy.sql.events', 'sqlalchemy.sql.naming', 'sqlalchemy.sql.default_comparator', 'sqlalchemy.sql', 'sqlalchemy.engine.interfaces', 'sqlalchemy.engine.util', 'sqlalchemy.log', 'sqlalchemy.engine.base', 'sqlalchemy.engine.events', 'sqlalchemy.dialects', 'sqlalchemy.engine.url', 'sqlalchemy.engine.mock', 'sqlalchemy.pool.base', 'sqlalchemy.pool.events', 'sqlalchemy.util.queue', 'sqlalchemy.pool.impl', 'sqlalchemy.pool.dbapi_proxy', 'sqlalchemy.pool', 'sqlalchemy.engine.create', 'sqlalchemy.cresultproxy', 'sqlalchemy.engine.row', 'sqlalchemy.engine.result', 'sqlalchemy.engine.cursor', 'sqlalchemy.engine.reflection', 'sqlalchemy.engine', 'sqlalchemy.schema', 'sqlalchemy.events', 'sqlalchemy.engine.characteristics', 'sqlalchemy.engine.default', 'sqlalchemy', 'lifetimes.version', 'dill.__info__', 'dill.logger', '_pyio', 'multiprocessing.process', 'multiprocessing.reduction', 'multiprocessing.context', '__mp_main__', 'multiprocessing', 'dill._shims', 'dill.settings', 'dill._dill', 'dill.session', 'dill.pointers', 'dill.detect', 'dill.source', 'dill.temp', 'dill.objtypes', 'dill', 'numpy._globals', 'numpy.__config__', 'numpy.version', 'mkl._mklinit', 'mkl._py_mkl_service', 'mkl', 'numpy._distributor_init', 'numpy.core._multiarray_umath', 'numpy.compat._inspect', 'numpy.compat.py3k', 'numpy.compat', 'numpy.core.overrides', 'numpy.core.multiarray', 'numpy.core.umath', 'numpy.core._string_helpers', 'numpy.core._dtype', 'numpy.core._type_aliases', 'numpy.core.numerictypes', 'numpy.core._asarray', 'numpy.core._exceptions', 'numpy.core._methods', 'numpy.core.fromnumeric', 'numpy.core.shape_base', 'numpy.core._ufunc_config', 'numpy.core.arrayprint', 'numpy.core.numeric', 'numpy.core.defchararray', 'numpy.core.records', 'numpy.core.memmap', 'numpy.core.function_base', 'numpy.core.machar', 'numpy.core.getlimits', 'numpy.core.einsumfunc', 'numpy.core._multiarray_tests', 'numpy.core._add_newdocs', 'numpy.core._add_newdocs_scalars', 'numpy.core._dtype_ctypes', 'numpy.core._internal', 'numpy._pytesttester', 'numpy.core', 'numpy.lib.mixins', 'numpy.lib.ufunclike', 'numpy.lib.type_check', 'numpy.lib.scimath', 'numpy.lib.twodim_base', 'numpy.linalg.lapack_lite', 'numpy.linalg._umath_linalg', 'numpy.linalg.linalg', 'numpy.linalg', 'numpy.matrixlib.defmatrix', 'numpy.matrixlib', 'numpy.lib.histograms', 'numpy.lib.function_base', 'numpy.lib.stride_tricks', 'numpy.lib.index_tricks', 'numpy.lib.nanfunctions', 'numpy.lib.shape_base', 'numpy.lib.polynomial', 'numpy.lib.utils', 'numpy.lib.arraysetops', 'numpy.lib.format', 'numpy.lib._datasource', 'numpy.lib._iotools', 'numpy.lib.npyio', 'numpy.lib.arrayterator', 'numpy.lib.arraypad', 'numpy.lib._version', 'numpy.lib', 'numpy.fft._pocketfft_internal', 'numpy.fft._pocketfft', 'numpy.fft.helper', 'numpy.fft', 'numpy.polynomial.polyutils', 'numpy.polynomial._polybase', 'numpy.polynomial.polynomial', 'numpy.polynomial.chebyshev', 'numpy.polynomial.legendre', 'numpy.polynomial.hermite', 'numpy.polynomial.hermite_e', 'numpy.polynomial.laguerre', 'numpy.polynomial', '_cython_0_29_23', 'numpy.random._common', 'secrets', 'numpy.random.bit_generator', 'numpy.random._bounded_integers', 'numpy.random._mt19937', 'numpy.random.mtrand', 'numpy.random._philox', 'numpy.random._pcg64', 'numpy.random._sfc64', 'numpy.random._generator', 'numpy.random._pickle', 'numpy.random', 'numpy.ctypeslib', 'numpy.ma.core', 'numpy.ma.extras', 'numpy.ma', 'numpy', 'pytz.exceptions', 'pytz.lazy', 'pytz.tzinfo', 'pytz.tzfile', 'pytz', 'mmap', 'pandas._typing', 'pandas.compat', 'pandas.compat.numpy', '_cython_0_29_22', 'pandas._libs.tslibs.dtypes', 'pandas._libs.tslibs.base', 'pandas._libs.tslibs.np_datetime', 'pandas._libs.tslibs.nattype', 'pandas._libs.tslibs.timezones', 'pandas._libs.tslibs.ccalendar', 'pandas._libs.tslibs.tzconversion', 'pandas._libs.tslibs.timedeltas', 'pandas._config.config', 'pandas._config.dates', 'pandas._config.display', 'pandas._config', 'pandas._config.localization', 'pandas._libs.tslibs.strptime', 'pandas._libs.tslibs.fields', 'pandas._libs.tslibs.timestamps', 'dateutil.easter', 'pandas._libs.properties', 'pandas._libs.tslibs.offsets', 'pandas._libs.tslibs.parsing', 'pandas._libs.tslibs.conversion', 'pandas._libs.tslibs.period', 'pandas._libs.tslibs.vectorized', 'pandas._libs.tslibs', 'pandas._libs.ops_dispatch', 'pandas._libs.missing', 'pandas._libs.hashtable', 'pandas._libs.algos', 'pandas._libs.interval', 'pandas._libs', 'pandas._libs.tslib', 'pandas._libs.lib', 'pandas.core', 'pandas.core.config_init', 'pandas.core.dtypes', 'pandas.errors', 'pandas.core.dtypes.generic', 'pandas.core.dtypes.base', 'pandas.core.dtypes.inference', 'pandas.core.dtypes.dtypes', 'pandas.core.dtypes.common', 'pandas.core.dtypes.missing', 'pandas.util._decorators', 'pandas.core.util', 'pandas._libs.hashing', 'pandas.core.util.hashing', 'pandas.util', 'pandas.util._validators', 'pandas.core.dtypes.cast', 'pandas.core.common', 'pandas.core.construction', 'pandas.core.indexers', 'pandas.core.algorithms', 'pandas.compat.numpy.function', 'pandas._libs.ops', 'pandas.core.ops.roperator', 'pandas.core.ops.missing', 'pandas.core.ops.dispatch', 'pandas.core.ops.invalid', 'pandas.core.ops.array_ops', 'pandas.core.ops.common', 'pandas.core.ops.docstrings', 'pandas.core.ops.mask_ops', 'pandas.core.ops.methods', 'pandas.core.ops', 'pandas.compat._optional', 'pandas.core.missing', 'pandas.core.sorting', 'pandas.core.arrays.base', 'bottleneck.reduce', 'bottleneck.nonreduce', 'bottleneck.nonreduce_axis', 'bottleneck.move', 'bottleneck.slow.reduce', 'bottleneck.slow.nonreduce', 'bottleneck.slow.nonreduce_axis', 'bottleneck.slow.move', 'bottleneck.slow', 'bottleneck.benchmark', 'bottleneck.benchmark.autotimeit', 'bottleneck.benchmark.bench', 'bottleneck.benchmark.bench_detailed', 'bottleneck.tests', 'bottleneck.tests.util', 'bottleneck._pytesttester', 'bottleneck._version', 'bottleneck', 'pandas.core.nanops', 'pandas.core.array_algos', 'pandas.core.array_algos.masked_reductions', 'pandas.core.arraylike', 'pandas.core.arrays.masked', 'pandas.core.arrays.boolean', 'pandas.core.accessor', 'pandas.core.array_algos.transforms', 'pandas.core.arrays._mixins', 'pandas.core.base', 'pandas.core.strings.accessor', 'pandas.core.strings.base', 'pandas.core.strings', 'pandas.core.strings.object_array', 'pandas.io', 'pandas.io.formats', 'pandas.io.formats.console', 'pandas.core.arrays.categorical', 'pandas.tseries', 'pandas.tseries.frequencies', 'pandas.core.arrays.datetimelike', 'pandas.core.arrays._ranges', 'pandas.tseries.offsets', 'pandas.core.arrays.datetimes', 'pandas.core.tools', 'pandas.core.tools.numeric', 'pandas.core.arrays.numeric', 'pandas.core.arrays.floating', 'pandas.core.arrays.integer', 'pandas.core.indexes', 'pandas._libs.index', 'pandas._libs.join', 'pandas._libs.sparse', 'pandas.core.arrays.sparse.dtype', 'pandas.io.formats.printing', 'pandas.core.arrays.sparse.array', 'pandas.core.arrays.sparse.accessor', 'pandas.core.arrays.sparse', 'pandas.core.dtypes.concat', 'pandas.core.indexes.frozen', 'pandas.core.indexes.base', 'pandas.core.arrays.interval', 'pandas.core.arrays.numpy_', 'pandas.core.arrays.period', 'pandas.core.arrays.string_', 'pandas.core.arrays.timedeltas', 'pandas.core.arrays', 'pandas.core.flags', 'pandas._libs.reduction', 'pandas.core.indexes.extension', 'pandas.core.indexes.category', 'pandas.core.indexes.numeric', 'pandas.core.tools.timedeltas', 'pandas.core.indexes.datetimelike', 'pandas.core.tools.times', 'pandas.core.indexes.datetimes', 'pandas.util._exceptions', 'pandas.core.indexes.multi', 'pandas.core.indexes.timedeltas', 'pandas.core.indexes.interval', 'pandas.core.indexes.period', 'pandas.core.indexes.range', 'pandas.core.indexes.api', 'pandas.core.aggregation', 'pandas._libs.indexing', 'pandas.core.indexing', 'pandas._libs.internals', 'pandas._libs.writers', 'pandas.core.array_algos.replace', 'pandas.core.internals.blocks', 'pandas.core.internals.ops', 'pandas.core.internals.managers', 'pandas.core.internals.concat', 'pandas.core.internals', 'pandas.core.shared_docs', 'pandas._libs.window', 'pandas._libs.window.aggregations', 'pandas.core.util.numba_', 'pandas.core.window.common', 'pandas._libs.window.indexers', 'pandas.core.window.indexers', 'pandas.core.window.numba_', 'pandas.core.groupby.base', 'pandas.core.window.rolling', 'pandas.core.window.ewm', 'pandas.core.window.expanding', 'pandas.core.window', 'pandas.core.reshape', 'pandas.core.reshape.concat', 'pandas.io.common', 'pandas.io.formats.format', 'pandas.core.generic', 'pandas.core.internals.construction', 'pandas.core.reshape.util', 'pandas.core.reshape.melt', 'pandas._libs.reshape', 'pandas.core.indexes.accessors', 'pandas.arrays', 'pandas.core.tools.datetimes', 'pandas.plotting._core', 'pandas.plotting._misc', 'pandas.plotting', 'pandas.core.series', 'pandas.io.formats.info', 'pandas.core.frame', 'pandas._libs.groupby', 'pandas.core.groupby.numba_', 'pandas.core.groupby.categorical', 'pandas.core.groupby.grouper', 'pandas.core.groupby.ops', 'pandas.core.groupby.groupby', 'pandas.core.groupby.generic', 'pandas.core.groupby', 'pandas.core.api', 'pandas.tseries.api', 'pandas.core.computation', 'pandas.core.computation.common', 'pandas.core.computation.align', 'pandas.compat.chainmap', 'pandas.core.computation.scope', 'pandas.core.computation.ops', 'pandas.core.computation.engines', 'pandas.core.computation.parsing', 'pandas.core.computation.expr', 'pandas.core.computation.eval', 'pandas.core.computation.api', 'pandas.core.reshape.merge', 'pandas.core.reshape.pivot', 'pandas.core.reshape.reshape', 'pandas.core.reshape.tile', 'pandas.core.reshape.api', 'pandas.api.extensions', 'pandas.api.indexers', 'pandas.core.dtypes.api', 'pandas.api.types', 'pandas.api', 'pandas.util._print_versions', 'pandas.io.clipboards', 'pandas._libs.parsers', 'pandas.io.excel._util', 'pandas.io.date_converters', 'pandas.io.parsers', 'pandas.io.excel._odfreader', 'pandas.io.excel._openpyxl', 'pandas.io.excel._pyxlsb', 'pandas.io.excel._xlrd', 'pandas.io.excel._base', 'pandas._libs.json', 'pandas.io.formats._color_data', 'pandas.io.formats.css', 'pandas.io.formats.excel', 'pandas.io.excel._odswriter', 'pandas.io.excel._xlsxwriter', 'pandas.io.excel._xlwt', 'pandas.io.excel', 'pandas.io.feather_format', 'pandas.io.gbq', 'pandas.io.html', 'pandas.io.json._normalize', 'pandas.io.json._table_schema', 'pandas.io.json._json', 'pandas.io.json', 'pandas.io.orc', 'pandas.io.parquet', 'pandas.compat.pickle_compat', 'pandas.io.pickle', 'pandas.core.computation.pytables', 'pandas.io.pytables', 'pandas.io.sas.sasreader', 'pandas.io.sas', 'pandas.io.spss', 'pandas.io.sql', 'pandas.io.stata', 'pandas.io.api', 'pandas.util._tester', 'cmath', 'pandas._libs.testing', 'pandas._testing', 'pandas.testing', 'pandas._version', 'pandas', 'scipy._lib._testutils', 'scipy._lib', 'scipy._lib.deprecation', 'scipy.__config__', 'scipy.version', 'scipy._distributor_init', 'scipy._lib._pep440', 'scipy._lib._ccallback_c', 'scipy._lib._ccallback', 'scipy', 'scipy.optimize.minpack2', 'scipy.optimize.linesearch', 'scipy._lib._util', 'scipy.sparse.sputils', 'scipy.sparse.base', 'scipy.sparse._sparsetools', 'scipy.sparse.data', 'scipy.sparse.dia', 'scipy.sparse._index', 'scipy.sparse.compressed', 'scipy.sparse.csr', 'scipy.sparse.csc', 'scipy.sparse._csparsetools', 'scipy.sparse.lil', 'scipy.sparse.dok', 'scipy.sparse.coo', 'scipy.sparse.bsr', 'scipy.sparse.construct', 'scipy.sparse.extract', 'scipy.sparse._matrix_io', 'scipy.sparse.csgraph._laplacian', 'scipy.sparse.csgraph._tools', 'scipy.sparse.csgraph._validation', 'scipy.sparse.csgraph._shortest_path', 'scipy.sparse.csgraph._traversal', 'scipy.sparse.csgraph._min_spanning_tree', 'scipy.sparse.csgraph._flow', 'scipy.sparse.csgraph._matching', 'scipy.sparse.csgraph._reordering', 'scipy.sparse.csgraph', 'scipy.sparse', 'scipy.sparse.linalg.isolve._iterative', 'scipy.sparse.linalg.interface', 'scipy.sparse.linalg.isolve.utils', 'scipy._lib.decorator', 'scipy._lib._threadsafety', 'scipy.sparse.linalg.isolve.iterative', 'scipy.sparse.linalg.isolve.minres', 'scipy.linalg._fblas', 'scipy.linalg.blas', 'scipy.linalg._flapack', 'scipy.linalg.lapack', 'scipy.linalg.misc', 'scipy.linalg._flinalg', 'scipy.linalg.flinalg', 'scipy.linalg.decomp', 'scipy.linalg.decomp_svd', 'scipy.linalg._solve_toeplitz', 'scipy.linalg.basic', 'scipy.linalg.decomp_lu', 'scipy.linalg._decomp_ldl', 'scipy.linalg.decomp_cholesky', 'scipy.linalg.decomp_qr', 'scipy.linalg._decomp_qz', 'scipy.linalg.decomp_schur', 'scipy.linalg._decomp_polar', 'scipy.linalg.special_matrices', 'scipy.linalg._expm_frechet', 'scipy.linalg._matfuncs_sqrtm_triu', 'scipy.linalg._matfuncs_sqrtm', 'scipy.linalg.matfuncs', 'scipy.linalg._solvers', 'scipy.linalg._procrustes', 'scipy.linalg.cython_blas', 'scipy.linalg.cython_lapack', 'scipy.linalg._decomp_update', 'scipy.linalg._sketches', 'scipy.linalg._decomp_cossin', 'scipy.linalg', 'scipy.sparse.linalg.isolve._gcrotmk', 'scipy.sparse.linalg.isolve.lgmres', 'scipy.sparse.linalg.isolve.lsqr', 'scipy.sparse.linalg.isolve.lsmr', 'scipy.sparse.linalg.isolve', 'scipy.sparse.linalg.dsolve._superlu', 'scipy.sparse.linalg.dsolve.linsolve', 'scipy.sparse.linalg.dsolve._add_newdocs', 'scipy.sparse.linalg.dsolve', 'scipy.sparse.linalg.eigen.arpack._arpack', 'scipy.sparse.linalg.eigen.lobpcg.lobpcg', 'scipy.sparse.linalg.eigen.lobpcg', 'scipy.sparse.linalg.eigen.arpack.arpack', 'scipy.sparse.linalg.eigen.arpack', 'scipy.sparse.linalg.eigen', 'scipy.special.sf_error', 'scipy.special._ufuncs_cxx', 'scipy.special._ufuncs', 'scipy.special.specfun', 'scipy.special.orthogonal', 'scipy.special._comb', 'scipy.special._basic', 'scipy.special._logsumexp', 'scipy.special.spfun_stats', 'scipy.special._ellip_harm_2', 'scipy.special._ellip_harm', 'scipy.special._lambertw', 'scipy.special._spherical_bessel', 'scipy.special', 'scipy.sparse.linalg._expm_multiply', 'scipy.sparse.linalg.matfuncs', 'scipy.sparse.linalg._onenormest', 'scipy.sparse.linalg._norm', 'scipy.sparse.linalg', 'scipy.optimize._group_columns', 'scipy.optimize._numdiff', 'scipy.optimize._hessian_update_strategy', 'scipy.optimize._differentiable_functions', 'scipy.optimize.optimize', 'scipy.optimize._trustregion', 'scipy.optimize._trustregion_dogleg', 'scipy.optimize._trustregion_ncg', 'scipy._lib.messagestream', 'scipy.optimize._trlib._trlib', 'scipy.optimize._trlib', 'scipy.optimize._trustregion_krylov', 'scipy.optimize._trustregion_exact', 'unittest.util', 'unittest.result', 'unittest.case', 'unittest.async_case', 'unittest.suite', 'unittest.loader', 'unittest.signals', 'unittest.runner', 'unittest.main', 'unittest', 'numpy.testing._private', 'numpy.testing._private.utils', 'numpy.testing._private.decorators', 'numpy.testing._private.nosetester', 'numpy.testing', 'scipy.optimize._constraints', 'scipy.optimize._trustregion_constr.projections', 'scipy.optimize._trustregion_constr.qp_subproblem', 'scipy.optimize._trustregion_constr.equality_constrained_sqp', 'scipy.optimize._trustregion_constr.canonical_constraint', 'scipy.optimize._trustregion_constr.tr_interior_point', 'scipy.optimize._trustregion_constr.report', 'scipy.optimize._trustregion_constr.minimize_trustregion_constr', 'scipy.optimize._trustregion_constr', 'scipy.optimize._lbfgsb', 'scipy.optimize.lbfgsb', 'scipy.optimize.moduleTNC', 'scipy.optimize.tnc', 'scipy.optimize._cobyla', 'scipy.optimize.cobyla', 'scipy.optimize._slsqp', 'scipy.optimize.slsqp', 'scipy.optimize._minimize', 'scipy.optimize._minpack', 'scipy.optimize._lsq.common', 'scipy.optimize._lsq.trf', 'scipy.optimize._lsq.dogbox', 'scipy.optimize._lsq.least_squares', 'scipy.optimize._lsq.givens_elimination', 'scipy.optimize._lsq.trf_linear', 'scipy.optimize._lsq.bvls', 'scipy.optimize._lsq.lsq_linear', 'scipy.optimize._lsq', 'scipy.optimize.minpack', 'scipy.optimize._spectral', 'scipy.optimize.nonlin', 'scipy.optimize._root', 'scipy.optimize._zeros', 'scipy.optimize.zeros', 'scipy.optimize._root_scalar', 'scipy.optimize.__nnls', 'scipy.optimize._nnls', 'scipy.optimize._basinhopping', 'scipy.optimize._highs', 'scipy.optimize._highs.cython.src._highs_wrapper', 'scipy.optimize._highs._highs_wrapper', 'scipy.optimize._highs.cython.src._highs_constants', 'scipy.optimize._highs._highs_constants', 'scipy.optimize._linprog_highs', 'scipy.linalg._interpolative', 'scipy.linalg._interpolative_backend', 'scipy.linalg.interpolative', 'scipy.optimize._remove_redundancy', 'scipy.optimize._linprog_util', 'scipy.optimize._linprog_ip', 'scipy.optimize._linprog_simplex', 'scipy.optimize._bglu_dense', 'scipy.optimize._linprog_rs', 'scipy.optimize._linprog_doc', 'scipy.optimize._linprog', 'scipy.optimize._lsap_module', 'scipy.optimize._lsap', 'scipy.optimize._differentialevolution', 'scipy.spatial.ckdtree', 'scipy.spatial.kdtree', 'scipy.spatial.qhull', 'scipy.spatial._voronoi', 'scipy.spatial._spherical_voronoi', 'scipy.spatial._plotutils', 'scipy.spatial._procrustes', 'scipy.spatial._distance_wrap', 'scipy.spatial._hausdorff', 'scipy.spatial.distance', 'scipy.spatial._geometric_slerp', 'scipy.constants.codata', 'scipy.constants.constants', 'scipy.constants', 'scipy.spatial.transform._rotation_groups', 'scipy.spatial.transform.rotation', 'scipy.spatial.transform._rotation_spline', 'scipy.spatial.transform', 'scipy.spatial', 'scipy.optimize._shgo_lib', 'scipy.optimize._shgo_lib.sobol_seq', 'scipy.optimize._shgo_lib.triangulation', 'scipy.optimize._shgo', 'scipy.optimize._dual_annealing', 'scipy.optimize._qap', 'scipy.optimize', 'autograd.util', 'autograd.wrap_util', 'future', 'future.utils', 'autograd.tracer', 'autograd.core', 'autograd.extend', 'autograd.builtins', 'autograd.numpy.numpy_wrapper', 'autograd.numpy.numpy_boxes', 'autograd.numpy.numpy_vspaces', 'autograd.numpy.numpy_vjps', 'autograd.numpy.numpy_jvps', 'autograd.numpy.linalg', 'autograd.numpy.fft', 'autograd.numpy.random', 'autograd.numpy', 'autograd.differential_operators', 'autograd', 'lifetimes.utils', 'lifetimes.fitters', 'scipy.integrate._quadrature', 'scipy.integrate._odepack', 'scipy.integrate.odepack', 'scipy.integrate._quadpack', 'scipy.integrate.quadpack', 'scipy.integrate.vode', 'scipy.integrate._dop', 'scipy.integrate.lsoda', 'scipy.integrate._ode', 'scipy.integrate._bvp', 'scipy.integrate._ivp.common', 'scipy.integrate._ivp.base', 'scipy.integrate._ivp.bdf', 'scipy.integrate._ivp.radau', 'scipy.integrate._ivp.dop853_coefficients', 'scipy.integrate._ivp.rk', 'scipy.integrate._ivp.lsoda', 'scipy.integrate._ivp.ivp', 'scipy.integrate._ivp', 'scipy.integrate._quad_vec', 'scipy.integrate', 'autograd.misc.tracers', 'autograd.misc.flatten', 'autograd.misc', 'autograd.scipy.integrate', 'autograd.scipy.signal', 'autograd.scipy.special', 'scipy.ndimage._ni_support', 'scipy.ndimage._nd_image', 'scipy._lib.doccer', 'scipy.ndimage._ni_docstrings', 'scipy.ndimage.filters', 'scipy.ndimage.fourier', 'scipy.ndimage.interpolation', '_ni_label', 'scipy.ndimage._ni_label', 'scipy.ndimage.morphology', 'scipy.ndimage.measurements', 'scipy.ndimage', 'scipy.stats._distr_params', 'scipy.misc.doccer', 'scipy.misc.common', 'scipy.misc', 'scipy.stats._constants', 'scipy.stats._distn_infrastructure', 'scipy.interpolate._fitpack', 'scipy.interpolate.dfitpack', 'scipy.interpolate._fitpack_impl', 'scipy.interpolate._bspl', 'scipy.interpolate._bsplines', 'scipy.interpolate.fitpack', 'scipy.interpolate.polyint', 'scipy.interpolate._ppoly', 'scipy.interpolate.fitpack2', 'scipy.interpolate.interpnd', 'scipy.interpolate.interpolate', 'scipy.interpolate.rbf', 'scipy.interpolate._cubic', 'scipy.interpolate.ndgriddata', 'scipy.interpolate._pade', 'scipy.interpolate', 'scipy.special.cython_special', 'scipy.stats._stats', 'scipy.stats._rvs_sampling', 'scipy.stats._tukeylambda_stats', 'scipy.stats._ksstats', 'scipy.stats._continuous_distns', 'scipy.stats._discrete_distns', 'scipy.stats.distributions', 'scipy._lib._bunch', 'scipy.stats._stats_mstats_common', 'scipy.stats.mstats_basic', 'scipy.stats._wilcoxon_data', 'scipy.stats._hypotests', 'scipy.stats.stats', 'scipy.stats.statlib', 'scipy.stats.contingency', 'scipy.stats.morestats', 'scipy.stats._binned_statistic', 'scipy.stats.mvn', 'scipy.stats.kde', 'scipy.stats.mstats_extras', 'scipy.stats.mstats', 'scipy.stats._multivariate', 'scipy.stats', 'autograd.scipy.stats.chi2', 'autograd.scipy.stats.beta', 'autograd.scipy.stats.gamma', 'autograd.scipy.stats.norm', 'autograd.scipy.stats.poisson', 'autograd.scipy.stats.t', 'autograd.scipy.stats.multivariate_normal', 'autograd.scipy.stats.dirichlet', 'autograd.scipy.stats', 'autograd.scipy.misc', 'autograd.scipy', 'lifetimes.generate_data', 'lifetimes.fitters.beta_geo_fitter', 'lifetimes.fitters.beta_geo_beta_binom_fitter', 'lifetimes.fitters.modified_beta_geo_fitter', 'lifetimes.fitters.pareto_nbd_fitter', 'lifetimes.fitters.gamma_gamma_fitter', 'lifetimes', 'sqlalchemy.orm.exc', 'sqlalchemy.orm.base', 'sqlalchemy.orm.collections', 'sqlalchemy.orm.path_registry', 'sqlalchemy.orm.interfaces', 'sqlalchemy.orm.attributes', 'sqlalchemy.orm.state', 'sqlalchemy.orm.instrumentation', 'sqlalchemy.orm.util', 'sqlalchemy.orm.strategy_options', 'sqlalchemy.future.engine', 'sqlalchemy.future', 'sqlalchemy.orm.loading', 'sqlalchemy.orm.descriptor_props', 'sqlalchemy.orm.relationships', 'sqlalchemy.orm.properties', 'sqlalchemy.orm.mapper', 'sqlalchemy.orm.context', 'sqlalchemy.orm.clsregistry', 'sqlalchemy.orm.decl_base', 'sqlalchemy.orm.decl_api', 'sqlalchemy.orm.identity', 'sqlalchemy.orm.query', 'sqlalchemy.orm.evaluator', 'sqlalchemy.orm.sync', 'sqlalchemy.orm.persistence', 'sqlalchemy.orm.unitofwork', 'sqlalchemy.orm.session', 'sqlalchemy.orm.scoping', 'sqlalchemy.orm.events', 'sqlalchemy.orm.strategies', 'sqlalchemy.orm.dynamic', 'sqlalchemy.orm.dependency', 'sqlalchemy.orm', 'sqlalchemy.ext', 'sqlalchemy.ext.declarative.extensions', 'sqlalchemy.ext.declarative', 'sqlalchemy_utils.compat', 'sqlalchemy_utils.utils', 'sqlalchemy.ext.hybrid', 'sqlalchemy_utils.functions.orm', 'sqlalchemy_utils.functions.database', 'sqlalchemy_utils.query_chain', 'sqlalchemy_utils.functions.foreign_keys', 'sqlalchemy_utils.functions.mock', 'sqlalchemy_utils.functions.render', 'sqlalchemy_utils.functions.sort_query', 'sqlalchemy_utils.functions', 'sqlalchemy_utils.relationships.chained_join', 'sqlalchemy_utils.relationships', 'sqlalchemy_utils.aggregates', 'sqlalchemy.dialects.postgresql.array', 'sqlalchemy.dialects.postgresql.hstore', 'sqlalchemy.dialects.postgresql.json', 'sqlalchemy.dialects.postgresql.ranges', 'sqlalchemy.dialects.postgresql.base', 'sqlalchemy.dialects.postgresql.pg8000', 'sqlalchemy.dialects.postgresql.psycopg2', 'sqlalchemy.dialects.postgresql.psycopg2cffi', 'sqlalchemy.dialects.postgresql.pygresql', 'sqlalchemy.dialects.postgresql.pypostgresql', 'sqlalchemy.dialects.postgresql.ext', 'sqlalchemy.dialects.postgresql.dml', 'sqlalchemy.dialects.postgresql.asyncpg', 'sqlalchemy.dialects.postgresql', 'sqlalchemy_utils.asserts', 'sqlalchemy_utils.exceptions', 'sqlalchemy.ext.compiler', 'sqlalchemy_utils.expressions', 'sqlalchemy_utils.generic', 'babel._compat', 'babel.localedata', 'babel.plural', 'babel.core', 'babel', 'babel.localtime._unix', 'babel.localtime', 'babel.util', 'babel.dates', 'sqlalchemy_utils.i18n', 'sqlalchemy_utils.listeners', 'sqlalchemy_utils.models', 'sqlalchemy_utils.path', 'sqlalchemy_utils.observer', 'sqlalchemy_utils.primitives.country', 'sqlalchemy_utils.primitives.currency', 'sqlalchemy_utils.primitives.ltree', 'sqlalchemy_utils.primitives.weekday', 'sqlalchemy_utils.primitives.weekdays', 'sqlalchemy_utils.primitives', 'sqlalchemy_utils.proxy_dict', 'arrow._version', 'arrow.locales', 'arrow.constants', 'arrow.formatter', 'dateutil.rrule', 'arrow.util', 'arrow.parser', 'arrow.arrow', 'arrow.factory', 'arrow.api', 'arrow', 'sqlalchemy_utils.types.enriched_datetime.arrow_datetime', 'pendulum.__version__', 'pendulum.constants', 'pendulum.parsing.exceptions', 'pendulum.parsing._iso8601', 'pendulum.parsing', 'pendulum.exceptions', 'pendulum.locales', 'pendulum.utils', 'pendulum.utils._compat', 'pendulum.locales.locale', 'pendulum.formatting.formatter', 'pendulum.formatting', 'pendulum.formatting.difference_formatter', 'pendulum._extensions', 'pendulum._extensions._helpers', 'pendulum.locales.en', 'pendulum.locales.en.custom', 'pendulum.locales.en.locale', 'pendulum.helpers', 'pendulum.mixins', 'pendulum.mixins.default', 'pendulum.duration', 'pendulum.period', 'pendulum.date', 'pendulum.time', 'pytzdata._compat', 'pytzdata.exceptions', 'pytzdata._timezones', 'pytzdata', 'pendulum.tz.exceptions', 'pendulum.tz.zoneinfo.exceptions', 'pendulum.tz.zoneinfo.posix_timezone', 'pendulum.tz.zoneinfo.transition_type', 'pendulum.tz.zoneinfo.transition', 'pendulum.tz.zoneinfo.timezone', 'pendulum.tz.zoneinfo.reader', 'pendulum.tz.zoneinfo', 'pendulum.tz.timezone', 'pendulum.tz.local_timezone', 'pendulum.tz', 'pendulum.datetime', 'pendulum.parser', 'pendulum', 'sqlalchemy_utils.types.enriched_datetime.pendulum_datetime', 'sqlalchemy_utils.types.enriched_datetime.pendulum_date', 'sqlalchemy_utils.types.enriched_datetime', 'sqlalchemy_utils.types.scalar_coercible', 'sqlalchemy_utils.types.enriched_datetime.enriched_datetime_type', 'sqlalchemy_utils.types.arrow', 'sqlalchemy_utils.types.choice', 'colour', 'sqlalchemy_utils.types.color', 'sqlalchemy_utils.types.country', 'sqlalchemy_utils.types.currency', 'sqlalchemy_utils.operators', 'sqlalchemy_utils.types.email', 'sqlalchemy_utils.types.encrypted', 'sqlalchemy_utils.types.encrypted.padding', 'sqlalchemy_utils.types.json', 'cryptography.__about__', 'cryptography', 'cryptography.exceptions', 'cryptography.utils', 'cryptography.hazmat', 'cryptography.hazmat.backends', 'cryptography.hazmat.primitives', 'cryptography.hazmat.backends.interfaces', 'cryptography.hazmat.primitives.hashes', 'cryptography.hazmat.bindings', '_cffi_backend', '_padding.lib', '_padding', 'cryptography.hazmat.bindings._padding', 'cryptography.hazmat.primitives.padding', 'cryptography.hazmat.primitives._cipheralgorithm', 'cryptography.hazmat.primitives.ciphers.modes', 'cryptography.hazmat.primitives.ciphers.base', 'cryptography.hazmat.primitives.ciphers', 'cryptography.hazmat.primitives.ciphers.algorithms', 'cryptography.hazmat.primitives.hmac', 'cryptography.fernet', 'sqlalchemy_utils.types.encrypted.encrypted_type', 'sqlalchemy_utils.types.enriched_datetime.enriched_date_type', 'ipaddress', 'sqlalchemy_utils.types.ip_address', 'sqlalchemy_utils.types.locale', 'sqlalchemy_utils.types.ltree', 'sqlalchemy.dialects.oracle.base', 'sqlalchemy.dialects.oracle.cx_oracle', 'sqlalchemy.dialects.oracle', 'sqlalchemy.dialects.sqlite.json', 'sqlalchemy.dialects.sqlite.base', 'sqlalchemy.dialects.sqlite.pysqlite', 'sqlalchemy.dialects.sqlite.pysqlcipher', 'sqlalchemy.dialects.sqlite.dml', 'sqlalchemy.dialects.sqlite.aiosqlite', 'sqlalchemy.dialects.sqlite', 'sqlalchemy.ext.mutable', 'sqlalchemy_utils.types.password', 'psycopg2.errors', 'psycopg2._psycopg', 'psycopg2._json', 'psycopg2._range', 'psycopg2.extensions', 'psycopg2', 'psycopg2._ipaddress', 'psycopg2.extras', 'sqlalchemy_utils.types.pg_composite', 'sqlalchemy_utils.types.phone_number', 'sqlalchemy_utils.types.range', 'sqlalchemy_utils.types.scalar_list', 'sqlalchemy_utils.types.timezone', 'sqlalchemy_utils.types.ts_vector', 'sqlalchemy_utils.types.url', 'sqlalchemy.dialects.mssql.information_schema', 'sqlalchemy.dialects.mssql.json', 'sqlalchemy.dialects.mssql.base', 'sqlalchemy.connectors', 'sqlalchemy.connectors.pyodbc', 'sqlalchemy.dialects.mssql.pyodbc', 'sqlalchemy.connectors.mxodbc', 'sqlalchemy.dialects.mssql.mxodbc', 'sqlalchemy.dialects.mssql.pymssql', 'sqlalchemy.dialects.mssql', 'sqlalchemy_utils.types.uuid', 'sqlalchemy_utils.types.bit', 'sqlalchemy_utils.types.weekdays', 'sqlalchemy_utils.types', 'sqlalchemy_utils.view', 'sqlalchemy_utils', 'zenq.logger.logger', 'zenq.logger', 'zenq.api.tables', 'zenq.api.config', 'zenq.api.prepare_db', 'zenq.datapreparation.preparation', 'zenq.datapreparation', 'zenq.api.endpoints', 'zenq.api', 'zenq.clvmodels.pareto', 'zenq.clvmodels', 'zenq.visualizations', 'zenq.visualizations.plot', 'seaborn', 'seaborn.rcmod', 'matplotlib', 'matplotlib.cbook.deprecation', 'matplotlib.cbook', 'matplotlib._animation_data', 'matplotlib.animation', 'pyparsing', 'matplotlib.fontconfig_pattern', 'matplotlib.docstring', 'matplotlib._color_data', 'matplotlib.colors', 'cycler', 'matplotlib.rcsetup', 'matplotlib._version', 'matplotlib.ft2font', 'kiwisolver'] /__init__.py/1483/\n"
     ]
    },
    {
     "name": "stderr",
     "output_type": "stream",
     "text": [
      "/2023-05-07 20:21:08,672 / matplotlib / DEBUG / CACHEDIR=/Users/nareabgaryan/.matplotlib /__init__.py/241/\n",
      "/2023-05-07 20:21:08,675 / matplotlib.font_manager / DEBUG / Using fontManager instance from /Users/nareabgaryan/.matplotlib/fontlist-v330.json /font_manager.py/1436/\n",
      "/2023-05-07 20:21:08,795 / matplotlib.pyplot / DEBUG / Loaded backend module://matplotlib_inline.backend_inline version unknown. /pyplot.py/289/\n",
      "/2023-05-07 20:21:08,796 / matplotlib.pyplot / DEBUG / Loaded backend module://matplotlib_inline.backend_inline version unknown. /pyplot.py/289/\n",
      "\u001b[31;20m/2023-05-07 20:21:08,974 / tables.py / ERROR / connect_to_db/Failed to create schema 'initial' /tables.py/59/\u001b[0m\n",
      "/2023-05-07 20:21:08,974 / tables.py / ERROR / connect_to_db/Failed to create schema 'initial' /tables.py/59/\n",
      "\u001b[31;20m/2023-05-07 20:21:08,978 / tables.py / ERROR / connect_to_db/Failed to create schema 'result' /tables.py/66/\u001b[0m\n",
      "/2023-05-07 20:21:08,978 / tables.py / ERROR / connect_to_db/Failed to create schema 'result' /tables.py/66/\n"
     ]
    }
   ],
   "source": [
    "from zenq.api.prepare_db import db\n",
    "m=db()\n",
    "m.main()\n"
   ]
  },
  {
   "cell_type": "markdown",
   "metadata": {},
   "source": [
    "# Data Preparation"
   ]
  },
  {
   "cell_type": "code",
   "execution_count": 2,
   "metadata": {},
   "outputs": [],
   "source": [
    "from zenq.datapreparation.preparation import data_prep\n",
    "prep = data_prep()"
   ]
  },
  {
   "cell_type": "code",
   "execution_count": 3,
   "metadata": {},
   "outputs": [
    {
     "data": {
      "text/html": [
       "<div>\n",
       "<style scoped>\n",
       "    .dataframe tbody tr th:only-of-type {\n",
       "        vertical-align: middle;\n",
       "    }\n",
       "\n",
       "    .dataframe tbody tr th {\n",
       "        vertical-align: top;\n",
       "    }\n",
       "\n",
       "    .dataframe thead th {\n",
       "        text-align: right;\n",
       "    }\n",
       "</style>\n",
       "<table border=\"1\" class=\"dataframe\">\n",
       "  <thead>\n",
       "    <tr style=\"text-align: right;\">\n",
       "      <th></th>\n",
       "      <th>Customer</th>\n",
       "      <th>Date</th>\n",
       "      <th>Product_weight</th>\n",
       "      <th>Product_price</th>\n",
       "      <th>Gender</th>\n",
       "      <th>Branch/Locker</th>\n",
       "      <th>Location</th>\n",
       "      <th>InvoiceId</th>\n",
       "    </tr>\n",
       "  </thead>\n",
       "  <tbody>\n",
       "    <tr>\n",
       "      <th>0</th>\n",
       "      <td>RXZ350571</td>\n",
       "      <td>2022-09-01</td>\n",
       "      <td>4.40</td>\n",
       "      <td>24200.0</td>\n",
       "      <td>M</td>\n",
       "      <td>G-Location 1</td>\n",
       "      <td>Yerevan</td>\n",
       "      <td>INV-101</td>\n",
       "    </tr>\n",
       "    <tr>\n",
       "      <th>1</th>\n",
       "      <td>ZFZ316415</td>\n",
       "      <td>2022-09-01</td>\n",
       "      <td>5.86</td>\n",
       "      <td>35160.0</td>\n",
       "      <td>M</td>\n",
       "      <td>G-Location 2</td>\n",
       "      <td>Yerevan</td>\n",
       "      <td>INV-102</td>\n",
       "    </tr>\n",
       "    <tr>\n",
       "      <th>2</th>\n",
       "      <td>KPR936365</td>\n",
       "      <td>2022-09-01</td>\n",
       "      <td>3.76</td>\n",
       "      <td>30080.0</td>\n",
       "      <td>M</td>\n",
       "      <td>G-Location 2</td>\n",
       "      <td>Yerevan</td>\n",
       "      <td>INV-103</td>\n",
       "    </tr>\n",
       "    <tr>\n",
       "      <th>3</th>\n",
       "      <td>PBI351070</td>\n",
       "      <td>2022-09-01</td>\n",
       "      <td>2.74</td>\n",
       "      <td>21920.0</td>\n",
       "      <td>F</td>\n",
       "      <td>G-Location 3</td>\n",
       "      <td>Yerevan</td>\n",
       "      <td>INV-104</td>\n",
       "    </tr>\n",
       "    <tr>\n",
       "      <th>4</th>\n",
       "      <td>RFI100548</td>\n",
       "      <td>2022-09-01</td>\n",
       "      <td>5.99</td>\n",
       "      <td>35940.0</td>\n",
       "      <td>M</td>\n",
       "      <td>G-Location 2</td>\n",
       "      <td>Yerevan</td>\n",
       "      <td>INV-105</td>\n",
       "    </tr>\n",
       "  </tbody>\n",
       "</table>\n",
       "</div>"
      ],
      "text/plain": [
       "    Customer        Date  Product_weight  Product_price Gender Branch/Locker  \\\n",
       "0  RXZ350571  2022-09-01            4.40        24200.0      M  G-Location 1   \n",
       "1  ZFZ316415  2022-09-01            5.86        35160.0      M  G-Location 2   \n",
       "2  KPR936365  2022-09-01            3.76        30080.0      M  G-Location 2   \n",
       "3  PBI351070  2022-09-01            2.74        21920.0      F  G-Location 3   \n",
       "4  RFI100548  2022-09-01            5.99        35940.0      M  G-Location 2   \n",
       "\n",
       "  Location InvoiceId  \n",
       "0  Yerevan   INV-101  \n",
       "1  Yerevan   INV-102  \n",
       "2  Yerevan   INV-103  \n",
       "3  Yerevan   INV-104  \n",
       "4  Yerevan   INV-105  "
      ]
     },
     "execution_count": 3,
     "metadata": {},
     "output_type": "execute_result"
    }
   ],
   "source": [
    "prep.read_data('globbing.csv')"
   ]
  },
  {
   "cell_type": "markdown",
   "metadata": {},
   "source": [
    "## Shape of data"
   ]
  },
  {
   "cell_type": "code",
   "execution_count": 4,
   "metadata": {},
   "outputs": [
    {
     "data": {
      "text/plain": [
       "((22000, 8),\n",
       " ['Customer',\n",
       "  'Date',\n",
       "  'Product_weight',\n",
       "  'Product_price',\n",
       "  'Gender',\n",
       "  'Branch/Locker',\n",
       "  'Location',\n",
       "  'InvoiceId'])"
      ]
     },
     "execution_count": 4,
     "metadata": {},
     "output_type": "execute_result"
    }
   ],
   "source": [
    "prep.shape()"
   ]
  },
  {
   "cell_type": "markdown",
   "metadata": {},
   "source": [
    "## Info of data"
   ]
  },
  {
   "cell_type": "code",
   "execution_count": 5,
   "metadata": {},
   "outputs": [
    {
     "name": "stdout",
     "output_type": "stream",
     "text": [
      "<class 'pandas.core.frame.DataFrame'>\n",
      "RangeIndex: 22000 entries, 0 to 21999\n",
      "Data columns (total 8 columns):\n",
      " #   Column          Non-Null Count  Dtype  \n",
      "---  ------          --------------  -----  \n",
      " 0   Customer        22000 non-null  object \n",
      " 1   Date            22000 non-null  object \n",
      " 2   Product_weight  22000 non-null  float64\n",
      " 3   Product_price   22000 non-null  float64\n",
      " 4   Gender          22000 non-null  object \n",
      " 5   Branch/Locker   22000 non-null  object \n",
      " 6   Location        22000 non-null  object \n",
      " 7   InvoiceId       22000 non-null  object \n",
      "dtypes: float64(2), object(6)\n",
      "memory usage: 1.3+ MB\n"
     ]
    }
   ],
   "source": [
    "prep.info()"
   ]
  },
  {
   "cell_type": "markdown",
   "metadata": {},
   "source": [
    "## Number of duplicates"
   ]
  },
  {
   "cell_type": "code",
   "execution_count": 6,
   "metadata": {},
   "outputs": [
    {
     "data": {
      "text/plain": [
       "0"
      ]
     },
     "execution_count": 6,
     "metadata": {},
     "output_type": "execute_result"
    }
   ],
   "source": [
    "prep.num_of_duplicate()"
   ]
  },
  {
   "cell_type": "markdown",
   "metadata": {},
   "source": [
    "## Number of null values"
   ]
  },
  {
   "cell_type": "code",
   "execution_count": 7,
   "metadata": {},
   "outputs": [
    {
     "data": {
      "text/plain": [
       "Customer          0\n",
       "Date              0\n",
       "Product_weight    0\n",
       "Product_price     0\n",
       "Gender            0\n",
       "Branch/Locker     0\n",
       "Location          0\n",
       "InvoiceId         0\n",
       "dtype: int64"
      ]
     },
     "execution_count": 7,
     "metadata": {},
     "output_type": "execute_result"
    }
   ],
   "source": [
    "prep.num_of_null()"
   ]
  },
  {
   "cell_type": "markdown",
   "metadata": {},
   "source": [
    "## Number of unique values in specified column"
   ]
  },
  {
   "cell_type": "code",
   "execution_count": 8,
   "metadata": {},
   "outputs": [
    {
     "data": {
      "text/plain": [
       "2"
      ]
     },
     "execution_count": 8,
     "metadata": {},
     "output_type": "execute_result"
    }
   ],
   "source": [
    "prep.num_of_unique_in_column('Gender')\n"
   ]
  },
  {
   "cell_type": "markdown",
   "metadata": {},
   "source": [
    "## Final Data"
   ]
  },
  {
   "cell_type": "code",
   "execution_count": 9,
   "metadata": {},
   "outputs": [
    {
     "name": "stderr",
     "output_type": "stream",
     "text": [
      "/2023-05-06 23:11:05,279 / numexpr.utils / INFO / NumExpr defaulting to 8 threads. /utils.py/157/\n"
     ]
    },
    {
     "data": {
      "text/html": [
       "<div>\n",
       "<style scoped>\n",
       "    .dataframe tbody tr th:only-of-type {\n",
       "        vertical-align: middle;\n",
       "    }\n",
       "\n",
       "    .dataframe tbody tr th {\n",
       "        vertical-align: top;\n",
       "    }\n",
       "\n",
       "    .dataframe thead th {\n",
       "        text-align: right;\n",
       "    }\n",
       "</style>\n",
       "<table border=\"1\" class=\"dataframe\">\n",
       "  <thead>\n",
       "    <tr style=\"text-align: right;\">\n",
       "      <th></th>\n",
       "      <th>Customer</th>\n",
       "      <th>Date</th>\n",
       "      <th>Product_weight</th>\n",
       "      <th>Product_price</th>\n",
       "      <th>Gender</th>\n",
       "      <th>Branch/Locker</th>\n",
       "      <th>Location</th>\n",
       "      <th>InvoiceId</th>\n",
       "    </tr>\n",
       "  </thead>\n",
       "  <tbody>\n",
       "    <tr>\n",
       "      <th>0</th>\n",
       "      <td>RXZ350571</td>\n",
       "      <td>2022-09-01</td>\n",
       "      <td>4.40</td>\n",
       "      <td>24200.0</td>\n",
       "      <td>M</td>\n",
       "      <td>G-Location 1</td>\n",
       "      <td>Yerevan</td>\n",
       "      <td>INV-101</td>\n",
       "    </tr>\n",
       "    <tr>\n",
       "      <th>1</th>\n",
       "      <td>ZFZ316415</td>\n",
       "      <td>2022-09-01</td>\n",
       "      <td>5.86</td>\n",
       "      <td>35160.0</td>\n",
       "      <td>M</td>\n",
       "      <td>G-Location 2</td>\n",
       "      <td>Yerevan</td>\n",
       "      <td>INV-102</td>\n",
       "    </tr>\n",
       "    <tr>\n",
       "      <th>2</th>\n",
       "      <td>KPR936365</td>\n",
       "      <td>2022-09-01</td>\n",
       "      <td>3.76</td>\n",
       "      <td>30080.0</td>\n",
       "      <td>M</td>\n",
       "      <td>G-Location 2</td>\n",
       "      <td>Yerevan</td>\n",
       "      <td>INV-103</td>\n",
       "    </tr>\n",
       "    <tr>\n",
       "      <th>3</th>\n",
       "      <td>PBI351070</td>\n",
       "      <td>2022-09-01</td>\n",
       "      <td>2.74</td>\n",
       "      <td>21920.0</td>\n",
       "      <td>F</td>\n",
       "      <td>G-Location 3</td>\n",
       "      <td>Yerevan</td>\n",
       "      <td>INV-104</td>\n",
       "    </tr>\n",
       "    <tr>\n",
       "      <th>4</th>\n",
       "      <td>RFI100548</td>\n",
       "      <td>2022-09-01</td>\n",
       "      <td>5.99</td>\n",
       "      <td>35940.0</td>\n",
       "      <td>M</td>\n",
       "      <td>G-Location 2</td>\n",
       "      <td>Yerevan</td>\n",
       "      <td>INV-105</td>\n",
       "    </tr>\n",
       "    <tr>\n",
       "      <th>...</th>\n",
       "      <td>...</td>\n",
       "      <td>...</td>\n",
       "      <td>...</td>\n",
       "      <td>...</td>\n",
       "      <td>...</td>\n",
       "      <td>...</td>\n",
       "      <td>...</td>\n",
       "      <td>...</td>\n",
       "    </tr>\n",
       "    <tr>\n",
       "      <th>21995</th>\n",
       "      <td>QAC630422</td>\n",
       "      <td>2023-04-08</td>\n",
       "      <td>4.09</td>\n",
       "      <td>22495.0</td>\n",
       "      <td>F</td>\n",
       "      <td>G-Location 5</td>\n",
       "      <td>Yerevan</td>\n",
       "      <td>INV-22096</td>\n",
       "    </tr>\n",
       "    <tr>\n",
       "      <th>21996</th>\n",
       "      <td>MUN988629</td>\n",
       "      <td>2023-04-08</td>\n",
       "      <td>4.34</td>\n",
       "      <td>26040.0</td>\n",
       "      <td>F</td>\n",
       "      <td>G-Location 5</td>\n",
       "      <td>Yerevan</td>\n",
       "      <td>INV-22097</td>\n",
       "    </tr>\n",
       "    <tr>\n",
       "      <th>21997</th>\n",
       "      <td>QRO989642</td>\n",
       "      <td>2023-04-08</td>\n",
       "      <td>5.16</td>\n",
       "      <td>10320.0</td>\n",
       "      <td>M</td>\n",
       "      <td>G-Location 2</td>\n",
       "      <td>Yerevan</td>\n",
       "      <td>INV-22098</td>\n",
       "    </tr>\n",
       "    <tr>\n",
       "      <th>21998</th>\n",
       "      <td>NTW716871</td>\n",
       "      <td>2023-04-08</td>\n",
       "      <td>1.39</td>\n",
       "      <td>8340.0</td>\n",
       "      <td>F</td>\n",
       "      <td>G-Location 1</td>\n",
       "      <td>Yerevan</td>\n",
       "      <td>INV-22099</td>\n",
       "    </tr>\n",
       "    <tr>\n",
       "      <th>21999</th>\n",
       "      <td>FYN433456</td>\n",
       "      <td>2023-04-08</td>\n",
       "      <td>1.93</td>\n",
       "      <td>10615.0</td>\n",
       "      <td>F</td>\n",
       "      <td>G-Location 3</td>\n",
       "      <td>Yerevan</td>\n",
       "      <td>INV-22100</td>\n",
       "    </tr>\n",
       "  </tbody>\n",
       "</table>\n",
       "<p>22000 rows × 8 columns</p>\n",
       "</div>"
      ],
      "text/plain": [
       "        Customer        Date  Product_weight  Product_price Gender  \\\n",
       "0      RXZ350571  2022-09-01            4.40        24200.0      M   \n",
       "1      ZFZ316415  2022-09-01            5.86        35160.0      M   \n",
       "2      KPR936365  2022-09-01            3.76        30080.0      M   \n",
       "3      PBI351070  2022-09-01            2.74        21920.0      F   \n",
       "4      RFI100548  2022-09-01            5.99        35940.0      M   \n",
       "...          ...         ...             ...            ...    ...   \n",
       "21995  QAC630422  2023-04-08            4.09        22495.0      F   \n",
       "21996  MUN988629  2023-04-08            4.34        26040.0      F   \n",
       "21997  QRO989642  2023-04-08            5.16        10320.0      M   \n",
       "21998  NTW716871  2023-04-08            1.39         8340.0      F   \n",
       "21999  FYN433456  2023-04-08            1.93        10615.0      F   \n",
       "\n",
       "      Branch/Locker Location  InvoiceId  \n",
       "0      G-Location 1  Yerevan    INV-101  \n",
       "1      G-Location 2  Yerevan    INV-102  \n",
       "2      G-Location 2  Yerevan    INV-103  \n",
       "3      G-Location 3  Yerevan    INV-104  \n",
       "4      G-Location 2  Yerevan    INV-105  \n",
       "...             ...      ...        ...  \n",
       "21995  G-Location 5  Yerevan  INV-22096  \n",
       "21996  G-Location 5  Yerevan  INV-22097  \n",
       "21997  G-Location 2  Yerevan  INV-22098  \n",
       "21998  G-Location 1  Yerevan  INV-22099  \n",
       "21999  G-Location 3  Yerevan  INV-22100  \n",
       "\n",
       "[22000 rows x 8 columns]"
      ]
     },
     "execution_count": 9,
     "metadata": {},
     "output_type": "execute_result"
    }
   ],
   "source": [
    "prep.final_data()"
   ]
  },
  {
   "cell_type": "markdown",
   "metadata": {},
   "source": [
    "# Insert Facts into database"
   ]
  },
  {
   "cell_type": "code",
   "execution_count": 10,
   "metadata": {},
   "outputs": [
    {
     "name": "stdout",
     "output_type": "stream",
     "text": [
      "Inserting facts for Customer from file csv\n"
     ]
    },
    {
     "name": "stderr",
     "output_type": "stream",
     "text": [
      "\u001b[38;20m/2023-05-06 23:11:53,905 / endpoints.py / INFO / insert_facts/ Finished inserting facts. /endpoints.py/197/\u001b[0m\n",
      "/2023-05-06 23:11:53,905 / endpoints.py / INFO / insert_facts/ Finished inserting facts. /endpoints.py/197/\n"
     ]
    },
    {
     "data": {
      "text/plain": [
       "'Finished inserting facts'"
      ]
     },
     "execution_count": 10,
     "metadata": {},
     "output_type": "execute_result"
    }
   ],
   "source": [
    "from zenq.api.endpoints import insert_facts\n",
    "insert_facts('globbing.csv', 'Customer', 'Gender', 'InvoiceId', 'Date', 'Product_weight', 'Product_price')"
   ]
  },
  {
   "cell_type": "code",
   "execution_count": 11,
   "metadata": {},
   "outputs": [],
   "source": [
    "#inserting the logs into the empty LOGS table of GLOBBING database\n",
    "from zenq.api.endpoints import insert_logs_to_db\n",
    "insert_logs_to_db()"
   ]
  },
  {
   "cell_type": "markdown",
   "metadata": {},
   "source": [
    "\n",
    "# Define the Model and input data in result schema of database"
   ]
  },
  {
   "cell_type": "code",
   "execution_count": 12,
   "metadata": {},
   "outputs": [],
   "source": [
    "from zenq.clvmodels.pareto import Model\n",
    "model = Model()"
   ]
  },
  {
   "cell_type": "markdown",
   "metadata": {},
   "source": [
    "## Compute key metrics for CLV"
   ]
  },
  {
   "cell_type": "code",
   "execution_count": 13,
   "metadata": {},
   "outputs": [
    {
     "name": "stderr",
     "output_type": "stream",
     "text": [
      "\u001b[38;20m/2023-05-06 23:11:54,158 / pareto.py / INFO / cltv_df/ 1960 rows written to CLTV table /pareto.py/90/\u001b[0m\n",
      "/2023-05-06 23:11:54,158 / pareto.py / INFO / cltv_df/ 1960 rows written to CLTV table /pareto.py/90/\n"
     ]
    },
    {
     "data": {
      "text/html": [
       "<div>\n",
       "<style scoped>\n",
       "    .dataframe tbody tr th:only-of-type {\n",
       "        vertical-align: middle;\n",
       "    }\n",
       "\n",
       "    .dataframe tbody tr th {\n",
       "        vertical-align: top;\n",
       "    }\n",
       "\n",
       "    .dataframe thead th {\n",
       "        text-align: right;\n",
       "    }\n",
       "</style>\n",
       "<table border=\"1\" class=\"dataframe\">\n",
       "  <thead>\n",
       "    <tr style=\"text-align: right;\">\n",
       "      <th></th>\n",
       "      <th>customer_id</th>\n",
       "      <th>min_date</th>\n",
       "      <th>recency</th>\n",
       "      <th>T</th>\n",
       "      <th>frequency</th>\n",
       "      <th>monetary</th>\n",
       "    </tr>\n",
       "  </thead>\n",
       "  <tbody>\n",
       "    <tr>\n",
       "      <th>0</th>\n",
       "      <td>KVO444312</td>\n",
       "      <td>2022-09-13</td>\n",
       "      <td>163</td>\n",
       "      <td>235</td>\n",
       "      <td>14</td>\n",
       "      <td>255590.0</td>\n",
       "    </tr>\n",
       "    <tr>\n",
       "      <th>1</th>\n",
       "      <td>VBV804469</td>\n",
       "      <td>2022-09-04</td>\n",
       "      <td>200</td>\n",
       "      <td>244</td>\n",
       "      <td>14</td>\n",
       "      <td>310880.0</td>\n",
       "    </tr>\n",
       "    <tr>\n",
       "      <th>2</th>\n",
       "      <td>BAE240832</td>\n",
       "      <td>2022-09-13</td>\n",
       "      <td>196</td>\n",
       "      <td>235</td>\n",
       "      <td>3</td>\n",
       "      <td>39005.0</td>\n",
       "    </tr>\n",
       "    <tr>\n",
       "      <th>3</th>\n",
       "      <td>AOK457989</td>\n",
       "      <td>2022-09-14</td>\n",
       "      <td>189</td>\n",
       "      <td>234</td>\n",
       "      <td>5</td>\n",
       "      <td>111895.0</td>\n",
       "    </tr>\n",
       "    <tr>\n",
       "      <th>4</th>\n",
       "      <td>XZF813575</td>\n",
       "      <td>2022-09-05</td>\n",
       "      <td>179</td>\n",
       "      <td>243</td>\n",
       "      <td>11</td>\n",
       "      <td>223440.0</td>\n",
       "    </tr>\n",
       "    <tr>\n",
       "      <th>...</th>\n",
       "      <td>...</td>\n",
       "      <td>...</td>\n",
       "      <td>...</td>\n",
       "      <td>...</td>\n",
       "      <td>...</td>\n",
       "      <td>...</td>\n",
       "    </tr>\n",
       "    <tr>\n",
       "      <th>1956</th>\n",
       "      <td>DXT747575</td>\n",
       "      <td>2022-09-12</td>\n",
       "      <td>206</td>\n",
       "      <td>236</td>\n",
       "      <td>7</td>\n",
       "      <td>114810.0</td>\n",
       "    </tr>\n",
       "    <tr>\n",
       "      <th>1957</th>\n",
       "      <td>VOZ592840</td>\n",
       "      <td>2023-01-14</td>\n",
       "      <td>52</td>\n",
       "      <td>112</td>\n",
       "      <td>2</td>\n",
       "      <td>51295.0</td>\n",
       "    </tr>\n",
       "    <tr>\n",
       "      <th>1958</th>\n",
       "      <td>ZCQ782298</td>\n",
       "      <td>2022-09-13</td>\n",
       "      <td>207</td>\n",
       "      <td>235</td>\n",
       "      <td>20</td>\n",
       "      <td>465100.0</td>\n",
       "    </tr>\n",
       "    <tr>\n",
       "      <th>1959</th>\n",
       "      <td>YNW866090</td>\n",
       "      <td>2022-09-02</td>\n",
       "      <td>143</td>\n",
       "      <td>246</td>\n",
       "      <td>11</td>\n",
       "      <td>238605.0</td>\n",
       "    </tr>\n",
       "    <tr>\n",
       "      <th>1960</th>\n",
       "      <td>IFC198488</td>\n",
       "      <td>2022-09-17</td>\n",
       "      <td>189</td>\n",
       "      <td>231</td>\n",
       "      <td>6</td>\n",
       "      <td>174255.0</td>\n",
       "    </tr>\n",
       "  </tbody>\n",
       "</table>\n",
       "<p>1960 rows × 6 columns</p>\n",
       "</div>"
      ],
      "text/plain": [
       "     customer_id   min_date  recency    T  frequency  monetary\n",
       "0      KVO444312 2022-09-13      163  235         14  255590.0\n",
       "1      VBV804469 2022-09-04      200  244         14  310880.0\n",
       "2      BAE240832 2022-09-13      196  235          3   39005.0\n",
       "3      AOK457989 2022-09-14      189  234          5  111895.0\n",
       "4      XZF813575 2022-09-05      179  243         11  223440.0\n",
       "...          ...        ...      ...  ...        ...       ...\n",
       "1956   DXT747575 2022-09-12      206  236          7  114810.0\n",
       "1957   VOZ592840 2023-01-14       52  112          2   51295.0\n",
       "1958   ZCQ782298 2022-09-13      207  235         20  465100.0\n",
       "1959   YNW866090 2022-09-02      143  246         11  238605.0\n",
       "1960   IFC198488 2022-09-17      189  231          6  174255.0\n",
       "\n",
       "[1960 rows x 6 columns]"
      ]
     },
     "execution_count": 13,
     "metadata": {},
     "output_type": "execute_result"
    }
   ],
   "source": [
    "cltv = model.cltv_df()\n",
    "cltv "
   ]
  },
  {
   "cell_type": "markdown",
   "metadata": {},
   "source": [
    "## Categorization of customers based on RFM scores"
   ]
  },
  {
   "cell_type": "code",
   "execution_count": 14,
   "metadata": {},
   "outputs": [
    {
     "name": "stderr",
     "output_type": "stream",
     "text": [
      "\u001b[38;20m/2023-05-06 23:11:54,258 / pareto.py / INFO / cltv_df/ 1960 rows written to CLTV table /pareto.py/90/\u001b[0m\n",
      "/2023-05-06 23:11:54,258 / pareto.py / INFO / cltv_df/ 1960 rows written to CLTV table /pareto.py/90/\n",
      "\u001b[38;20m/2023-05-06 23:11:54,336 / pareto.py / INFO / rfm_score/ 1960 rows written to RFMScore table /pareto.py/131/\u001b[0m\n",
      "/2023-05-06 23:11:54,336 / pareto.py / INFO / rfm_score/ 1960 rows written to RFMScore table /pareto.py/131/\n"
     ]
    },
    {
     "data": {
      "text/html": [
       "<div>\n",
       "<style scoped>\n",
       "    .dataframe tbody tr th:only-of-type {\n",
       "        vertical-align: middle;\n",
       "    }\n",
       "\n",
       "    .dataframe tbody tr th {\n",
       "        vertical-align: top;\n",
       "    }\n",
       "\n",
       "    .dataframe thead th {\n",
       "        text-align: right;\n",
       "    }\n",
       "</style>\n",
       "<table border=\"1\" class=\"dataframe\">\n",
       "  <thead>\n",
       "    <tr style=\"text-align: right;\">\n",
       "      <th></th>\n",
       "      <th>customer_id</th>\n",
       "      <th>recency_score</th>\n",
       "      <th>frequency_score</th>\n",
       "      <th>monetary_score</th>\n",
       "      <th>RFM_SCORE</th>\n",
       "      <th>segment</th>\n",
       "    </tr>\n",
       "  </thead>\n",
       "  <tbody>\n",
       "    <tr>\n",
       "      <th>0</th>\n",
       "      <td>KVO444312</td>\n",
       "      <td>4</td>\n",
       "      <td>4</td>\n",
       "      <td>4</td>\n",
       "      <td>44</td>\n",
       "      <td>LOYAL CUSTOMER</td>\n",
       "    </tr>\n",
       "    <tr>\n",
       "      <th>1</th>\n",
       "      <td>VBV804469</td>\n",
       "      <td>2</td>\n",
       "      <td>4</td>\n",
       "      <td>4</td>\n",
       "      <td>24</td>\n",
       "      <td>AT RISK</td>\n",
       "    </tr>\n",
       "    <tr>\n",
       "      <th>2</th>\n",
       "      <td>BAE240832</td>\n",
       "      <td>2</td>\n",
       "      <td>1</td>\n",
       "      <td>1</td>\n",
       "      <td>21</td>\n",
       "      <td>HIBERNATING</td>\n",
       "    </tr>\n",
       "    <tr>\n",
       "      <th>3</th>\n",
       "      <td>AOK457989</td>\n",
       "      <td>3</td>\n",
       "      <td>1</td>\n",
       "      <td>2</td>\n",
       "      <td>31</td>\n",
       "      <td>ABOUT TO SLEEP</td>\n",
       "    </tr>\n",
       "    <tr>\n",
       "      <th>4</th>\n",
       "      <td>XZF813575</td>\n",
       "      <td>3</td>\n",
       "      <td>3</td>\n",
       "      <td>3</td>\n",
       "      <td>33</td>\n",
       "      <td>NEED ATTENTION</td>\n",
       "    </tr>\n",
       "    <tr>\n",
       "      <th>...</th>\n",
       "      <td>...</td>\n",
       "      <td>...</td>\n",
       "      <td>...</td>\n",
       "      <td>...</td>\n",
       "      <td>...</td>\n",
       "      <td>...</td>\n",
       "    </tr>\n",
       "    <tr>\n",
       "      <th>1956</th>\n",
       "      <td>DXT747575</td>\n",
       "      <td>1</td>\n",
       "      <td>2</td>\n",
       "      <td>2</td>\n",
       "      <td>12</td>\n",
       "      <td>HIBERNATING</td>\n",
       "    </tr>\n",
       "    <tr>\n",
       "      <th>1957</th>\n",
       "      <td>VOZ592840</td>\n",
       "      <td>5</td>\n",
       "      <td>1</td>\n",
       "      <td>1</td>\n",
       "      <td>51</td>\n",
       "      <td>NEW CUSTOMERS</td>\n",
       "    </tr>\n",
       "    <tr>\n",
       "      <th>1958</th>\n",
       "      <td>ZCQ782298</td>\n",
       "      <td>1</td>\n",
       "      <td>5</td>\n",
       "      <td>5</td>\n",
       "      <td>15</td>\n",
       "      <td>CANT LOSE</td>\n",
       "    </tr>\n",
       "    <tr>\n",
       "      <th>1959</th>\n",
       "      <td>YNW866090</td>\n",
       "      <td>4</td>\n",
       "      <td>3</td>\n",
       "      <td>3</td>\n",
       "      <td>43</td>\n",
       "      <td>POTENTIAL LOYALIST</td>\n",
       "    </tr>\n",
       "    <tr>\n",
       "      <th>1960</th>\n",
       "      <td>IFC198488</td>\n",
       "      <td>3</td>\n",
       "      <td>2</td>\n",
       "      <td>2</td>\n",
       "      <td>32</td>\n",
       "      <td>ABOUT TO SLEEP</td>\n",
       "    </tr>\n",
       "  </tbody>\n",
       "</table>\n",
       "<p>1960 rows × 6 columns</p>\n",
       "</div>"
      ],
      "text/plain": [
       "     customer_id recency_score frequency_score monetary_score RFM_SCORE  \\\n",
       "0      KVO444312             4               4              4        44   \n",
       "1      VBV804469             2               4              4        24   \n",
       "2      BAE240832             2               1              1        21   \n",
       "3      AOK457989             3               1              2        31   \n",
       "4      XZF813575             3               3              3        33   \n",
       "...          ...           ...             ...            ...       ...   \n",
       "1956   DXT747575             1               2              2        12   \n",
       "1957   VOZ592840             5               1              1        51   \n",
       "1958   ZCQ782298             1               5              5        15   \n",
       "1959   YNW866090             4               3              3        43   \n",
       "1960   IFC198488             3               2              2        32   \n",
       "\n",
       "                 segment  \n",
       "0         LOYAL CUSTOMER  \n",
       "1                AT RISK  \n",
       "2            HIBERNATING  \n",
       "3         ABOUT TO SLEEP  \n",
       "4         NEED ATTENTION  \n",
       "...                  ...  \n",
       "1956         HIBERNATING  \n",
       "1957       NEW CUSTOMERS  \n",
       "1958           CANT LOSE  \n",
       "1959  POTENTIAL LOYALIST  \n",
       "1960      ABOUT TO SLEEP  \n",
       "\n",
       "[1960 rows x 6 columns]"
      ]
     },
     "execution_count": 14,
     "metadata": {},
     "output_type": "execute_result"
    }
   ],
   "source": [
    "rfm = model.rfm_score()\n",
    "rfm"
   ]
  },
  {
   "cell_type": "markdown",
   "metadata": {},
   "source": [
    "## Fit into Pareto model"
   ]
  },
  {
   "cell_type": "code",
   "execution_count": 15,
   "metadata": {},
   "outputs": [
    {
     "name": "stderr",
     "output_type": "stream",
     "text": [
      "\u001b[38;20m/2023-05-06 23:11:54,434 / pareto.py / INFO / cltv_df/ 1960 rows written to CLTV table /pareto.py/90/\u001b[0m\n",
      "/2023-05-06 23:11:54,434 / pareto.py / INFO / cltv_df/ 1960 rows written to CLTV table /pareto.py/90/\n",
      "/opt/anaconda3/lib/python3.8/site-packages/scipy/special/_logsumexp.py:108: RuntimeWarning: overflow encountered in exp\n",
      "  tmp = b * np.exp(a - a_max)\n",
      "\u001b[38;20m/2023-05-06 23:12:00,538 / pareto.py / INFO / model_params/ Model initiation done. /pareto.py/144/\u001b[0m\n",
      "/2023-05-06 23:12:00,538 / pareto.py / INFO / model_params/ Model initiation done. /pareto.py/144/\n"
     ]
    },
    {
     "data": {
      "text/plain": [
       "<lifetimes.ParetoNBDFitter: fitted with 1960 subjects, alpha: 132.01, beta: 275186.09, r: 7.17, s: 418.60>"
      ]
     },
     "execution_count": 15,
     "metadata": {},
     "output_type": "execute_result"
    }
   ],
   "source": [
    "fit = model.fit_paretonbd()\n",
    "fit"
   ]
  },
  {
   "cell_type": "markdown",
   "metadata": {},
   "source": [
    "## Model parameters"
   ]
  },
  {
   "cell_type": "code",
   "execution_count": 16,
   "metadata": {},
   "outputs": [
    {
     "name": "stderr",
     "output_type": "stream",
     "text": [
      "\u001b[38;20m/2023-05-06 23:12:00,654 / pareto.py / INFO / cltv_df/ 1960 rows written to CLTV table /pareto.py/90/\u001b[0m\n",
      "/2023-05-06 23:12:00,654 / pareto.py / INFO / cltv_df/ 1960 rows written to CLTV table /pareto.py/90/\n",
      "/opt/anaconda3/lib/python3.8/site-packages/scipy/special/_logsumexp.py:108: RuntimeWarning: overflow encountered in exp\n",
      "  tmp = b * np.exp(a - a_max)\n",
      "\u001b[38;20m/2023-05-06 23:12:15,385 / pareto.py / INFO / model_params/ Model initiation done. /pareto.py/144/\u001b[0m\n",
      "/2023-05-06 23:12:15,385 / pareto.py / INFO / model_params/ Model initiation done. /pareto.py/144/\n",
      "\u001b[38;20m/2023-05-06 23:12:15,440 / pareto.py / INFO / model_params / Model parameters inserted to table ParetoParameters /pareto.py/173/\u001b[0m\n",
      "/2023-05-06 23:12:15,440 / pareto.py / INFO / model_params / Model parameters inserted to table ParetoParameters /pareto.py/173/\n"
     ]
    },
    {
     "data": {
      "text/html": [
       "<div>\n",
       "<style scoped>\n",
       "    .dataframe tbody tr th:only-of-type {\n",
       "        vertical-align: middle;\n",
       "    }\n",
       "\n",
       "    .dataframe tbody tr th {\n",
       "        vertical-align: top;\n",
       "    }\n",
       "\n",
       "    .dataframe thead th {\n",
       "        text-align: right;\n",
       "    }\n",
       "</style>\n",
       "<table border=\"1\" class=\"dataframe\">\n",
       "  <thead>\n",
       "    <tr style=\"text-align: right;\">\n",
       "      <th></th>\n",
       "      <th>r</th>\n",
       "      <th>alpha</th>\n",
       "      <th>s</th>\n",
       "      <th>beta</th>\n",
       "    </tr>\n",
       "  </thead>\n",
       "  <tbody>\n",
       "    <tr>\n",
       "      <th>0</th>\n",
       "      <td>7.158178</td>\n",
       "      <td>131.897888</td>\n",
       "      <td>412.68971</td>\n",
       "      <td>279771.05179</td>\n",
       "    </tr>\n",
       "  </tbody>\n",
       "</table>\n",
       "</div>"
      ],
      "text/plain": [
       "          r       alpha          s          beta\n",
       "0  7.158178  131.897888  412.68971  279771.05179"
      ]
     },
     "execution_count": 16,
     "metadata": {},
     "output_type": "execute_result"
    }
   ],
   "source": [
    "parameters = model.model_params()\n",
    "parameters"
   ]
  },
  {
   "cell_type": "markdown",
   "metadata": {},
   "source": [
    "## Predictions for 30,90,180,360 days"
   ]
  },
  {
   "cell_type": "code",
   "execution_count": null,
   "metadata": {},
   "outputs": [
    {
     "name": "stderr",
     "output_type": "stream",
     "text": [
      "\u001b[38;20m/2023-05-06 23:12:15,534 / pareto.py / INFO / cltv_df/ 1960 rows written to CLTV table /pareto.py/90/\u001b[0m\n",
      "/2023-05-06 23:12:15,534 / pareto.py / INFO / cltv_df/ 1960 rows written to CLTV table /pareto.py/90/\n",
      "/opt/anaconda3/lib/python3.8/site-packages/scipy/special/_logsumexp.py:108: RuntimeWarning: overflow encountered in exp\n",
      "  tmp = b * np.exp(a - a_max)\n"
     ]
    }
   ],
   "source": [
    "pareto = model.predict_paretonbd()\n",
    "pareto"
   ]
  },
  {
   "cell_type": "markdown",
   "metadata": {},
   "source": [
    "## Customer aliveness"
   ]
  },
  {
   "cell_type": "code",
   "execution_count": null,
   "metadata": {},
   "outputs": [],
   "source": [
    "alive = model.customer_is_alive()\n",
    "alive\n"
   ]
  },
  {
   "cell_type": "code",
   "execution_count": null,
   "metadata": {},
   "outputs": [],
   "source": [
    "from zenq.visualizations.plot import Visuals\n",
    "visuals = Visuals()"
   ]
  },
  {
   "cell_type": "code",
   "execution_count": null,
   "metadata": {},
   "outputs": [],
   "source": [
    "visuals.price_distribution()"
   ]
  },
  {
   "cell_type": "code",
   "execution_count": null,
   "metadata": {},
   "outputs": [],
   "source": [
    "visuals.time_series()"
   ]
  },
  {
   "cell_type": "code",
   "execution_count": null,
   "metadata": {},
   "outputs": [],
   "source": [
    "visuals.gender_price()"
   ]
  },
  {
   "cell_type": "code",
   "execution_count": null,
   "metadata": {},
   "outputs": [],
   "source": [
    "visuals.rfm_treemap()"
   ]
  },
  {
   "cell_type": "code",
   "execution_count": null,
   "metadata": {},
   "outputs": [],
   "source": [
    "visuals.top_customers_30days()"
   ]
  },
  {
   "cell_type": "code",
   "execution_count": null,
   "metadata": {},
   "outputs": [],
   "source": [
    "visuals.top_customers_90days()"
   ]
  },
  {
   "cell_type": "code",
   "execution_count": null,
   "metadata": {},
   "outputs": [],
   "source": [
    "visuals.lowest_customers_90days()"
   ]
  },
  {
   "cell_type": "code",
   "execution_count": 29,
   "metadata": {},
   "outputs": [
    {
     "data": {
      "application/vnd.plotly.v1+json": {
       "config": {
        "plotlyServerURL": "https://plot.ly"
       },
       "data": [
        {
         "nbinsx": 50,
         "type": "histogram",
         "x": [
          0.32684532533940985,
          0.7788441749788637,
          0.9106812392222537,
          0.8701028175591906,
          0.5794328286034505,
          0.7914938479425937,
          0.2900746587775821,
          0.7757233658822312,
          0.8453739436750939,
          0.7888226410375845,
          0.5995934800532514,
          0.798763797079923,
          0.3170022733268187,
          0.6891242012450709,
          0.881662304814929,
          0.5470487958534322,
          0.7459286788824128,
          0.5274137808189444,
          0.5955184810163092,
          0.7067809252573931,
          0.2283921109388519,
          0.8884896159259793,
          0.7882922665400025,
          0.22901043538370255,
          0.804726729943726,
          0.6614144739637452,
          0.8555678424623336,
          0.8811008101125323,
          0.8047157831602182,
          0.6406802810919204,
          0.8649957378074195,
          0.6250722603747142,
          0.8742146448736375,
          0.7873370532768985,
          0.9139453139027333,
          0.6523468352065762,
          0.8004409582434673,
          0.8551568627308858,
          0.8509203937838483,
          0.6522795133554952,
          0.8257019937320818,
          0.6214910732022567,
          0.8981817072817642,
          0.5884851033216096,
          0.12055098422485114,
          0.8962181988022697,
          0.8126376390503189,
          0.8525166607230756,
          0.8417714927147821,
          0.43940312203426163,
          0.7937711775909231,
          0.9133047646519553,
          0.8030985765291263,
          0.7346871628552414,
          0.6483453728935683,
          0.8119548747302731,
          0.7717004279483176,
          0.9108133701183904,
          0.5765034458698859,
          0.9233955858014797,
          0.8662416008019207,
          0.8727477809949031,
          0.9088713456568003,
          0.8890713685679139,
          0.06024247631227458,
          0.7046802977288501,
          0.8568203736579426,
          0.6804444246224713,
          0.7530698710410941,
          0.10230026204490597,
          0.8905392028579059,
          0.8893662729306493,
          0.899696229336077,
          0.9191233581009263,
          0.9012659024638797,
          0.8236149065108698,
          0.7312098414123115,
          0.7957540988105659,
          0.868857435503507,
          0.8895750996729447,
          0.8782009749964957,
          0.09595630445119653,
          0.35083886734264186,
          0.685890061270935,
          0.9033557867984556,
          0.8548066671899567,
          0.020874716775361804,
          0.6694306133932353,
          0.880061596989046,
          0.41065755930675096,
          0.8353959100848283,
          0.9217703548169556,
          0.4977040779404226,
          0.6603567931588437,
          0.8249437847082411,
          0.9087307517764823,
          0.843558965213578,
          0.929158799078381,
          0.823636814705131,
          0.9440796755315247,
          0.9320260905612897,
          0.48677470721435273,
          0.47980679521622516,
          0.5630732399536229,
          0.7957540988105659,
          0.15476890843716964,
          0.7715667375972464,
          0.721807527600453,
          0.9076626542134186,
          0.17120855028767132,
          0.6015539764326174,
          0.5273315274717867,
          0.6097939198362753,
          0.8683233947043703,
          0.9009099409893749,
          0.8035057833755374,
          0.6904865278023519,
          0.8562748057227059,
          0.9387550960106763,
          0.828207815438502,
          0.7132913504015855,
          0.4294224789587924,
          0.8187534460303234,
          0.8097001134618173,
          0.7085637885536209,
          0.8712533281312258,
          0.6311691886255981,
          0.822150756326938,
          0.9096406038942203,
          0.8574216885816849,
          0.8098025936941602,
          0.8407991639490673,
          0.7952251240947548,
          0.9337307454447236,
          0.5717111175239526,
          0.8254012447436158,
          0.12959055747344475,
          0.9318666180214703,
          0.8578710042839731,
          0.7493690462393467,
          0.895539548806481,
          0.8727243488470448,
          0.9085372113663295,
          0.8788620936806676,
          0.2978572840161434,
          0.824052155750349,
          0.8551946096478199,
          0.8564411423933302,
          0.5271186865297128,
          0.582692722543286,
          0.8978350850989694,
          0.7287946361942715,
          0.8704460471987,
          0.6624465146912878,
          0.8712751568622402,
          0.8626545919467418,
          0.8617695381267861,
          0.8859597882861393,
          0.867385823084033,
          0.4038443259230572,
          0.8606828370095007,
          0.7709671171863607,
          0.7888678954343985,
          0.8990704655018362,
          0.8799392678392559,
          0.604774444309027,
          0.8249622572843496,
          0.8347368078220139,
          0.9141470230779581,
          0.8841792720949444,
          0.9113663673774188,
          0.14995936170014734,
          0.024497702407838984,
          0.9070596292656946,
          0.09984984527269816,
          0.915083355410771,
          0.8796677514995714,
          0.7277600466994308,
          0.891327720913966,
          0.8464188744324418,
          0.7544595871739062,
          0.918932584777855,
          0.2573308506647744,
          0.13456960605025478,
          0.6549578644623124,
          0.6995564935017871,
          0.8826803535266544,
          0.5523009410291023,
          0.5070729954536073,
          0.8054473680284182,
          0.847427223586619,
          0.8827698058820145,
          0.9050450069012855,
          0.798292959103542,
          0.9036283975602534,
          0.5600721408594855,
          0.8791521739011797,
          0.884167277861154,
          0.9175061173796379,
          0.9206099488509103,
          0.5402856952777018,
          0.6084699574344388,
          0.9231602665529381,
          0.3659779003237309,
          0.4729906574599549,
          0.8698294776947664,
          0.044787199732991584,
          0.7937440247898611,
          0.2695141693087975,
          0.8255502433638827,
          0.3992512881734613,
          0.25157267467989963,
          0.6434851358638121,
          0.4722501218117706,
          0.7808370202454048,
          0.9267751482135624,
          0.9041175849446993,
          0.7873442843526635,
          0.8863233769358597,
          0.8779244545780439,
          0.02511523299205508,
          0.8654167641351416,
          0.711621214966585,
          0.8234283981591078,
          0.8931810600872573,
          0.4118262270551818,
          0.763643551697087,
          0.7320640505291364,
          0.6814198371021151,
          0.8318473784926433,
          0.8783850347386,
          0.620955302135261,
          0.8087158193475876,
          0.7382023460445678,
          0.900618889105885,
          0.8345613794752867,
          0.6880333556540916,
          0.8935185334722271,
          0.8421788966997094,
          0.8105531722671716,
          0.7481429614067887,
          0.7786622651363089,
          0.7234622704725352,
          0.8746033446295224,
          0.6403552525090268,
          0.5443257079012613,
          0.8803299102013864,
          0.8034570081463845,
          0.9149660638288822,
          0.8654984501102065,
          0.9145990442506657,
          0.663880536366342,
          0.5996092208506973,
          0.8849946071546828,
          0.8444565934197574,
          0.5572515532119173,
          0.8024180226536188,
          0.7600806370051492,
          0.8601288840564709,
          0.6949170053444771,
          0.843976130367514,
          0.8105531722671716,
          0.4635896440588926,
          0.5563288063121719,
          0.9135261403842454,
          0.7902186838586738,
          0.8510106700890172,
          0.2363409064431078,
          0.8991042258880688,
          0.5272083076816502,
          0.6451029869686868,
          0.9161694735273532,
          0.9048725940597669,
          0.7249661680612299,
          0.026129646564680836,
          0.7538737380391316,
          0.9309866405910528,
          0.7080953394205849,
          0.8063785162539185,
          0.8029386415360965,
          0.7442880969299425,
          0.5284494606041203,
          0.8438834331163151,
          0.8924704717449236,
          0.7567246509486837,
          0.7580879351965248,
          0.6344335273695049,
          0.841925368549924,
          0.8929011913582674,
          0.8354897771423005,
          0.8749901515376305,
          0.8223312767662518,
          0.8812601799230344,
          0.8648949821502165,
          0.8645521034218968,
          0.17062339547205904,
          0.6633579793276313,
          0.6115463337059677,
          0.620227105657093,
          0.8960573446255097,
          0.9281690125253601,
          0.8400197946140604,
          0.8664864964131185,
          0.884317353952608,
          0.7674976115398413,
          0.36091013176127373,
          0.8923879914997391,
          0.7256129586822745,
          0.7975188524629208,
          0.8089491618200638,
          0.744038307027092,
          0.250257818082477,
          0.6463004965316855,
          0.8196403095908882,
          0.8799408518999506,
          0.9234671393992167,
          0.8627293706102682,
          0.5392755209251516,
          0.8538447539127936,
          0.7562317612353865,
          0.8744087537400558,
          0.6719000519635672,
          0.6695343977828069,
          0.9274278791711361,
          0.16169330856807648,
          0.8721345377443571,
          0.8874095872265217,
          0.8764391282711554,
          0.03909589440380263,
          0.8157639489952526,
          0.2215824278068102,
          0.904167680720336,
          0.34664633523688776,
          0.7133493152741369,
          0.15223948133059428,
          0.8926504987007483,
          0.6167670181272717,
          0.8482852100769427,
          0.8816605158614413,
          0.8672906080996292,
          0.8567693483998692,
          0.9004584839181657,
          0.7610636033913488,
          0.5592656534138563,
          0.8951273701727435,
          0.6930354877600767,
          0.9358432508930186,
          0.7085766398280343,
          0.5599577905121823,
          0.7282312087978086,
          0.8993102256914228,
          0.8782453571488149,
          0.8587018165404614,
          0.8601902259405768,
          0.8465845169913476,
          0.8998510199941339,
          0.8788153276431766,
          0.25495002155661434,
          0.9190855460638935,
          0.8916583634118801,
          0.8535542600786138,
          0.8478855650222927,
          0.7500511862307101,
          0.9338160404894036,
          0.7415685803441028,
          0.7618464298165394,
          0.8322731402488057,
          0.04593090060526889,
          0.6959774336860375,
          0.044712540922150906,
          0.5424328618721217,
          0.4561385636801016,
          0.8421604839062368,
          0.7103642551740535,
          0.7136942194232356,
          0.5834657238455164,
          0.8073285590073699,
          0.7748799211694469,
          0.7470818188726615,
          0.8534448906125315,
          0.8764592418230245,
          0.8686530579277301,
          0.7241370888485879,
          0.8993720290737313,
          0.04193413824055291,
          0.8795482879626282,
          0.884469532032115,
          0.6764289345744704,
          0.543936925449291,
          0.8488215709490811,
          0.9198727564206522,
          0.7795176438442515,
          0.9254206315783297,
          0.9319681733613628,
          0.7763876226377896,
          0.7587866468018212,
          0.6449564241654242,
          0.87594623027477,
          0.6927009757838781,
          0.8717721961954755,
          0.8144917523997697,
          0.5648274422643393,
          0.8207047092980798,
          0.9258430858793172,
          0.6273423187952774,
          0.5395365520920118,
          0.7337737349549691,
          0.7618121613573164,
          0.39011361178612236,
          0.6929553277471753,
          0.9068172759273558,
          0.9147100714423333,
          0.6646572067080462,
          0.919797076743903,
          0.8432815097228477,
          0.8936172610906843,
          0.8193199081554502,
          0.7253022223916055,
          0.8190182922091639,
          0.008276931077613818,
          0.7576772202086143,
          0.7105021049232967,
          0.4548768075451909,
          0.5779746058971961,
          0.3161860333972598,
          0.5071486236753102,
          0.279722547552171,
          0.3168450190327228,
          0.8406788807057287,
          0.5408430182258688,
          0.7357347774558726,
          0.8161802895496008,
          0.8323764213060615,
          0.7742323423415891,
          0.6486740415378055,
          0.9150457117772826,
          0.35907029851498445,
          0.8030367838690079,
          0.660076097929981,
          0.8939331265260908,
          0.8016072834978761,
          0.915564184807302,
          0.9039506015203944,
          0.8707387314542169,
          0.6162881759588297,
          0.19563800657273447,
          0.11462493467198588,
          0.8446350233565262,
          0.8957457653035646,
          0.3899117405159561,
          0.003025817137270233,
          0.8596013088119255,
          0.7960363288513498,
          0.8722188070835228,
          0.8452235109969203,
          0.43999207243776595,
          0.3683981797077664,
          0.8721930792000492,
          0.6817066976599422,
          0.6422263459574036,
          0.7394834852414007,
          0.8658349138519559,
          0.86319779107831,
          0.7341078347786061,
          0.8506430853443688,
          0.46428091650915587,
          0.8128595702155039,
          0.7880715457406126,
          0.8697377153310536,
          0.8867050177013333,
          0.5481809606107473,
          0.8521206737773551,
          0.8667460045624537,
          0.7197226074374542,
          0.31868349346905034,
          0.04848350704598114,
          0.8586155120835062,
          0.8516067269911101,
          0.8688707752877979,
          0.9042658329674123,
          0.4302408000198318,
          0.8647087819019258,
          0.8404634335287213,
          0.3249175300565276,
          0.8297143243128061,
          0.8852047272788297,
          0.8947354498601237,
          0.8883730311232821,
          0.824761368968811,
          0.3290768421466539,
          0.8749382520475677,
          0.5432342894769938,
          0.8958197965555997,
          0.5301670816027951,
          0.8713597657521911,
          0.7463572851868371,
          0.7935003950558832,
          0.8227269970513877,
          0.9245027449339825,
          0.84355692231075,
          0.33123424523212225,
          0.6941945781381917,
          0.9395446576549817,
          0.9034946326044178,
          0.7248579445134931,
          0.8902366276933983,
          0.9237147646210528,
          0.8919970195738495,
          0.5509244074306289,
          0.9087153610126839,
          0.7559012020451589,
          0.8481419109702021,
          0.8317283535057646,
          0.9199148238666753,
          0.9241932997633288,
          0.4565878153794639,
          0.8275870316816959,
          0.8613253688898916,
          0.7585939660024875,
          0.7841496409578085,
          0.8529825169442667,
          0.9110936635993111,
          0.8755713735738718,
          0.7765211722169545,
          0.6486655030316195,
          0.9012646090722449,
          0.9169207089225064,
          0.41554301986103953,
          0.01931485038831441,
          0.9324958237126949,
          0.8239863398937906,
          0.7918857648711086,
          0.37131688212904695,
          0.6850978907436462,
          0.524442426078691,
          0.90144048120444,
          0.5252187500259161,
          0.8239464965628566,
          0.08166828518162735,
          0.8995909074835862,
          0.9045615830191148,
          0.8848395900198416,
          0.8540143414954631,
          0.2211465738807426,
          0.7891970504937843,
          0.9030760200952783,
          0.7587018991673689,
          0.819979012803151,
          0.8126548255236353,
          0.8842009631014314,
          0.8883690886318963,
          0.8442490524085481,
          0.68584061542876,
          0.9168635438239389,
          0.8626022209795599,
          0.7938697858399343,
          0.6867309854032818,
          0.8977091149164664,
          0.5189871623316601,
          0.8543113645970272,
          0.8816626123910396,
          0.8011094113723416,
          0.46092067632947065,
          0.8165406897015303,
          0.87337053740562,
          0.6863941147502223,
          0.8451023977905577,
          0.8411946931909022,
          0.9279601010611228,
          0.8257174932201325,
          0.526446426130882,
          0.9024453043467273,
          0.9068006370744439,
          0.6640957330190519,
          0.8464864614937849,
          0.8288264716749045,
          0.8165702244033785,
          0.2560206710933309,
          0.9049370793496098,
          0.829297981428967,
          0.8877241429785708,
          0.3776823471104165,
          0.8521195348153295,
          0.8012435339576619,
          0.9030721228329438,
          0.8972312674093356,
          0.265971652535367,
          0.8359037881199094,
          0.7574948792469995,
          0.9100694682790915,
          0.6783602954282122,
          0.638933381341951,
          0.8668774271969648,
          0.8443146245569857,
          0.5461952834218494,
          0.9086391130113602,
          0.10167010459424236,
          0.7122126364498162,
          0.8170284974603129,
          0.8810976843574548,
          0.716100872230162,
          0.926207146277542,
          0.7476477163006134,
          0.8763093058099427,
          0.45947611253252063,
          0.7249661680612299,
          0.5600468638977042,
          0.8151159630713543,
          0.9248004112602604,
          0.3934523662515829,
          0.5817388905083983,
          0.7310656834138571,
          0.7230045013063391,
          0.3016646256281295,
          0.9179448814992763,
          0.6141771723048081,
          0.8366019436092101,
          0.8242504754590704,
          0.6958921564060375,
          0.9175400456683711,
          0.8915899957612107,
          0.8933538876849259,
          0.8581080794695354,
          0.9257969615125294,
          0.8442490524085481,
          0.865544632769606,
          0.7582546950978002,
          0.6298640269970683,
          0.8947941463092276,
          0.9035779773677951,
          0.9191205556491068,
          0.6132041800942676,
          0.7044985959053364,
          0.8544795767704916,
          0.8371266528290853,
          0.5517050990146463,
          0.7995740214874564,
          0.5379850509374664,
          0.3839961985350313,
          0.9346725765495942,
          0.8799645847134495,
          0.09854766661529589,
          0.9231241759341348,
          0.005630653212688679,
          0.8268876320329629,
          0.6855045533007031,
          0.7822735160915681,
          0.8518047571823769,
          0.9311362358858746,
          0.8242604102582208,
          0.8597249575416049,
          0.8110960319896695,
          0.776231250281395,
          0.620787904836377,
          0.7644038979567008,
          0.9289435041041558,
          0.03375395206309441,
          0.6492783177860575,
          0.8293822667752403,
          0.9063166657681984,
          0.9190855460638935,
          0.47113227998357476,
          0.6606793801715184,
          0.8801313527849367,
          0.8420635644630465,
          0.8185282242988515,
          0.5496018067646535,
          0.8672906080996292,
          0.8238902733804564,
          0.8784011539042278,
          0.755112046100743,
          0.22125966054966942,
          0.8829464215563466,
          0.04834727518534829,
          0.6087757782952447,
          0.8951722366365399,
          0.7996164271874786,
          0.6664455224565888,
          0.8610540854257875,
          0.5360275873081661,
          0.5614244827462419,
          0.24548223778655126,
          0.20251056470654438,
          0.7890211159234544,
          0.6718318835509577,
          0.5522233151308629,
          0.8358600691570313,
          0.8141341050524249,
          0.8668155859652822,
          0.8270949619681841,
          0.802744305113457,
          0.82075972238543,
          0.8703888531603865,
          0.8493777971807489,
          0.8823948667847696,
          0.8764176513044082,
          0.8562445599498446,
          0.7489187529083103,
          0.7856804762946087,
          0.04900639062359038,
          0.8886759856014194,
          0.8668030524604124,
          0.8164613073852149,
          0.5147157685147492,
          0.9113092499041602,
          0.7684359700079815,
          0.6313327232549233,
          0.4895884460444381,
          0.792521434765102,
          0.8435140158135701,
          0.6581949394404806,
          0.8528002774872055,
          0.7190364697095172,
          0.9038091444292167,
          0.9147100714423333,
          0.811310242818574,
          0.9343177704257476,
          0.8969756918066369,
          0.45414229975327985,
          0.1810683337324501,
          0.870766635194855,
          0.9080570837898693,
          0.8750908479847824,
          0.8384967071078189,
          0.7790968066683102,
          0.873438979114947,
          0.14228460225410886,
          0.8112965891572463,
          0.5523771398780463,
          0.5478593686696738,
          0.8062265265696158,
          0.8792744687746816,
          0.8942008010544773,
          0.517756222764582,
          0.2691358700574536,
          0.8815531881186739,
          0.9302184035873371,
          0.43410603717803475,
          0.6606453774579127,
          0.9002986982247679,
          0.5568864313233544,
          0.8876974307512312,
          0.779713432709446,
          0.3660889933289362,
          0.2551192526972998,
          0.8861110607871653,
          0.6287015058020095,
          0.8980569622278144,
          0.5449296933921955,
          0.8265874715652349,
          0.7219697257102036,
          0.45575300776901445,
          0.010237162521077006,
          0.8945465023690523,
          0.7122750655392497,
          0.8503898142865958,
          0.9109032846521603,
          0.3880665046223965,
          0.8679950036890778,
          0.8714326384302282,
          0.901945359224634,
          0.5038981145620014,
          0.4171598912067112,
          0.7803124358791883,
          0.8986241259999401,
          0.8892623187977351,
          0.7651646114284426,
          0.8914853281952231,
          0.8055046698903263,
          0.8724770784822318,
          0.20778414951900384,
          0.5176829544698067,
          0.7755920529792409,
          0.9028993729624123,
          0.7890681890845855,
          0.7649195176412351,
          0.6736372748560664,
          0.6548099833470564,
          0.3637088427422897,
          0.4555196850159973,
          0.07659059652424959,
          0.7826336795240311,
          0.21955280656422796,
          0.9130920739259311,
          0.8221157465988854,
          0.8229759874225945,
          0.7470561960825165,
          0.6745097727700798,
          0.9091708264979289,
          0.326163929793815,
          0.6844361321570533,
          0.5139523640491838,
          0.5189871623316601,
          0.7349388678482094,
          0.5387770066996078,
          0.8507177324578307,
          0.9110609841308441,
          0.8379456870285621,
          0.6723493645533561,
          0.8561043634222546,
          0.8436503900127328,
          0.9098304523242698,
          0.9055852258793133,
          0.8966080371138782,
          0.4301971432856496,
          0.886789727430589,
          0.8893131484076081,
          0.29779107280118766,
          0.7210379398688757,
          0.8214311626653207,
          0.7263131484572449,
          0.8104730819880483,
          0.8385108650322718,
          0.7688311919384396,
          0.7559563246267745,
          0.8779024372337395,
          0.5509444379338975,
          0.9172472116697745,
          0.6356375852703092,
          0.8201868868237384,
          0.8562984455523934,
          0.6921254325478884,
          0.9110437242372923,
          0.9184685769661517,
          0.8449489534048015,
          0.5376150838076637,
          0.845388691424708,
          0.826207273202038,
          0.750285475635788,
          0.837633242612266,
          0.06379650696221012,
          0.8134351219211782,
          0.8168642962846352,
          0.9021184316502168,
          0.8533640248659244,
          0.8963056447855856,
          0.0065554588682438355,
          0.9094228930173212,
          0.8324535144218179,
          0.5113137382498639,
          0.7465509587847827,
          0.3753575682019704,
          0.83499737688005,
          0.8914853281952231,
          0.9228507018769976,
          0.9085372113663295,
          0.8869791186792387,
          0.8734785651074123,
          0.849042887212955,
          0.92791732189209,
          0.09459297070203886,
          0.5151226737461074,
          0.9130824373743973,
          0.9041255627813066,
          0.9017198270206375,
          0.8304619255435582,
          0.37411876120757337,
          0.8998692141186607,
          0.6555545022696092,
          0.2928054124686237,
          0.868617898850872,
          0.5948413721429585,
          0.9174748529678858,
          0.6250774544921948,
          0.7531960673767016,
          0.7155142801538634,
          0.915382007706899,
          0.8860205808429997,
          0.8263356554173684,
          0.9117958579220197,
          0.7956557302414176,
          0.8383431681566672,
          0.3544535330294671,
          0.7939452618366549,
          0.3057939342161192,
          0.8114390282884033,
          0.685234215961089,
          0.9353934231094225,
          0.060105252435908155,
          0.8205951167304717,
          0.9198727564206522,
          0.8478261080850381,
          0.6075940659035652,
          0.8810976843574548,
          0.8129821577370527,
          0.6623669289942743,
          0.7868887184279714,
          0.8901357373113938,
          0.9081263785835447,
          0.8600079707039929,
          0.845076008405315,
          0.11390244764612187,
          0.7764107303346529,
          0.6466808873876865,
          0.6802307739525332,
          0.9175544932169655,
          0.3882879434676459,
          0.04253958952726299,
          0.7543465782810674,
          0.22515649584323372,
          0.8159989496481405,
          0.8583074759173602,
          0.2591706182494664,
          0.0634827239750669,
          0.7728127206288585,
          0.7704738591075969,
          0.07604564947577643,
          0.5307390322949246,
          0.8534440644305118,
          0.7851793973113514,
          0.13054141714875475,
          0.8822803371155933,
          0.8435148595427071,
          0.8761334908914619,
          0.8610453263243646,
          0.7981071723396302,
          0.829633475742548,
          0.6160991961889327,
          0.14588569891289238,
          0.9344381554518373,
          0.770178500076369,
          0.8599108038977044,
          0.9015175461087771,
          0.1593081867580145,
          0.0032701208549919783,
          0.72216084957085,
          0.9191205556491068,
          0.8825753353178561,
          0.1767127400227307,
          0.8610918835191872,
          0.3010433064022298,
          0.9071580273620407,
          0.3007287956312334,
          0.2899644996009171,
          0.908790142478013,
          0.7231268872579838,
          0.8056735467842392,
          0.8669096600747558,
          0.27870263316626576,
          0.8684916894878395,
          0.9206411197893971,
          0.7075037633810379,
          0.908878665175668,
          0.06703463001622582,
          0.8527913324302873,
          0.07408401298719158,
          0.9009714432288941,
          0.8377046241313743,
          0.3309034908935463,
          0.8819841143395435,
          0.6632407376504251,
          0.8176124955063993,
          0.9191994187364295,
          0.8942468364367222,
          0.7165834743230378,
          0.828044021820534,
          0.8471310604594278,
          0.7882459733777375,
          0.7047809455059586,
          0.7547312809306428,
          0.6534553270125375,
          0.8724488571479139,
          0.728123030866821,
          0.8916440678811625,
          0.8440436052365295,
          0.9026339612174111,
          0.41998198776173756,
          0.8453075028136444,
          0.921126648958526,
          0.9030622372641928,
          0.731577896372892,
          0.7442799563585072,
          0.8485389183290325,
          0.7189930399972898,
          0.8839230549497745,
          0.8709259260164114,
          0.7472381384754339,
          0.7466587273391255,
          0.7595090689790241,
          0.8711565771740487,
          0.6817524650638257,
          0.928531225902605,
          0.9029812644935422,
          0.3577889697276062,
          0.8614541423871791,
          0.8004908079807276,
          0.48294490743871393,
          0.8769099231794287,
          0.5222689954058163,
          0.25265505595880056,
          0.8272240374865729,
          0.7902327304740073,
          0.01896547873804685,
          0.861409881204568,
          0.8260520882110052,
          0.9120079695957349,
          0.8925370120224378,
          0.6003237175906279,
          0.8062265265696158,
          0.7481857185770002,
          0.10015864943287726,
          0.5085483436429826,
          0.5411294944095364,
          0.679109249456328,
          0.034780694133517163,
          0.8737531898027286,
          0.529135498625635,
          0.7652399345137506,
          0.7800113652247826,
          0.9010236915614409,
          0.641740028096359,
          0.7661822937031101,
          0.8544795767704916,
          0.8405464300538397,
          0.921234697180361,
          0.8904400079690747,
          0.8606961247218274,
          0.5171831864040879,
          0.8002164549731204,
          0.7944431978928189,
          0.7735565637884306,
          0.2006887878331031,
          0.6987274910101585,
          0.4872142320082574,
          0.6863941147502223,
          0.8591261898412091,
          0.046419463669438145,
          0.5971223614389205,
          0.25311576530524493,
          0.07700444012517053,
          0.7518940032978287,
          0.7967375862895322,
          0.5809993166708516,
          0.11274764492839887,
          0.5623935716644957,
          0.9339191934806451,
          0.7749140245889022,
          0.8426894349324587,
          0.7968297339712613,
          0.8767213477720583,
          0.8824040304267716,
          0.490492173755427,
          0.7714817857730651,
          0.7728272765513198,
          0.579715406026713,
          0.7452209226198713,
          0.8824116863854176,
          0.613082435059492,
          0.792651701486781,
          0.9292136559133912,
          0.8495350127829773,
          0.7480243936569313,
          0.7591220930458658,
          0.5522232308150148,
          0.3540494083780536,
          0.882805476822891,
          0.044189433297774756,
          0.7824778028349982,
          0.8976873710241106,
          0.5599056720328139,
          0.8117017285570353,
          0.7284198687280315,
          0.7054936380108798,
          0.8058847820672609,
          0.8316225091546847,
          0.8863225966755856,
          0.7191495481762613,
          0.8303273365126161,
          0.018029693080995154,
          0.8674898881496764,
          0.42237727405241793,
          0.8965065613564369,
          0.8197142597261562,
          0.5704306263847387,
          0.8961492939511106,
          0.7698657425984846,
          0.1236344057967835,
          0.825117573103697,
          0.694805173491215,
          0.5201771603624469,
          0.861138894538851,
          0.8708867089505188,
          0.9191286183542022,
          0.7453819356236945,
          0.5511247340120832,
          0.9026244035047101,
          0.8919373863023929,
          0.2635880866675783,
          0.033067097887875964,
          0.7618464298165394,
          0.9005762526148441,
          0.8679941221497763,
          0.9147098234252631,
          0.9170952174019705,
          0.3334070739144604,
          0.9168374303981099,
          0.8676020904752723,
          0.5285548070286604,
          0.8854770094178006,
          0.5777760332421673,
          0.23896517523065372,
          0.740596562293032,
          0.6058564595250222,
          0.9038389577474697,
          0.5844575019661041,
          0.7204984093191685,
          0.07064510970965641,
          0.8533640248659244,
          0.6733883428635237,
          0.8417865124092782,
          0.6013714595611506,
          0.6615637756722189,
          0.9354880763344904,
          0.9158028872869318,
          0.8557192040072995,
          0.8452144336805505,
          0.8567399162596007,
          0.858645758274184,
          0.6693719182589345,
          0.7939484780802522,
          0.7253832114603964,
          0.9332541213863544,
          0.8676841267910835,
          0.22569135411174376,
          0.8721116213458098,
          0.21168913756455895,
          0.7922392453466088,
          0.9087307517764823,
          0.9102609201707906,
          0.5778215143476058,
          0.9081936876395584,
          0.6972260049984154,
          0.8048243198685683,
          0.8418692650841686,
          0.894557835550225,
          0.7905534312236875,
          0.918077003804605,
          0.9280041922611589,
          0.814014447087486,
          0.8578672343707238,
          0.8523829899697696,
          0.8939767886211818,
          0.8796116715030781,
          0.8280126340213765,
          0.16893725001633225,
          0.8857232089469642,
          0.9349205192958224,
          0.8222152139177136,
          0.6431291991011697,
          0.9313965911467523,
          0.8719007228833314,
          0.7747878843637349,
          0.9097315556415548,
          0.8276628232254268,
          0.7645779016497466,
          0.8175530991988379,
          0.839097841515008,
          0.7690597832672347,
          0.25270045320139267,
          0.8427707621101318,
          0.6035726114161192,
          0.8199385068047043,
          0.9124234233763644,
          0.4696635814450071,
          0.6332257832757081,
          0.6369529699771304,
          0.19134552306577018,
          0.43537753448526273,
          0.9086631457884473,
          0.5595929869082925,
          0.9190918415037804,
          0.8579839423526869,
          0.7831372274263093,
          0.04200843446557362,
          0.9040508937537037,
          0.7842876789529317,
          0.7210242391372821,
          0.6582676040277937,
          0.31070382104421357,
          0.6186951383725454,
          0.9164213326287404,
          0.904167680720336,
          0.7587266738122281,
          0.8969855520721127,
          0.9163421919998135,
          0.9233424204307207,
          0.6913952963989902,
          0.8985080799652285,
          0.681776511832159,
          0.7167772974081429,
          0.7293472565325118,
          0.7657118580506104,
          0.8903551112228126,
          0.9125875329314136,
          0.8278725824004713,
          0.8619773598167988,
          0.8810784006780902,
          0.0039957828478770436,
          0.824298403245011,
          0.5092541455704863,
          0.8996385819964009,
          0.8301899114609209,
          0.9280277775555811,
          0.5718761923393771,
          0.7099613161226896,
          0.8393323232467101,
          0.8410979752423092,
          0.8922544109805243,
          0.011720152951516226,
          0.589670114401735,
          0.2644238166219907,
          0.8708950976008029,
          0.7210698781420724,
          0.9174018284818752,
          0.7081654032093917,
          0.8929868084390207,
          0.6203040671386115,
          0.8857188524435087,
          0.7565133560441379,
          0.8067938441600585,
          0.6957306587614076,
          0.8459620135011442,
          0.19534292467616332,
          0.8390942160946144,
          0.7864102665305142,
          0.8704641486999412,
          0.9122285541616332,
          0.22552434633297438,
          0.8868870845558742,
          0.035025324150972384,
          0.8875168376630392,
          0.9317820036337127,
          0.8915210382741436,
          0.922845965990791,
          0.2752996613399425,
          0.657351295484016,
          0.5623071492934609,
          0.764820303721424,
          0.9292225639573841,
          0.9217318548098402,
          0.85093160091707,
          0.43522371537554155,
          0.8719595218130517,
          0.8341311341829314,
          0.8869904686611456,
          0.887562541717881,
          0.7282630163263517,
          0.3696892625983928,
          0.901865300570424,
          0.8200779563848077,
          0.09647001241598528,
          0.9200792288160852,
          0.8500438358336003,
          0.8215966389748189,
          0.13906070230399173,
          0.7050265956392578,
          0.9064587858039854,
          0.7743719711944723,
          0.8597014144928792,
          0.5442930943732025,
          0.7804968985203656,
          0.11829333842565336,
          0.4188571455694209,
          0.8390828934125587,
          0.9062486827246964,
          0.8383452554813206,
          0.8445018718589465,
          0.7538737380391316,
          0.7228641309903912,
          0.5010871361868222,
          0.5048509496920673,
          0.5937806754401497,
          0.6753854057415156,
          0.2537512286769442,
          0.2863177327980316,
          0.9182155939399613,
          0.8557756543204083,
          0.8463534964150394,
          0.5294388511855008,
          0.4332868257223145,
          0.915233515091077,
          0.8251106908296292,
          0.46156426065378753,
          0.5781543097711227,
          0.8373967445172841,
          0.16424700302565556,
          0.6841893814329549,
          0.8381688774347441,
          0.762728895738904,
          0.4949457684770283,
          0.6245919037471003,
          0.7101346542985388,
          0.5899723832743093,
          0.8867779322191877,
          0.3979884430056776,
          0.8141930059909254,
          0.8088711026044495,
          0.771246771407337,
          0.8309657409669384,
          0.7820265416937183,
          0.8126128106610153,
          0.6751427704084887,
          0.7892287485316772,
          0.817284949721168,
          0.9347111114436598,
          0.7636704804998095,
          0.8817388829454538,
          0.16079584235903688,
          0.4801938287907639,
          0.8935045746421058,
          0.8773971081381907,
          0.8802737217134514,
          0.5199528817308927,
          0.8879419192076441,
          0.8784365672333666,
          0.6865340942462388,
          0.7561727185777858,
          0.8239019626335372,
          0.8340130297276043,
          0.683297225305677,
          0.10333356801395846,
          0.8643450662740426,
          0.8531454661771457,
          0.8746871341395752,
          0.7542716453582406,
          0.8417015567784049,
          0.724942098643221,
          0.8970172564928812,
          0.8950674458425929,
          0.7609593431451693,
          0.3598285404697328,
          0.9166757811887968,
          0.7954465603018225,
          0.841726439379085,
          0.9297241889376244,
          0.6729071444997823,
          0.11047231762731259,
          0.8581571665498999,
          0.0935846950056538,
          0.5517482455164565,
          0.3615551785378827,
          0.8704348395874925,
          0.15065631440511912,
          0.9230413542703046,
          0.7408849134947348,
          0.8439856009289969,
          0.8581330748321804,
          0.8743593558436827,
          0.8184462591717122,
          0.18262180298419328,
          0.02223043178590198,
          0.6868108856955782,
          0.8506196016510164,
          0.7536260006940015,
          0.8564081494115995,
          0.8836998848020495,
          0.40848677397047656,
          0.7829291952779612,
          0.7532803619972948,
          0.5079925376756224,
          0.7432921194483908,
          0.8876705639014986,
          0.9172472116697745,
          0.8255183660112063,
          0.619184126649245,
          0.6397597169135769,
          0.8853924480736106,
          0.8879835900383255,
          0.8568471976844426,
          0.4890764550008169,
          0.7098800990754272,
          0.8994414299933465,
          0.3168450190327228,
          0.9207505171028424,
          0.8371266528290853,
          0.010021995168212179,
          0.8471649529468084,
          0.9107664730052851,
          0.9200117559257225,
          0.9136929786332213,
          0.37289396796580554,
          0.907664235240041,
          0.6765999399357875,
          0.8484840469988086,
          0.8689721028059892,
          0.7412759096498669,
          0.7374216087880131,
          0.9117958579220197,
          0.908406470034536,
          0.9025236814840326,
          0.8703888531603865,
          0.5723745911185646,
          0.8672906080996292,
          0.9002440492186815,
          0.45663904845718556,
          0.05632228995581046,
          0.8992171032577474,
          0.8521906652360968,
          0.7335481538015816,
          0.8802205766953785,
          0.9237898015732581,
          0.787546871795481,
          0.855055869002832,
          0.9373769539652034,
          0.9028089999544723,
          0.9074598566198148,
          0.4899388359205749,
          0.3499627964113448,
          0.8596013088119255,
          0.9045257091693811,
          0.8937732374462196,
          0.871068272941713,
          0.8870160145954842,
          0.8795396498658411,
          0.5843692475873167,
          0.9294978711842505,
          0.8825978544384967,
          0.9252149021616466,
          0.884550962619206,
          0.8340154343052858,
          0.5246742783116141,
          0.8885318766806672,
          0.87095503028196,
          0.8732497249734971,
          0.8390828934125587,
          0.8746678063567942,
          0.9198126965343082,
          0.8932686704335312,
          0.8799631912696199,
          0.04012051670654438,
          0.13669305616134092,
          0.8753081417116227,
          0.9060109371543227,
          0.6559782361470337,
          0.817649952078995,
          0.8512335001759525,
          0.8865514211731985,
          0.9194997037111244,
          0.8446409866561063,
          0.850730923038584,
          0.9240287617786278,
          0.8917358308618056,
          0.5990036951087999,
          0.8664139864582457,
          0.5105002384636267,
          0.5058590233718822,
          0.08204205119802527,
          0.6507124917149277,
          0.9005878642442795,
          0.35674464000431827,
          0.9178563175254986,
          0.733020869569044,
          0.6187715926274612,
          0.7701087068018206,
          0.6116306431763778,
          0.8810486312410365,
          0.7925437405297295,
          0.9003487629909952,
          0.4821900568586357,
          0.5452062801999976,
          0.7510931775166635,
          0.08702674102853733,
          0.4935326187494908,
          0.8093178934455796,
          0.8674842057757282,
          0.6366295944313858,
          0.9219892176211384,
          0.7428105888236779,
          0.0477617458150448,
          0.8294536228939176,
          0.9235102844500623,
          0.7292956636605693,
          0.7782943630794201,
          0.9176413062806765,
          0.8160565971190578,
          0.8646237106075093,
          0.6610538583495981,
          0.05906610457957863,
          0.7644689379010843,
          0.9028175109777451,
          0.6266254325962046,
          0.7331415369483114,
          0.8757253960744256,
          0.9039260205219364,
          0.8969411096655109,
          0.5520858856131133,
          0.8585094355578844,
          0.7791136743035864,
          0.4233188970380516,
          0.7165176843072596,
          0.9172447297012517,
          0.8970391706137294,
          0.6678321275559541,
          0.7518502291620379,
          0.8540396451123103,
          0.8492257746344362,
          0.3813719378253009,
          0.565812395949279,
          0.8324600479587673,
          0.9247759662901466,
          0.7853371996919313,
          0.840312534847714,
          0.5543676972533816,
          0.8871079132444045,
          0.7238934271593972,
          0.7814731252123467,
          0.8929868084390207,
          0.7863448960604398,
          0.8823388900439205,
          0.9179657353986614,
          0.40602843311532455,
          0.8899017096428417,
          0.7766322413559821,
          0.5251110005438575,
          0.8625599729633642,
          0.8305910676155678,
          0.9338022340107629,
          0.8609567440992959,
          0.8943637047824479,
          0.8595729368868784,
          0.9147100714423333,
          0.7062502048533916,
          0.8097400780046375,
          0.9104126662462991,
          0.8600301854074185,
          0.9381446161645347,
          0.822150756326938,
          0.9096589717480023,
          0.9050347240807893,
          0.7433195032529377,
          0.8716275877691868,
          0.912148140175,
          0.7606248522194857,
          0.7786037835277462,
          0.764200170149389,
          0.7481640535091164,
          0.524442426078691,
          0.16966370033390685,
          0.8895542290667576,
          0.49552683097281763,
          0.8976402883957454,
          0.7420182196193926,
          0.4978976753266597,
          0.8176500023092643,
          0.9075025008197428,
          0.843292719394282,
          0.7167329963938641,
          0.836192019717105,
          0.8573725461205356,
          0.8824040304267716,
          0.8306908044287747,
          0.6617251599486091,
          0.8722029358288423,
          0.8277749382677938,
          0.8178001870629286,
          0.4038216800408566,
          0.8183734343758493,
          0.7369563599352438,
          0.9178482628716284,
          0.8818925246673369,
          0.8147524934395403,
          0.9172858227479178,
          0.7221546393966052,
          0.8819740037987648,
          0.8578793508398302,
          0.931267771001685,
          0.7951532159683304,
          0.8763789642029338,
          0.7626956517509624,
          0.12486848463110527,
          0.8451023977905577,
          0.860539784335568,
          0.9134931787210934,
          0.7554110093904424,
          0.8430145156577795,
          0.8518949199379403,
          0.9073312597936855,
          0.8089998229062311,
          0.8546898458443641,
          0.6967883721596992,
          0.8578433211896379,
          0.6548207485816736,
          0.8461608786877233,
          0.861424202677106,
          0.5602479046413095,
          0.8441207158923814,
          0.04962514953865615,
          0.9171695219203344,
          0.6381575536628704,
          0.39205653304349036,
          0.25343982963023354,
          0.900596401942785,
          0.900673082590367,
          0.8920926933848804,
          0.6581014383430559,
          0.7327570136892283,
          0.8128482841334251,
          0.5440293962806043,
          0.8738468906847013,
          0.8523829899697696,
          0.8353399929411188,
          0.8059030115926274,
          0.7636211547557178,
          0.9047865170004538,
          0.7969785573838506,
          0.8802737217134514,
          0.8974063699911244,
          0.8561635849731444,
          0.8661610636289679,
          0.13339037050739577,
          0.6359315933373978,
          0.7641329550639375,
          0.08229694357919114,
          0.8233854194019955,
          0.8654103378803764,
          0.07416408264724585,
          0.8396670103382384,
          0.8406364849033897,
          0.3622192738558656,
          0.712210691560282,
          0.6083991627114197,
          0.8898488132719055,
          0.8682155673918681,
          0.8825357129288162,
          0.7617366196185565,
          0.8883001698289147,
          0.6845127929914211,
          0.8318608330163139,
          0.8069125522609376,
          0.13243293120524255,
          0.1653218083877631,
          0.7330884646061668,
          0.8598045888107361,
          0.8738026367628241,
          0.6985411368475337,
          0.4759888301533676,
          0.8124747267959732,
          0.9116717607001954,
          0.9060823964339603,
          0.8424166614327325,
          0.22426112845941237,
          0.8703403617263168,
          0.03919404389941103,
          0.850139916957296,
          0.738933350803266,
          0.6727863143951872,
          0.8004804527485456,
          0.858081868973761,
          0.7918630363026697,
          0.881549175268961,
          0.8919373863023929,
          0.8121778943042152,
          0.4089166647488935,
          0.7233857041419618,
          0.6873068248400445,
          0.6752849554315462,
          0.7197885225647569,
          0.05280268483150468,
          0.19627333659825427,
          0.5283069170537212,
          0.8527916870448098,
          0.7860846175610963,
          0.8123394006849352,
          0.8857825293719923,
          0.21102314067938566,
          0.04340936175970559,
          0.9395623938346279,
          0.8149638283372963,
          0.8479312408968792,
          0.8532100701250713,
          0.769257545641189,
          0.8156681750062226,
          0.9038311121783833,
          0.10228856793336753,
          0.904167680720336,
          0.21250229015502511,
          0.9052024675924756,
          0.8853440713314064,
          0.9214392085680341,
          0.9047013578719737,
          0.895047812200716,
          0.8835879144292001,
          0.9258439932055542,
          0.06165809589999468,
          0.9245614762712037,
          0.8685111944828298,
          0.8839073928508898,
          0.887179751185019,
          0.9244903071346474,
          0.8537893156590439,
          0.8869332202949612,
          0.363521812886647,
          0.9142985473216633,
          0.8922275471328303,
          0.04024844150705683,
          0.9411732584983663,
          0.8596138849826529,
          0.5912770050160668,
          0.9165663864207562,
          0.8145579273124331,
          0.8738392701235902,
          0.8541667373107417,
          0.8001473711056967,
          0.8721345377443571,
          0.9295730746548648,
          0.9138696617168222,
          0.903897360399953,
          0.3441826660250908,
          0.844812424112942,
          0.6608048839311007,
          0.6531551556638213,
          0.8748179365127708,
          0.2672202856450094,
          0.9308395353906598,
          0.7087541385843058,
          0.7551591061375658,
          0.5418722881374107,
          0.8563821066669043,
          0.6871264256792086,
          0.8805374292960823,
          0.9202514364850327,
          0.6970083632928904,
          0.8863225966755856,
          0.9132950989051049,
          0.8608621831269619,
          0.9319681733613628,
          0.9063512569182995,
          0.3412893590533493,
          0.8912246612212981,
          0.8826803535266544,
          0.8345046598860446,
          0.46293855864994116,
          0.7764160714649355,
          0.8718027060631812,
          0.6622150913767695,
          0.8608621831269619,
          0.8918187281989678,
          0.7847621512764633,
          0.8583415022635394,
          0.3154272872086492,
          0.8530187820213148,
          0.4683821025191407,
          0.8001971223435658,
          0.8033366913285303,
          0.37154350670372205,
          0.8581514552971599,
          0.7873693240153703,
          0.9211572463580104,
          0.8206159305465277,
          0.9090098560003748,
          0.6360468258979782,
          0.8914287475416245,
          0.8621545238946082,
          0.21468189368863033,
          0.6217137393024852,
          0.8519214531408797,
          0.7673551705377996,
          0.7183603127938083,
          0.1834598585119189,
          0.8713597657521911,
          0.8161181412746898,
          0.6413053485150161,
          0.9270475855181527,
          0.721173905835806,
          0.8955124252842604,
          0.891070471437787,
          0.7750529208931235,
          0.11511575986712842,
          0.7585801349307665,
          0.8984536373806499,
          0.8781551886431361,
          0.8609456497841566,
          0.8341836065292463,
          0.8265313451822689,
          0.5134312842887225,
          0.8496759044100792,
          0.7687922099475023,
          0.5658504068977854,
          0.8822580780900945,
          0.9222730305918009,
          0.8341889835089332,
          0.779947494696589,
          0.5732136061984697,
          0.8732497249734971,
          0.9040209878113239,
          0.8532100701250713,
          0.8372431215906944,
          0.9038311121783833,
          0.29350736602307015,
          0.6637953126618218,
          0.8666237405747585,
          0.8722993535806731,
          0.8924182351807879,
          0.5778345623075533,
          0.919686983104927,
          0.8796823921996524,
          0.8650065225003237,
          0.8730258323600579,
          0.9053911336377686,
          0.19737089766085256,
          0.9090098560003748,
          0.5787184709045939,
          0.4046501330797135,
          0.47612723663559986,
          0.9009050258223232,
          0.6865810496511834,
          0.8950329338777107,
          0.8514335097611413,
          0.7947698863261289,
          0.8921940160922003,
          0.735020183712055,
          0.8945065386360044,
          0.6080471438436857,
          0.44174019481057614,
          0.8972128676009355,
          0.35341780852570864,
          0.6020791963782042,
          0.8685599240452482,
          0.04959828166591634,
          0.8144801356230519,
          0.23024157046544919,
          0.8037012908006529,
          0.9036583628848742,
          0.5437009897594262,
          0.8367897219006862,
          0.7793348157539208,
          0.8360523245638637,
          0.8354897771423005,
          0.44318256981018256,
          0.9147268007921721,
          0.9000340706200327,
          0.8907604926834478,
          0.8039620931671269,
          0.5187427108835273,
          0.5972925075854284,
          0.9206384939288383,
          0.9030147284563338,
          0.8480053696415424,
          0.6830930276114634,
          0.7296735770175136,
          0.9085905572175728,
          0.8898057943046844,
          0.6345378025300071,
          0.7811178564008379,
          0.9290857749782228,
          0.8801631218078729,
          0.8546898458443641,
          0.5341880925134408,
          0.12741100804469302,
          0.9081305473778432,
          0.15518885147707984,
          0.8884926146966853,
          0.8110953302210883,
          0.9033448985477623,
          0.8053597589745062,
          0.7036071618534117,
          0.5285989770443557,
          0.27694434323262185,
          0.7855331923420518,
          0.7925437405297295,
          0.7754318375896149,
          0.8102756625152937,
          0.9269536309079933,
          0.9020571115161935,
          0.8142755631239692,
          0.7742284468997966,
          0.5080981125028899,
          0.18277631332942645,
          0.892430744522676,
          0.7946941154459579,
          0.6712210535420305,
          0.23657718319213517,
          0.8440907934726343,
          0.3267647674666955,
          0.8007757170713348,
          0.8582065928125368,
          0.923149750504337,
          0.003526258095213639,
          0.874305740210932,
          0.8727466616634543,
          0.7292849468489382,
          0.7382901715484088,
          0.8163622807237425,
          0.5730239717458109,
          0.8731892712126804,
          0.5792577512622455,
          0.5245989525916986,
          0.8016260138088561,
          0.3175983939795119,
          0.905484886668366,
          0.46752891927679935,
          0.8533887599983052,
          0.8830330476256694,
          0.4753163995480465,
          0.4497369911622925,
          0.7313074106919107,
          0.9252595482858613,
          0.867854980071143,
          0.8032743126856722,
          0.8712268012572948,
          0.7847616787309071,
          0.7982179866160111,
          0.8386515170514198,
          0.9024520955255065,
          0.858852399304332,
          0.9048725940597669,
          0.2993071308102945,
          0.7420310537377284,
          0.9236670273821297,
          0.7761750013673552,
          0.6335381506735489,
          0.635620945511224,
          0.7653866511415545,
          0.7366779513833491,
          0.29333614638399386,
          0.4291662235309423,
          0.5485010191440186,
          0.32802345738303035,
          0.39982918927190236,
          0.305214290489698,
          0.11032513982581274,
          0.05481934454936759,
          0.910701303962122,
          0.7909123242057362,
          0.6537573884089821,
          0.8317283535057646,
          0.8468249079760242,
          0.54599082030657,
          0.7047809455059586,
          0.9223089600438944,
          0.3547158925844888,
          0.19361919204400505,
          0.8676594134755514,
          0.875309933656534,
          0.7759876438485397,
          0.395764463458406,
          0.8674374096507403,
          0.30893840427289004,
          0.8507125138134827,
          0.8118827631330687,
          0.7326013931719854,
          0.831658771686327,
          0.8933156750557967,
          0.7406393814169947,
          0.07466177188509972,
          0.05307800741255462,
          0.7769419080435358,
          0.44228380344502877,
          0.8682822726358428,
          0.008238825375216356,
          0.7989725037649374,
          0.9457642011959541,
          0.8986355431394009,
          0.7358373008881629,
          0.047363052071454484,
          0.9286909781715403,
          0.7265356627575881,
          0.8875553867713666,
          0.11632198937690902,
          0.8767248556780807
         ]
        }
       ],
       "layout": {
        "paper_bgcolor": "rgba(0,0,0,0)",
        "plot_bgcolor": "rgba(0,0,0,0)",
        "template": {
         "data": {
          "bar": [
           {
            "error_x": {
             "color": "#2a3f5f"
            },
            "error_y": {
             "color": "#2a3f5f"
            },
            "marker": {
             "line": {
              "color": "#E5ECF6",
              "width": 0.5
             },
             "pattern": {
              "fillmode": "overlay",
              "size": 10,
              "solidity": 0.2
             }
            },
            "type": "bar"
           }
          ],
          "barpolar": [
           {
            "marker": {
             "line": {
              "color": "#E5ECF6",
              "width": 0.5
             },
             "pattern": {
              "fillmode": "overlay",
              "size": 10,
              "solidity": 0.2
             }
            },
            "type": "barpolar"
           }
          ],
          "carpet": [
           {
            "aaxis": {
             "endlinecolor": "#2a3f5f",
             "gridcolor": "white",
             "linecolor": "white",
             "minorgridcolor": "white",
             "startlinecolor": "#2a3f5f"
            },
            "baxis": {
             "endlinecolor": "#2a3f5f",
             "gridcolor": "white",
             "linecolor": "white",
             "minorgridcolor": "white",
             "startlinecolor": "#2a3f5f"
            },
            "type": "carpet"
           }
          ],
          "choropleth": [
           {
            "colorbar": {
             "outlinewidth": 0,
             "ticks": ""
            },
            "type": "choropleth"
           }
          ],
          "contour": [
           {
            "colorbar": {
             "outlinewidth": 0,
             "ticks": ""
            },
            "colorscale": [
             [
              0,
              "#0d0887"
             ],
             [
              0.1111111111111111,
              "#46039f"
             ],
             [
              0.2222222222222222,
              "#7201a8"
             ],
             [
              0.3333333333333333,
              "#9c179e"
             ],
             [
              0.4444444444444444,
              "#bd3786"
             ],
             [
              0.5555555555555556,
              "#d8576b"
             ],
             [
              0.6666666666666666,
              "#ed7953"
             ],
             [
              0.7777777777777778,
              "#fb9f3a"
             ],
             [
              0.8888888888888888,
              "#fdca26"
             ],
             [
              1,
              "#f0f921"
             ]
            ],
            "type": "contour"
           }
          ],
          "contourcarpet": [
           {
            "colorbar": {
             "outlinewidth": 0,
             "ticks": ""
            },
            "type": "contourcarpet"
           }
          ],
          "heatmap": [
           {
            "colorbar": {
             "outlinewidth": 0,
             "ticks": ""
            },
            "colorscale": [
             [
              0,
              "#0d0887"
             ],
             [
              0.1111111111111111,
              "#46039f"
             ],
             [
              0.2222222222222222,
              "#7201a8"
             ],
             [
              0.3333333333333333,
              "#9c179e"
             ],
             [
              0.4444444444444444,
              "#bd3786"
             ],
             [
              0.5555555555555556,
              "#d8576b"
             ],
             [
              0.6666666666666666,
              "#ed7953"
             ],
             [
              0.7777777777777778,
              "#fb9f3a"
             ],
             [
              0.8888888888888888,
              "#fdca26"
             ],
             [
              1,
              "#f0f921"
             ]
            ],
            "type": "heatmap"
           }
          ],
          "heatmapgl": [
           {
            "colorbar": {
             "outlinewidth": 0,
             "ticks": ""
            },
            "colorscale": [
             [
              0,
              "#0d0887"
             ],
             [
              0.1111111111111111,
              "#46039f"
             ],
             [
              0.2222222222222222,
              "#7201a8"
             ],
             [
              0.3333333333333333,
              "#9c179e"
             ],
             [
              0.4444444444444444,
              "#bd3786"
             ],
             [
              0.5555555555555556,
              "#d8576b"
             ],
             [
              0.6666666666666666,
              "#ed7953"
             ],
             [
              0.7777777777777778,
              "#fb9f3a"
             ],
             [
              0.8888888888888888,
              "#fdca26"
             ],
             [
              1,
              "#f0f921"
             ]
            ],
            "type": "heatmapgl"
           }
          ],
          "histogram": [
           {
            "marker": {
             "pattern": {
              "fillmode": "overlay",
              "size": 10,
              "solidity": 0.2
             }
            },
            "type": "histogram"
           }
          ],
          "histogram2d": [
           {
            "colorbar": {
             "outlinewidth": 0,
             "ticks": ""
            },
            "colorscale": [
             [
              0,
              "#0d0887"
             ],
             [
              0.1111111111111111,
              "#46039f"
             ],
             [
              0.2222222222222222,
              "#7201a8"
             ],
             [
              0.3333333333333333,
              "#9c179e"
             ],
             [
              0.4444444444444444,
              "#bd3786"
             ],
             [
              0.5555555555555556,
              "#d8576b"
             ],
             [
              0.6666666666666666,
              "#ed7953"
             ],
             [
              0.7777777777777778,
              "#fb9f3a"
             ],
             [
              0.8888888888888888,
              "#fdca26"
             ],
             [
              1,
              "#f0f921"
             ]
            ],
            "type": "histogram2d"
           }
          ],
          "histogram2dcontour": [
           {
            "colorbar": {
             "outlinewidth": 0,
             "ticks": ""
            },
            "colorscale": [
             [
              0,
              "#0d0887"
             ],
             [
              0.1111111111111111,
              "#46039f"
             ],
             [
              0.2222222222222222,
              "#7201a8"
             ],
             [
              0.3333333333333333,
              "#9c179e"
             ],
             [
              0.4444444444444444,
              "#bd3786"
             ],
             [
              0.5555555555555556,
              "#d8576b"
             ],
             [
              0.6666666666666666,
              "#ed7953"
             ],
             [
              0.7777777777777778,
              "#fb9f3a"
             ],
             [
              0.8888888888888888,
              "#fdca26"
             ],
             [
              1,
              "#f0f921"
             ]
            ],
            "type": "histogram2dcontour"
           }
          ],
          "mesh3d": [
           {
            "colorbar": {
             "outlinewidth": 0,
             "ticks": ""
            },
            "type": "mesh3d"
           }
          ],
          "parcoords": [
           {
            "line": {
             "colorbar": {
              "outlinewidth": 0,
              "ticks": ""
             }
            },
            "type": "parcoords"
           }
          ],
          "pie": [
           {
            "automargin": true,
            "type": "pie"
           }
          ],
          "scatter": [
           {
            "marker": {
             "colorbar": {
              "outlinewidth": 0,
              "ticks": ""
             }
            },
            "type": "scatter"
           }
          ],
          "scatter3d": [
           {
            "line": {
             "colorbar": {
              "outlinewidth": 0,
              "ticks": ""
             }
            },
            "marker": {
             "colorbar": {
              "outlinewidth": 0,
              "ticks": ""
             }
            },
            "type": "scatter3d"
           }
          ],
          "scattercarpet": [
           {
            "marker": {
             "colorbar": {
              "outlinewidth": 0,
              "ticks": ""
             }
            },
            "type": "scattercarpet"
           }
          ],
          "scattergeo": [
           {
            "marker": {
             "colorbar": {
              "outlinewidth": 0,
              "ticks": ""
             }
            },
            "type": "scattergeo"
           }
          ],
          "scattergl": [
           {
            "marker": {
             "colorbar": {
              "outlinewidth": 0,
              "ticks": ""
             }
            },
            "type": "scattergl"
           }
          ],
          "scattermapbox": [
           {
            "marker": {
             "colorbar": {
              "outlinewidth": 0,
              "ticks": ""
             }
            },
            "type": "scattermapbox"
           }
          ],
          "scatterpolar": [
           {
            "marker": {
             "colorbar": {
              "outlinewidth": 0,
              "ticks": ""
             }
            },
            "type": "scatterpolar"
           }
          ],
          "scatterpolargl": [
           {
            "marker": {
             "colorbar": {
              "outlinewidth": 0,
              "ticks": ""
             }
            },
            "type": "scatterpolargl"
           }
          ],
          "scatterternary": [
           {
            "marker": {
             "colorbar": {
              "outlinewidth": 0,
              "ticks": ""
             }
            },
            "type": "scatterternary"
           }
          ],
          "surface": [
           {
            "colorbar": {
             "outlinewidth": 0,
             "ticks": ""
            },
            "colorscale": [
             [
              0,
              "#0d0887"
             ],
             [
              0.1111111111111111,
              "#46039f"
             ],
             [
              0.2222222222222222,
              "#7201a8"
             ],
             [
              0.3333333333333333,
              "#9c179e"
             ],
             [
              0.4444444444444444,
              "#bd3786"
             ],
             [
              0.5555555555555556,
              "#d8576b"
             ],
             [
              0.6666666666666666,
              "#ed7953"
             ],
             [
              0.7777777777777778,
              "#fb9f3a"
             ],
             [
              0.8888888888888888,
              "#fdca26"
             ],
             [
              1,
              "#f0f921"
             ]
            ],
            "type": "surface"
           }
          ],
          "table": [
           {
            "cells": {
             "fill": {
              "color": "#EBF0F8"
             },
             "line": {
              "color": "white"
             }
            },
            "header": {
             "fill": {
              "color": "#C8D4E3"
             },
             "line": {
              "color": "white"
             }
            },
            "type": "table"
           }
          ]
         },
         "layout": {
          "annotationdefaults": {
           "arrowcolor": "#2a3f5f",
           "arrowhead": 0,
           "arrowwidth": 1
          },
          "autotypenumbers": "strict",
          "coloraxis": {
           "colorbar": {
            "outlinewidth": 0,
            "ticks": ""
           }
          },
          "colorscale": {
           "diverging": [
            [
             0,
             "#8e0152"
            ],
            [
             0.1,
             "#c51b7d"
            ],
            [
             0.2,
             "#de77ae"
            ],
            [
             0.3,
             "#f1b6da"
            ],
            [
             0.4,
             "#fde0ef"
            ],
            [
             0.5,
             "#f7f7f7"
            ],
            [
             0.6,
             "#e6f5d0"
            ],
            [
             0.7,
             "#b8e186"
            ],
            [
             0.8,
             "#7fbc41"
            ],
            [
             0.9,
             "#4d9221"
            ],
            [
             1,
             "#276419"
            ]
           ],
           "sequential": [
            [
             0,
             "#0d0887"
            ],
            [
             0.1111111111111111,
             "#46039f"
            ],
            [
             0.2222222222222222,
             "#7201a8"
            ],
            [
             0.3333333333333333,
             "#9c179e"
            ],
            [
             0.4444444444444444,
             "#bd3786"
            ],
            [
             0.5555555555555556,
             "#d8576b"
            ],
            [
             0.6666666666666666,
             "#ed7953"
            ],
            [
             0.7777777777777778,
             "#fb9f3a"
            ],
            [
             0.8888888888888888,
             "#fdca26"
            ],
            [
             1,
             "#f0f921"
            ]
           ],
           "sequentialminus": [
            [
             0,
             "#0d0887"
            ],
            [
             0.1111111111111111,
             "#46039f"
            ],
            [
             0.2222222222222222,
             "#7201a8"
            ],
            [
             0.3333333333333333,
             "#9c179e"
            ],
            [
             0.4444444444444444,
             "#bd3786"
            ],
            [
             0.5555555555555556,
             "#d8576b"
            ],
            [
             0.6666666666666666,
             "#ed7953"
            ],
            [
             0.7777777777777778,
             "#fb9f3a"
            ],
            [
             0.8888888888888888,
             "#fdca26"
            ],
            [
             1,
             "#f0f921"
            ]
           ]
          },
          "colorway": [
           "#636efa",
           "#EF553B",
           "#00cc96",
           "#ab63fa",
           "#FFA15A",
           "#19d3f3",
           "#FF6692",
           "#B6E880",
           "#FF97FF",
           "#FECB52"
          ],
          "font": {
           "color": "#2a3f5f"
          },
          "geo": {
           "bgcolor": "white",
           "lakecolor": "white",
           "landcolor": "#E5ECF6",
           "showlakes": true,
           "showland": true,
           "subunitcolor": "white"
          },
          "hoverlabel": {
           "align": "left"
          },
          "hovermode": "closest",
          "mapbox": {
           "style": "light"
          },
          "paper_bgcolor": "white",
          "plot_bgcolor": "#E5ECF6",
          "polar": {
           "angularaxis": {
            "gridcolor": "white",
            "linecolor": "white",
            "ticks": ""
           },
           "bgcolor": "#E5ECF6",
           "radialaxis": {
            "gridcolor": "white",
            "linecolor": "white",
            "ticks": ""
           }
          },
          "scene": {
           "xaxis": {
            "backgroundcolor": "#E5ECF6",
            "gridcolor": "white",
            "gridwidth": 2,
            "linecolor": "white",
            "showbackground": true,
            "ticks": "",
            "zerolinecolor": "white"
           },
           "yaxis": {
            "backgroundcolor": "#E5ECF6",
            "gridcolor": "white",
            "gridwidth": 2,
            "linecolor": "white",
            "showbackground": true,
            "ticks": "",
            "zerolinecolor": "white"
           },
           "zaxis": {
            "backgroundcolor": "#E5ECF6",
            "gridcolor": "white",
            "gridwidth": 2,
            "linecolor": "white",
            "showbackground": true,
            "ticks": "",
            "zerolinecolor": "white"
           }
          },
          "shapedefaults": {
           "line": {
            "color": "#2a3f5f"
           }
          },
          "ternary": {
           "aaxis": {
            "gridcolor": "white",
            "linecolor": "white",
            "ticks": ""
           },
           "baxis": {
            "gridcolor": "white",
            "linecolor": "white",
            "ticks": ""
           },
           "bgcolor": "#E5ECF6",
           "caxis": {
            "gridcolor": "white",
            "linecolor": "white",
            "ticks": ""
           }
          },
          "title": {
           "x": 0.05
          },
          "xaxis": {
           "automargin": true,
           "gridcolor": "white",
           "linecolor": "white",
           "ticks": "",
           "title": {
            "standoff": 15
           },
           "zerolinecolor": "white",
           "zerolinewidth": 2
          },
          "yaxis": {
           "automargin": true,
           "gridcolor": "white",
           "linecolor": "white",
           "ticks": "",
           "title": {
            "standoff": 15
           },
           "zerolinecolor": "white",
           "zerolinewidth": 2
          }
         }
        },
        "title": {
         "text": "Distribution of Probability of Being Alive"
        },
        "xaxis": {
         "title": {
          "text": "Probability of Being Alive"
         }
        },
        "yaxis": {
         "title": {
          "text": "Number of Customers"
         }
        }
       }
      },
      "text/html": [
       "<div>                            <div id=\"20959414-63ab-41fb-bf55-b0be4ff54cf1\" class=\"plotly-graph-div\" style=\"height:525px; width:100%;\"></div>            <script type=\"text/javascript\">                require([\"plotly\"], function(Plotly) {                    window.PLOTLYENV=window.PLOTLYENV || {};                                    if (document.getElementById(\"20959414-63ab-41fb-bf55-b0be4ff54cf1\")) {                    Plotly.newPlot(                        \"20959414-63ab-41fb-bf55-b0be4ff54cf1\",                        [{\"nbinsx\":50,\"x\":[0.32684532533940985,0.7788441749788637,0.9106812392222537,0.8701028175591906,0.5794328286034505,0.7914938479425937,0.2900746587775821,0.7757233658822312,0.8453739436750939,0.7888226410375845,0.5995934800532514,0.798763797079923,0.3170022733268187,0.6891242012450709,0.881662304814929,0.5470487958534322,0.7459286788824128,0.5274137808189444,0.5955184810163092,0.7067809252573931,0.2283921109388519,0.8884896159259793,0.7882922665400025,0.22901043538370255,0.804726729943726,0.6614144739637452,0.8555678424623336,0.8811008101125323,0.8047157831602182,0.6406802810919204,0.8649957378074195,0.6250722603747142,0.8742146448736375,0.7873370532768985,0.9139453139027333,0.6523468352065762,0.8004409582434673,0.8551568627308858,0.8509203937838483,0.6522795133554952,0.8257019937320818,0.6214910732022567,0.8981817072817642,0.5884851033216096,0.12055098422485114,0.8962181988022697,0.8126376390503189,0.8525166607230756,0.8417714927147821,0.43940312203426163,0.7937711775909231,0.9133047646519553,0.8030985765291263,0.7346871628552414,0.6483453728935683,0.8119548747302731,0.7717004279483176,0.9108133701183904,0.5765034458698859,0.9233955858014797,0.8662416008019207,0.8727477809949031,0.9088713456568003,0.8890713685679139,0.06024247631227458,0.7046802977288501,0.8568203736579426,0.6804444246224713,0.7530698710410941,0.10230026204490597,0.8905392028579059,0.8893662729306493,0.899696229336077,0.9191233581009263,0.9012659024638797,0.8236149065108698,0.7312098414123115,0.7957540988105659,0.868857435503507,0.8895750996729447,0.8782009749964957,0.09595630445119653,0.35083886734264186,0.685890061270935,0.9033557867984556,0.8548066671899567,0.020874716775361804,0.6694306133932353,0.880061596989046,0.41065755930675096,0.8353959100848283,0.9217703548169556,0.4977040779404226,0.6603567931588437,0.8249437847082411,0.9087307517764823,0.843558965213578,0.929158799078381,0.823636814705131,0.9440796755315247,0.9320260905612897,0.48677470721435273,0.47980679521622516,0.5630732399536229,0.7957540988105659,0.15476890843716964,0.7715667375972464,0.721807527600453,0.9076626542134186,0.17120855028767132,0.6015539764326174,0.5273315274717867,0.6097939198362753,0.8683233947043703,0.9009099409893749,0.8035057833755374,0.6904865278023519,0.8562748057227059,0.9387550960106763,0.828207815438502,0.7132913504015855,0.4294224789587924,0.8187534460303234,0.8097001134618173,0.7085637885536209,0.8712533281312258,0.6311691886255981,0.822150756326938,0.9096406038942203,0.8574216885816849,0.8098025936941602,0.8407991639490673,0.7952251240947548,0.9337307454447236,0.5717111175239526,0.8254012447436158,0.12959055747344475,0.9318666180214703,0.8578710042839731,0.7493690462393467,0.895539548806481,0.8727243488470448,0.9085372113663295,0.8788620936806676,0.2978572840161434,0.824052155750349,0.8551946096478199,0.8564411423933302,0.5271186865297128,0.582692722543286,0.8978350850989694,0.7287946361942715,0.8704460471987,0.6624465146912878,0.8712751568622402,0.8626545919467418,0.8617695381267861,0.8859597882861393,0.867385823084033,0.4038443259230572,0.8606828370095007,0.7709671171863607,0.7888678954343985,0.8990704655018362,0.8799392678392559,0.604774444309027,0.8249622572843496,0.8347368078220139,0.9141470230779581,0.8841792720949444,0.9113663673774188,0.14995936170014734,0.024497702407838984,0.9070596292656946,0.09984984527269816,0.915083355410771,0.8796677514995714,0.7277600466994308,0.891327720913966,0.8464188744324418,0.7544595871739062,0.918932584777855,0.2573308506647744,0.13456960605025478,0.6549578644623124,0.6995564935017871,0.8826803535266544,0.5523009410291023,0.5070729954536073,0.8054473680284182,0.847427223586619,0.8827698058820145,0.9050450069012855,0.798292959103542,0.9036283975602534,0.5600721408594855,0.8791521739011797,0.884167277861154,0.9175061173796379,0.9206099488509103,0.5402856952777018,0.6084699574344388,0.9231602665529381,0.3659779003237309,0.4729906574599549,0.8698294776947664,0.044787199732991584,0.7937440247898611,0.2695141693087975,0.8255502433638827,0.3992512881734613,0.25157267467989963,0.6434851358638121,0.4722501218117706,0.7808370202454048,0.9267751482135624,0.9041175849446993,0.7873442843526635,0.8863233769358597,0.8779244545780439,0.02511523299205508,0.8654167641351416,0.711621214966585,0.8234283981591078,0.8931810600872573,0.4118262270551818,0.763643551697087,0.7320640505291364,0.6814198371021151,0.8318473784926433,0.8783850347386,0.620955302135261,0.8087158193475876,0.7382023460445678,0.900618889105885,0.8345613794752867,0.6880333556540916,0.8935185334722271,0.8421788966997094,0.8105531722671716,0.7481429614067887,0.7786622651363089,0.7234622704725352,0.8746033446295224,0.6403552525090268,0.5443257079012613,0.8803299102013864,0.8034570081463845,0.9149660638288822,0.8654984501102065,0.9145990442506657,0.663880536366342,0.5996092208506973,0.8849946071546828,0.8444565934197574,0.5572515532119173,0.8024180226536188,0.7600806370051492,0.8601288840564709,0.6949170053444771,0.843976130367514,0.8105531722671716,0.4635896440588926,0.5563288063121719,0.9135261403842454,0.7902186838586738,0.8510106700890172,0.2363409064431078,0.8991042258880688,0.5272083076816502,0.6451029869686868,0.9161694735273532,0.9048725940597669,0.7249661680612299,0.026129646564680836,0.7538737380391316,0.9309866405910528,0.7080953394205849,0.8063785162539185,0.8029386415360965,0.7442880969299425,0.5284494606041203,0.8438834331163151,0.8924704717449236,0.7567246509486837,0.7580879351965248,0.6344335273695049,0.841925368549924,0.8929011913582674,0.8354897771423005,0.8749901515376305,0.8223312767662518,0.8812601799230344,0.8648949821502165,0.8645521034218968,0.17062339547205904,0.6633579793276313,0.6115463337059677,0.620227105657093,0.8960573446255097,0.9281690125253601,0.8400197946140604,0.8664864964131185,0.884317353952608,0.7674976115398413,0.36091013176127373,0.8923879914997391,0.7256129586822745,0.7975188524629208,0.8089491618200638,0.744038307027092,0.250257818082477,0.6463004965316855,0.8196403095908882,0.8799408518999506,0.9234671393992167,0.8627293706102682,0.5392755209251516,0.8538447539127936,0.7562317612353865,0.8744087537400558,0.6719000519635672,0.6695343977828069,0.9274278791711361,0.16169330856807648,0.8721345377443571,0.8874095872265217,0.8764391282711554,0.03909589440380263,0.8157639489952526,0.2215824278068102,0.904167680720336,0.34664633523688776,0.7133493152741369,0.15223948133059428,0.8926504987007483,0.6167670181272717,0.8482852100769427,0.8816605158614413,0.8672906080996292,0.8567693483998692,0.9004584839181657,0.7610636033913488,0.5592656534138563,0.8951273701727435,0.6930354877600767,0.9358432508930186,0.7085766398280343,0.5599577905121823,0.7282312087978086,0.8993102256914228,0.8782453571488149,0.8587018165404614,0.8601902259405768,0.8465845169913476,0.8998510199941339,0.8788153276431766,0.25495002155661434,0.9190855460638935,0.8916583634118801,0.8535542600786138,0.8478855650222927,0.7500511862307101,0.9338160404894036,0.7415685803441028,0.7618464298165394,0.8322731402488057,0.04593090060526889,0.6959774336860375,0.044712540922150906,0.5424328618721217,0.4561385636801016,0.8421604839062368,0.7103642551740535,0.7136942194232356,0.5834657238455164,0.8073285590073699,0.7748799211694469,0.7470818188726615,0.8534448906125315,0.8764592418230245,0.8686530579277301,0.7241370888485879,0.8993720290737313,0.04193413824055291,0.8795482879626282,0.884469532032115,0.6764289345744704,0.543936925449291,0.8488215709490811,0.9198727564206522,0.7795176438442515,0.9254206315783297,0.9319681733613628,0.7763876226377896,0.7587866468018212,0.6449564241654242,0.87594623027477,0.6927009757838781,0.8717721961954755,0.8144917523997697,0.5648274422643393,0.8207047092980798,0.9258430858793172,0.6273423187952774,0.5395365520920118,0.7337737349549691,0.7618121613573164,0.39011361178612236,0.6929553277471753,0.9068172759273558,0.9147100714423333,0.6646572067080462,0.919797076743903,0.8432815097228477,0.8936172610906843,0.8193199081554502,0.7253022223916055,0.8190182922091639,0.008276931077613818,0.7576772202086143,0.7105021049232967,0.4548768075451909,0.5779746058971961,0.3161860333972598,0.5071486236753102,0.279722547552171,0.3168450190327228,0.8406788807057287,0.5408430182258688,0.7357347774558726,0.8161802895496008,0.8323764213060615,0.7742323423415891,0.6486740415378055,0.9150457117772826,0.35907029851498445,0.8030367838690079,0.660076097929981,0.8939331265260908,0.8016072834978761,0.915564184807302,0.9039506015203944,0.8707387314542169,0.6162881759588297,0.19563800657273447,0.11462493467198588,0.8446350233565262,0.8957457653035646,0.3899117405159561,0.003025817137270233,0.8596013088119255,0.7960363288513498,0.8722188070835228,0.8452235109969203,0.43999207243776595,0.3683981797077664,0.8721930792000492,0.6817066976599422,0.6422263459574036,0.7394834852414007,0.8658349138519559,0.86319779107831,0.7341078347786061,0.8506430853443688,0.46428091650915587,0.8128595702155039,0.7880715457406126,0.8697377153310536,0.8867050177013333,0.5481809606107473,0.8521206737773551,0.8667460045624537,0.7197226074374542,0.31868349346905034,0.04848350704598114,0.8586155120835062,0.8516067269911101,0.8688707752877979,0.9042658329674123,0.4302408000198318,0.8647087819019258,0.8404634335287213,0.3249175300565276,0.8297143243128061,0.8852047272788297,0.8947354498601237,0.8883730311232821,0.824761368968811,0.3290768421466539,0.8749382520475677,0.5432342894769938,0.8958197965555997,0.5301670816027951,0.8713597657521911,0.7463572851868371,0.7935003950558832,0.8227269970513877,0.9245027449339825,0.84355692231075,0.33123424523212225,0.6941945781381917,0.9395446576549817,0.9034946326044178,0.7248579445134931,0.8902366276933983,0.9237147646210528,0.8919970195738495,0.5509244074306289,0.9087153610126839,0.7559012020451589,0.8481419109702021,0.8317283535057646,0.9199148238666753,0.9241932997633288,0.4565878153794639,0.8275870316816959,0.8613253688898916,0.7585939660024875,0.7841496409578085,0.8529825169442667,0.9110936635993111,0.8755713735738718,0.7765211722169545,0.6486655030316195,0.9012646090722449,0.9169207089225064,0.41554301986103953,0.01931485038831441,0.9324958237126949,0.8239863398937906,0.7918857648711086,0.37131688212904695,0.6850978907436462,0.524442426078691,0.90144048120444,0.5252187500259161,0.8239464965628566,0.08166828518162735,0.8995909074835862,0.9045615830191148,0.8848395900198416,0.8540143414954631,0.2211465738807426,0.7891970504937843,0.9030760200952783,0.7587018991673689,0.819979012803151,0.8126548255236353,0.8842009631014314,0.8883690886318963,0.8442490524085481,0.68584061542876,0.9168635438239389,0.8626022209795599,0.7938697858399343,0.6867309854032818,0.8977091149164664,0.5189871623316601,0.8543113645970272,0.8816626123910396,0.8011094113723416,0.46092067632947065,0.8165406897015303,0.87337053740562,0.6863941147502223,0.8451023977905577,0.8411946931909022,0.9279601010611228,0.8257174932201325,0.526446426130882,0.9024453043467273,0.9068006370744439,0.6640957330190519,0.8464864614937849,0.8288264716749045,0.8165702244033785,0.2560206710933309,0.9049370793496098,0.829297981428967,0.8877241429785708,0.3776823471104165,0.8521195348153295,0.8012435339576619,0.9030721228329438,0.8972312674093356,0.265971652535367,0.8359037881199094,0.7574948792469995,0.9100694682790915,0.6783602954282122,0.638933381341951,0.8668774271969648,0.8443146245569857,0.5461952834218494,0.9086391130113602,0.10167010459424236,0.7122126364498162,0.8170284974603129,0.8810976843574548,0.716100872230162,0.926207146277542,0.7476477163006134,0.8763093058099427,0.45947611253252063,0.7249661680612299,0.5600468638977042,0.8151159630713543,0.9248004112602604,0.3934523662515829,0.5817388905083983,0.7310656834138571,0.7230045013063391,0.3016646256281295,0.9179448814992763,0.6141771723048081,0.8366019436092101,0.8242504754590704,0.6958921564060375,0.9175400456683711,0.8915899957612107,0.8933538876849259,0.8581080794695354,0.9257969615125294,0.8442490524085481,0.865544632769606,0.7582546950978002,0.6298640269970683,0.8947941463092276,0.9035779773677951,0.9191205556491068,0.6132041800942676,0.7044985959053364,0.8544795767704916,0.8371266528290853,0.5517050990146463,0.7995740214874564,0.5379850509374664,0.3839961985350313,0.9346725765495942,0.8799645847134495,0.09854766661529589,0.9231241759341348,0.005630653212688679,0.8268876320329629,0.6855045533007031,0.7822735160915681,0.8518047571823769,0.9311362358858746,0.8242604102582208,0.8597249575416049,0.8110960319896695,0.776231250281395,0.620787904836377,0.7644038979567008,0.9289435041041558,0.03375395206309441,0.6492783177860575,0.8293822667752403,0.9063166657681984,0.9190855460638935,0.47113227998357476,0.6606793801715184,0.8801313527849367,0.8420635644630465,0.8185282242988515,0.5496018067646535,0.8672906080996292,0.8238902733804564,0.8784011539042278,0.755112046100743,0.22125966054966942,0.8829464215563466,0.04834727518534829,0.6087757782952447,0.8951722366365399,0.7996164271874786,0.6664455224565888,0.8610540854257875,0.5360275873081661,0.5614244827462419,0.24548223778655126,0.20251056470654438,0.7890211159234544,0.6718318835509577,0.5522233151308629,0.8358600691570313,0.8141341050524249,0.8668155859652822,0.8270949619681841,0.802744305113457,0.82075972238543,0.8703888531603865,0.8493777971807489,0.8823948667847696,0.8764176513044082,0.8562445599498446,0.7489187529083103,0.7856804762946087,0.04900639062359038,0.8886759856014194,0.8668030524604124,0.8164613073852149,0.5147157685147492,0.9113092499041602,0.7684359700079815,0.6313327232549233,0.4895884460444381,0.792521434765102,0.8435140158135701,0.6581949394404806,0.8528002774872055,0.7190364697095172,0.9038091444292167,0.9147100714423333,0.811310242818574,0.9343177704257476,0.8969756918066369,0.45414229975327985,0.1810683337324501,0.870766635194855,0.9080570837898693,0.8750908479847824,0.8384967071078189,0.7790968066683102,0.873438979114947,0.14228460225410886,0.8112965891572463,0.5523771398780463,0.5478593686696738,0.8062265265696158,0.8792744687746816,0.8942008010544773,0.517756222764582,0.2691358700574536,0.8815531881186739,0.9302184035873371,0.43410603717803475,0.6606453774579127,0.9002986982247679,0.5568864313233544,0.8876974307512312,0.779713432709446,0.3660889933289362,0.2551192526972998,0.8861110607871653,0.6287015058020095,0.8980569622278144,0.5449296933921955,0.8265874715652349,0.7219697257102036,0.45575300776901445,0.010237162521077006,0.8945465023690523,0.7122750655392497,0.8503898142865958,0.9109032846521603,0.3880665046223965,0.8679950036890778,0.8714326384302282,0.901945359224634,0.5038981145620014,0.4171598912067112,0.7803124358791883,0.8986241259999401,0.8892623187977351,0.7651646114284426,0.8914853281952231,0.8055046698903263,0.8724770784822318,0.20778414951900384,0.5176829544698067,0.7755920529792409,0.9028993729624123,0.7890681890845855,0.7649195176412351,0.6736372748560664,0.6548099833470564,0.3637088427422897,0.4555196850159973,0.07659059652424959,0.7826336795240311,0.21955280656422796,0.9130920739259311,0.8221157465988854,0.8229759874225945,0.7470561960825165,0.6745097727700798,0.9091708264979289,0.326163929793815,0.6844361321570533,0.5139523640491838,0.5189871623316601,0.7349388678482094,0.5387770066996078,0.8507177324578307,0.9110609841308441,0.8379456870285621,0.6723493645533561,0.8561043634222546,0.8436503900127328,0.9098304523242698,0.9055852258793133,0.8966080371138782,0.4301971432856496,0.886789727430589,0.8893131484076081,0.29779107280118766,0.7210379398688757,0.8214311626653207,0.7263131484572449,0.8104730819880483,0.8385108650322718,0.7688311919384396,0.7559563246267745,0.8779024372337395,0.5509444379338975,0.9172472116697745,0.6356375852703092,0.8201868868237384,0.8562984455523934,0.6921254325478884,0.9110437242372923,0.9184685769661517,0.8449489534048015,0.5376150838076637,0.845388691424708,0.826207273202038,0.750285475635788,0.837633242612266,0.06379650696221012,0.8134351219211782,0.8168642962846352,0.9021184316502168,0.8533640248659244,0.8963056447855856,0.0065554588682438355,0.9094228930173212,0.8324535144218179,0.5113137382498639,0.7465509587847827,0.3753575682019704,0.83499737688005,0.8914853281952231,0.9228507018769976,0.9085372113663295,0.8869791186792387,0.8734785651074123,0.849042887212955,0.92791732189209,0.09459297070203886,0.5151226737461074,0.9130824373743973,0.9041255627813066,0.9017198270206375,0.8304619255435582,0.37411876120757337,0.8998692141186607,0.6555545022696092,0.2928054124686237,0.868617898850872,0.5948413721429585,0.9174748529678858,0.6250774544921948,0.7531960673767016,0.7155142801538634,0.915382007706899,0.8860205808429997,0.8263356554173684,0.9117958579220197,0.7956557302414176,0.8383431681566672,0.3544535330294671,0.7939452618366549,0.3057939342161192,0.8114390282884033,0.685234215961089,0.9353934231094225,0.060105252435908155,0.8205951167304717,0.9198727564206522,0.8478261080850381,0.6075940659035652,0.8810976843574548,0.8129821577370527,0.6623669289942743,0.7868887184279714,0.8901357373113938,0.9081263785835447,0.8600079707039929,0.845076008405315,0.11390244764612187,0.7764107303346529,0.6466808873876865,0.6802307739525332,0.9175544932169655,0.3882879434676459,0.04253958952726299,0.7543465782810674,0.22515649584323372,0.8159989496481405,0.8583074759173602,0.2591706182494664,0.0634827239750669,0.7728127206288585,0.7704738591075969,0.07604564947577643,0.5307390322949246,0.8534440644305118,0.7851793973113514,0.13054141714875475,0.8822803371155933,0.8435148595427071,0.8761334908914619,0.8610453263243646,0.7981071723396302,0.829633475742548,0.6160991961889327,0.14588569891289238,0.9344381554518373,0.770178500076369,0.8599108038977044,0.9015175461087771,0.1593081867580145,0.0032701208549919783,0.72216084957085,0.9191205556491068,0.8825753353178561,0.1767127400227307,0.8610918835191872,0.3010433064022298,0.9071580273620407,0.3007287956312334,0.2899644996009171,0.908790142478013,0.7231268872579838,0.8056735467842392,0.8669096600747558,0.27870263316626576,0.8684916894878395,0.9206411197893971,0.7075037633810379,0.908878665175668,0.06703463001622582,0.8527913324302873,0.07408401298719158,0.9009714432288941,0.8377046241313743,0.3309034908935463,0.8819841143395435,0.6632407376504251,0.8176124955063993,0.9191994187364295,0.8942468364367222,0.7165834743230378,0.828044021820534,0.8471310604594278,0.7882459733777375,0.7047809455059586,0.7547312809306428,0.6534553270125375,0.8724488571479139,0.728123030866821,0.8916440678811625,0.8440436052365295,0.9026339612174111,0.41998198776173756,0.8453075028136444,0.921126648958526,0.9030622372641928,0.731577896372892,0.7442799563585072,0.8485389183290325,0.7189930399972898,0.8839230549497745,0.8709259260164114,0.7472381384754339,0.7466587273391255,0.7595090689790241,0.8711565771740487,0.6817524650638257,0.928531225902605,0.9029812644935422,0.3577889697276062,0.8614541423871791,0.8004908079807276,0.48294490743871393,0.8769099231794287,0.5222689954058163,0.25265505595880056,0.8272240374865729,0.7902327304740073,0.01896547873804685,0.861409881204568,0.8260520882110052,0.9120079695957349,0.8925370120224378,0.6003237175906279,0.8062265265696158,0.7481857185770002,0.10015864943287726,0.5085483436429826,0.5411294944095364,0.679109249456328,0.034780694133517163,0.8737531898027286,0.529135498625635,0.7652399345137506,0.7800113652247826,0.9010236915614409,0.641740028096359,0.7661822937031101,0.8544795767704916,0.8405464300538397,0.921234697180361,0.8904400079690747,0.8606961247218274,0.5171831864040879,0.8002164549731204,0.7944431978928189,0.7735565637884306,0.2006887878331031,0.6987274910101585,0.4872142320082574,0.6863941147502223,0.8591261898412091,0.046419463669438145,0.5971223614389205,0.25311576530524493,0.07700444012517053,0.7518940032978287,0.7967375862895322,0.5809993166708516,0.11274764492839887,0.5623935716644957,0.9339191934806451,0.7749140245889022,0.8426894349324587,0.7968297339712613,0.8767213477720583,0.8824040304267716,0.490492173755427,0.7714817857730651,0.7728272765513198,0.579715406026713,0.7452209226198713,0.8824116863854176,0.613082435059492,0.792651701486781,0.9292136559133912,0.8495350127829773,0.7480243936569313,0.7591220930458658,0.5522232308150148,0.3540494083780536,0.882805476822891,0.044189433297774756,0.7824778028349982,0.8976873710241106,0.5599056720328139,0.8117017285570353,0.7284198687280315,0.7054936380108798,0.8058847820672609,0.8316225091546847,0.8863225966755856,0.7191495481762613,0.8303273365126161,0.018029693080995154,0.8674898881496764,0.42237727405241793,0.8965065613564369,0.8197142597261562,0.5704306263847387,0.8961492939511106,0.7698657425984846,0.1236344057967835,0.825117573103697,0.694805173491215,0.5201771603624469,0.861138894538851,0.8708867089505188,0.9191286183542022,0.7453819356236945,0.5511247340120832,0.9026244035047101,0.8919373863023929,0.2635880866675783,0.033067097887875964,0.7618464298165394,0.9005762526148441,0.8679941221497763,0.9147098234252631,0.9170952174019705,0.3334070739144604,0.9168374303981099,0.8676020904752723,0.5285548070286604,0.8854770094178006,0.5777760332421673,0.23896517523065372,0.740596562293032,0.6058564595250222,0.9038389577474697,0.5844575019661041,0.7204984093191685,0.07064510970965641,0.8533640248659244,0.6733883428635237,0.8417865124092782,0.6013714595611506,0.6615637756722189,0.9354880763344904,0.9158028872869318,0.8557192040072995,0.8452144336805505,0.8567399162596007,0.858645758274184,0.6693719182589345,0.7939484780802522,0.7253832114603964,0.9332541213863544,0.8676841267910835,0.22569135411174376,0.8721116213458098,0.21168913756455895,0.7922392453466088,0.9087307517764823,0.9102609201707906,0.5778215143476058,0.9081936876395584,0.6972260049984154,0.8048243198685683,0.8418692650841686,0.894557835550225,0.7905534312236875,0.918077003804605,0.9280041922611589,0.814014447087486,0.8578672343707238,0.8523829899697696,0.8939767886211818,0.8796116715030781,0.8280126340213765,0.16893725001633225,0.8857232089469642,0.9349205192958224,0.8222152139177136,0.6431291991011697,0.9313965911467523,0.8719007228833314,0.7747878843637349,0.9097315556415548,0.8276628232254268,0.7645779016497466,0.8175530991988379,0.839097841515008,0.7690597832672347,0.25270045320139267,0.8427707621101318,0.6035726114161192,0.8199385068047043,0.9124234233763644,0.4696635814450071,0.6332257832757081,0.6369529699771304,0.19134552306577018,0.43537753448526273,0.9086631457884473,0.5595929869082925,0.9190918415037804,0.8579839423526869,0.7831372274263093,0.04200843446557362,0.9040508937537037,0.7842876789529317,0.7210242391372821,0.6582676040277937,0.31070382104421357,0.6186951383725454,0.9164213326287404,0.904167680720336,0.7587266738122281,0.8969855520721127,0.9163421919998135,0.9233424204307207,0.6913952963989902,0.8985080799652285,0.681776511832159,0.7167772974081429,0.7293472565325118,0.7657118580506104,0.8903551112228126,0.9125875329314136,0.8278725824004713,0.8619773598167988,0.8810784006780902,0.0039957828478770436,0.824298403245011,0.5092541455704863,0.8996385819964009,0.8301899114609209,0.9280277775555811,0.5718761923393771,0.7099613161226896,0.8393323232467101,0.8410979752423092,0.8922544109805243,0.011720152951516226,0.589670114401735,0.2644238166219907,0.8708950976008029,0.7210698781420724,0.9174018284818752,0.7081654032093917,0.8929868084390207,0.6203040671386115,0.8857188524435087,0.7565133560441379,0.8067938441600585,0.6957306587614076,0.8459620135011442,0.19534292467616332,0.8390942160946144,0.7864102665305142,0.8704641486999412,0.9122285541616332,0.22552434633297438,0.8868870845558742,0.035025324150972384,0.8875168376630392,0.9317820036337127,0.8915210382741436,0.922845965990791,0.2752996613399425,0.657351295484016,0.5623071492934609,0.764820303721424,0.9292225639573841,0.9217318548098402,0.85093160091707,0.43522371537554155,0.8719595218130517,0.8341311341829314,0.8869904686611456,0.887562541717881,0.7282630163263517,0.3696892625983928,0.901865300570424,0.8200779563848077,0.09647001241598528,0.9200792288160852,0.8500438358336003,0.8215966389748189,0.13906070230399173,0.7050265956392578,0.9064587858039854,0.7743719711944723,0.8597014144928792,0.5442930943732025,0.7804968985203656,0.11829333842565336,0.4188571455694209,0.8390828934125587,0.9062486827246964,0.8383452554813206,0.8445018718589465,0.7538737380391316,0.7228641309903912,0.5010871361868222,0.5048509496920673,0.5937806754401497,0.6753854057415156,0.2537512286769442,0.2863177327980316,0.9182155939399613,0.8557756543204083,0.8463534964150394,0.5294388511855008,0.4332868257223145,0.915233515091077,0.8251106908296292,0.46156426065378753,0.5781543097711227,0.8373967445172841,0.16424700302565556,0.6841893814329549,0.8381688774347441,0.762728895738904,0.4949457684770283,0.6245919037471003,0.7101346542985388,0.5899723832743093,0.8867779322191877,0.3979884430056776,0.8141930059909254,0.8088711026044495,0.771246771407337,0.8309657409669384,0.7820265416937183,0.8126128106610153,0.6751427704084887,0.7892287485316772,0.817284949721168,0.9347111114436598,0.7636704804998095,0.8817388829454538,0.16079584235903688,0.4801938287907639,0.8935045746421058,0.8773971081381907,0.8802737217134514,0.5199528817308927,0.8879419192076441,0.8784365672333666,0.6865340942462388,0.7561727185777858,0.8239019626335372,0.8340130297276043,0.683297225305677,0.10333356801395846,0.8643450662740426,0.8531454661771457,0.8746871341395752,0.7542716453582406,0.8417015567784049,0.724942098643221,0.8970172564928812,0.8950674458425929,0.7609593431451693,0.3598285404697328,0.9166757811887968,0.7954465603018225,0.841726439379085,0.9297241889376244,0.6729071444997823,0.11047231762731259,0.8581571665498999,0.0935846950056538,0.5517482455164565,0.3615551785378827,0.8704348395874925,0.15065631440511912,0.9230413542703046,0.7408849134947348,0.8439856009289969,0.8581330748321804,0.8743593558436827,0.8184462591717122,0.18262180298419328,0.02223043178590198,0.6868108856955782,0.8506196016510164,0.7536260006940015,0.8564081494115995,0.8836998848020495,0.40848677397047656,0.7829291952779612,0.7532803619972948,0.5079925376756224,0.7432921194483908,0.8876705639014986,0.9172472116697745,0.8255183660112063,0.619184126649245,0.6397597169135769,0.8853924480736106,0.8879835900383255,0.8568471976844426,0.4890764550008169,0.7098800990754272,0.8994414299933465,0.3168450190327228,0.9207505171028424,0.8371266528290853,0.010021995168212179,0.8471649529468084,0.9107664730052851,0.9200117559257225,0.9136929786332213,0.37289396796580554,0.907664235240041,0.6765999399357875,0.8484840469988086,0.8689721028059892,0.7412759096498669,0.7374216087880131,0.9117958579220197,0.908406470034536,0.9025236814840326,0.8703888531603865,0.5723745911185646,0.8672906080996292,0.9002440492186815,0.45663904845718556,0.05632228995581046,0.8992171032577474,0.8521906652360968,0.7335481538015816,0.8802205766953785,0.9237898015732581,0.787546871795481,0.855055869002832,0.9373769539652034,0.9028089999544723,0.9074598566198148,0.4899388359205749,0.3499627964113448,0.8596013088119255,0.9045257091693811,0.8937732374462196,0.871068272941713,0.8870160145954842,0.8795396498658411,0.5843692475873167,0.9294978711842505,0.8825978544384967,0.9252149021616466,0.884550962619206,0.8340154343052858,0.5246742783116141,0.8885318766806672,0.87095503028196,0.8732497249734971,0.8390828934125587,0.8746678063567942,0.9198126965343082,0.8932686704335312,0.8799631912696199,0.04012051670654438,0.13669305616134092,0.8753081417116227,0.9060109371543227,0.6559782361470337,0.817649952078995,0.8512335001759525,0.8865514211731985,0.9194997037111244,0.8446409866561063,0.850730923038584,0.9240287617786278,0.8917358308618056,0.5990036951087999,0.8664139864582457,0.5105002384636267,0.5058590233718822,0.08204205119802527,0.6507124917149277,0.9005878642442795,0.35674464000431827,0.9178563175254986,0.733020869569044,0.6187715926274612,0.7701087068018206,0.6116306431763778,0.8810486312410365,0.7925437405297295,0.9003487629909952,0.4821900568586357,0.5452062801999976,0.7510931775166635,0.08702674102853733,0.4935326187494908,0.8093178934455796,0.8674842057757282,0.6366295944313858,0.9219892176211384,0.7428105888236779,0.0477617458150448,0.8294536228939176,0.9235102844500623,0.7292956636605693,0.7782943630794201,0.9176413062806765,0.8160565971190578,0.8646237106075093,0.6610538583495981,0.05906610457957863,0.7644689379010843,0.9028175109777451,0.6266254325962046,0.7331415369483114,0.8757253960744256,0.9039260205219364,0.8969411096655109,0.5520858856131133,0.8585094355578844,0.7791136743035864,0.4233188970380516,0.7165176843072596,0.9172447297012517,0.8970391706137294,0.6678321275559541,0.7518502291620379,0.8540396451123103,0.8492257746344362,0.3813719378253009,0.565812395949279,0.8324600479587673,0.9247759662901466,0.7853371996919313,0.840312534847714,0.5543676972533816,0.8871079132444045,0.7238934271593972,0.7814731252123467,0.8929868084390207,0.7863448960604398,0.8823388900439205,0.9179657353986614,0.40602843311532455,0.8899017096428417,0.7766322413559821,0.5251110005438575,0.8625599729633642,0.8305910676155678,0.9338022340107629,0.8609567440992959,0.8943637047824479,0.8595729368868784,0.9147100714423333,0.7062502048533916,0.8097400780046375,0.9104126662462991,0.8600301854074185,0.9381446161645347,0.822150756326938,0.9096589717480023,0.9050347240807893,0.7433195032529377,0.8716275877691868,0.912148140175,0.7606248522194857,0.7786037835277462,0.764200170149389,0.7481640535091164,0.524442426078691,0.16966370033390685,0.8895542290667576,0.49552683097281763,0.8976402883957454,0.7420182196193926,0.4978976753266597,0.8176500023092643,0.9075025008197428,0.843292719394282,0.7167329963938641,0.836192019717105,0.8573725461205356,0.8824040304267716,0.8306908044287747,0.6617251599486091,0.8722029358288423,0.8277749382677938,0.8178001870629286,0.4038216800408566,0.8183734343758493,0.7369563599352438,0.9178482628716284,0.8818925246673369,0.8147524934395403,0.9172858227479178,0.7221546393966052,0.8819740037987648,0.8578793508398302,0.931267771001685,0.7951532159683304,0.8763789642029338,0.7626956517509624,0.12486848463110527,0.8451023977905577,0.860539784335568,0.9134931787210934,0.7554110093904424,0.8430145156577795,0.8518949199379403,0.9073312597936855,0.8089998229062311,0.8546898458443641,0.6967883721596992,0.8578433211896379,0.6548207485816736,0.8461608786877233,0.861424202677106,0.5602479046413095,0.8441207158923814,0.04962514953865615,0.9171695219203344,0.6381575536628704,0.39205653304349036,0.25343982963023354,0.900596401942785,0.900673082590367,0.8920926933848804,0.6581014383430559,0.7327570136892283,0.8128482841334251,0.5440293962806043,0.8738468906847013,0.8523829899697696,0.8353399929411188,0.8059030115926274,0.7636211547557178,0.9047865170004538,0.7969785573838506,0.8802737217134514,0.8974063699911244,0.8561635849731444,0.8661610636289679,0.13339037050739577,0.6359315933373978,0.7641329550639375,0.08229694357919114,0.8233854194019955,0.8654103378803764,0.07416408264724585,0.8396670103382384,0.8406364849033897,0.3622192738558656,0.712210691560282,0.6083991627114197,0.8898488132719055,0.8682155673918681,0.8825357129288162,0.7617366196185565,0.8883001698289147,0.6845127929914211,0.8318608330163139,0.8069125522609376,0.13243293120524255,0.1653218083877631,0.7330884646061668,0.8598045888107361,0.8738026367628241,0.6985411368475337,0.4759888301533676,0.8124747267959732,0.9116717607001954,0.9060823964339603,0.8424166614327325,0.22426112845941237,0.8703403617263168,0.03919404389941103,0.850139916957296,0.738933350803266,0.6727863143951872,0.8004804527485456,0.858081868973761,0.7918630363026697,0.881549175268961,0.8919373863023929,0.8121778943042152,0.4089166647488935,0.7233857041419618,0.6873068248400445,0.6752849554315462,0.7197885225647569,0.05280268483150468,0.19627333659825427,0.5283069170537212,0.8527916870448098,0.7860846175610963,0.8123394006849352,0.8857825293719923,0.21102314067938566,0.04340936175970559,0.9395623938346279,0.8149638283372963,0.8479312408968792,0.8532100701250713,0.769257545641189,0.8156681750062226,0.9038311121783833,0.10228856793336753,0.904167680720336,0.21250229015502511,0.9052024675924756,0.8853440713314064,0.9214392085680341,0.9047013578719737,0.895047812200716,0.8835879144292001,0.9258439932055542,0.06165809589999468,0.9245614762712037,0.8685111944828298,0.8839073928508898,0.887179751185019,0.9244903071346474,0.8537893156590439,0.8869332202949612,0.363521812886647,0.9142985473216633,0.8922275471328303,0.04024844150705683,0.9411732584983663,0.8596138849826529,0.5912770050160668,0.9165663864207562,0.8145579273124331,0.8738392701235902,0.8541667373107417,0.8001473711056967,0.8721345377443571,0.9295730746548648,0.9138696617168222,0.903897360399953,0.3441826660250908,0.844812424112942,0.6608048839311007,0.6531551556638213,0.8748179365127708,0.2672202856450094,0.9308395353906598,0.7087541385843058,0.7551591061375658,0.5418722881374107,0.8563821066669043,0.6871264256792086,0.8805374292960823,0.9202514364850327,0.6970083632928904,0.8863225966755856,0.9132950989051049,0.8608621831269619,0.9319681733613628,0.9063512569182995,0.3412893590533493,0.8912246612212981,0.8826803535266544,0.8345046598860446,0.46293855864994116,0.7764160714649355,0.8718027060631812,0.6622150913767695,0.8608621831269619,0.8918187281989678,0.7847621512764633,0.8583415022635394,0.3154272872086492,0.8530187820213148,0.4683821025191407,0.8001971223435658,0.8033366913285303,0.37154350670372205,0.8581514552971599,0.7873693240153703,0.9211572463580104,0.8206159305465277,0.9090098560003748,0.6360468258979782,0.8914287475416245,0.8621545238946082,0.21468189368863033,0.6217137393024852,0.8519214531408797,0.7673551705377996,0.7183603127938083,0.1834598585119189,0.8713597657521911,0.8161181412746898,0.6413053485150161,0.9270475855181527,0.721173905835806,0.8955124252842604,0.891070471437787,0.7750529208931235,0.11511575986712842,0.7585801349307665,0.8984536373806499,0.8781551886431361,0.8609456497841566,0.8341836065292463,0.8265313451822689,0.5134312842887225,0.8496759044100792,0.7687922099475023,0.5658504068977854,0.8822580780900945,0.9222730305918009,0.8341889835089332,0.779947494696589,0.5732136061984697,0.8732497249734971,0.9040209878113239,0.8532100701250713,0.8372431215906944,0.9038311121783833,0.29350736602307015,0.6637953126618218,0.8666237405747585,0.8722993535806731,0.8924182351807879,0.5778345623075533,0.919686983104927,0.8796823921996524,0.8650065225003237,0.8730258323600579,0.9053911336377686,0.19737089766085256,0.9090098560003748,0.5787184709045939,0.4046501330797135,0.47612723663559986,0.9009050258223232,0.6865810496511834,0.8950329338777107,0.8514335097611413,0.7947698863261289,0.8921940160922003,0.735020183712055,0.8945065386360044,0.6080471438436857,0.44174019481057614,0.8972128676009355,0.35341780852570864,0.6020791963782042,0.8685599240452482,0.04959828166591634,0.8144801356230519,0.23024157046544919,0.8037012908006529,0.9036583628848742,0.5437009897594262,0.8367897219006862,0.7793348157539208,0.8360523245638637,0.8354897771423005,0.44318256981018256,0.9147268007921721,0.9000340706200327,0.8907604926834478,0.8039620931671269,0.5187427108835273,0.5972925075854284,0.9206384939288383,0.9030147284563338,0.8480053696415424,0.6830930276114634,0.7296735770175136,0.9085905572175728,0.8898057943046844,0.6345378025300071,0.7811178564008379,0.9290857749782228,0.8801631218078729,0.8546898458443641,0.5341880925134408,0.12741100804469302,0.9081305473778432,0.15518885147707984,0.8884926146966853,0.8110953302210883,0.9033448985477623,0.8053597589745062,0.7036071618534117,0.5285989770443557,0.27694434323262185,0.7855331923420518,0.7925437405297295,0.7754318375896149,0.8102756625152937,0.9269536309079933,0.9020571115161935,0.8142755631239692,0.7742284468997966,0.5080981125028899,0.18277631332942645,0.892430744522676,0.7946941154459579,0.6712210535420305,0.23657718319213517,0.8440907934726343,0.3267647674666955,0.8007757170713348,0.8582065928125368,0.923149750504337,0.003526258095213639,0.874305740210932,0.8727466616634543,0.7292849468489382,0.7382901715484088,0.8163622807237425,0.5730239717458109,0.8731892712126804,0.5792577512622455,0.5245989525916986,0.8016260138088561,0.3175983939795119,0.905484886668366,0.46752891927679935,0.8533887599983052,0.8830330476256694,0.4753163995480465,0.4497369911622925,0.7313074106919107,0.9252595482858613,0.867854980071143,0.8032743126856722,0.8712268012572948,0.7847616787309071,0.7982179866160111,0.8386515170514198,0.9024520955255065,0.858852399304332,0.9048725940597669,0.2993071308102945,0.7420310537377284,0.9236670273821297,0.7761750013673552,0.6335381506735489,0.635620945511224,0.7653866511415545,0.7366779513833491,0.29333614638399386,0.4291662235309423,0.5485010191440186,0.32802345738303035,0.39982918927190236,0.305214290489698,0.11032513982581274,0.05481934454936759,0.910701303962122,0.7909123242057362,0.6537573884089821,0.8317283535057646,0.8468249079760242,0.54599082030657,0.7047809455059586,0.9223089600438944,0.3547158925844888,0.19361919204400505,0.8676594134755514,0.875309933656534,0.7759876438485397,0.395764463458406,0.8674374096507403,0.30893840427289004,0.8507125138134827,0.8118827631330687,0.7326013931719854,0.831658771686327,0.8933156750557967,0.7406393814169947,0.07466177188509972,0.05307800741255462,0.7769419080435358,0.44228380344502877,0.8682822726358428,0.008238825375216356,0.7989725037649374,0.9457642011959541,0.8986355431394009,0.7358373008881629,0.047363052071454484,0.9286909781715403,0.7265356627575881,0.8875553867713666,0.11632198937690902,0.8767248556780807],\"type\":\"histogram\"}],                        {\"template\":{\"data\":{\"bar\":[{\"error_x\":{\"color\":\"#2a3f5f\"},\"error_y\":{\"color\":\"#2a3f5f\"},\"marker\":{\"line\":{\"color\":\"#E5ECF6\",\"width\":0.5},\"pattern\":{\"fillmode\":\"overlay\",\"size\":10,\"solidity\":0.2}},\"type\":\"bar\"}],\"barpolar\":[{\"marker\":{\"line\":{\"color\":\"#E5ECF6\",\"width\":0.5},\"pattern\":{\"fillmode\":\"overlay\",\"size\":10,\"solidity\":0.2}},\"type\":\"barpolar\"}],\"carpet\":[{\"aaxis\":{\"endlinecolor\":\"#2a3f5f\",\"gridcolor\":\"white\",\"linecolor\":\"white\",\"minorgridcolor\":\"white\",\"startlinecolor\":\"#2a3f5f\"},\"baxis\":{\"endlinecolor\":\"#2a3f5f\",\"gridcolor\":\"white\",\"linecolor\":\"white\",\"minorgridcolor\":\"white\",\"startlinecolor\":\"#2a3f5f\"},\"type\":\"carpet\"}],\"choropleth\":[{\"colorbar\":{\"outlinewidth\":0,\"ticks\":\"\"},\"type\":\"choropleth\"}],\"contour\":[{\"colorbar\":{\"outlinewidth\":0,\"ticks\":\"\"},\"colorscale\":[[0.0,\"#0d0887\"],[0.1111111111111111,\"#46039f\"],[0.2222222222222222,\"#7201a8\"],[0.3333333333333333,\"#9c179e\"],[0.4444444444444444,\"#bd3786\"],[0.5555555555555556,\"#d8576b\"],[0.6666666666666666,\"#ed7953\"],[0.7777777777777778,\"#fb9f3a\"],[0.8888888888888888,\"#fdca26\"],[1.0,\"#f0f921\"]],\"type\":\"contour\"}],\"contourcarpet\":[{\"colorbar\":{\"outlinewidth\":0,\"ticks\":\"\"},\"type\":\"contourcarpet\"}],\"heatmap\":[{\"colorbar\":{\"outlinewidth\":0,\"ticks\":\"\"},\"colorscale\":[[0.0,\"#0d0887\"],[0.1111111111111111,\"#46039f\"],[0.2222222222222222,\"#7201a8\"],[0.3333333333333333,\"#9c179e\"],[0.4444444444444444,\"#bd3786\"],[0.5555555555555556,\"#d8576b\"],[0.6666666666666666,\"#ed7953\"],[0.7777777777777778,\"#fb9f3a\"],[0.8888888888888888,\"#fdca26\"],[1.0,\"#f0f921\"]],\"type\":\"heatmap\"}],\"heatmapgl\":[{\"colorbar\":{\"outlinewidth\":0,\"ticks\":\"\"},\"colorscale\":[[0.0,\"#0d0887\"],[0.1111111111111111,\"#46039f\"],[0.2222222222222222,\"#7201a8\"],[0.3333333333333333,\"#9c179e\"],[0.4444444444444444,\"#bd3786\"],[0.5555555555555556,\"#d8576b\"],[0.6666666666666666,\"#ed7953\"],[0.7777777777777778,\"#fb9f3a\"],[0.8888888888888888,\"#fdca26\"],[1.0,\"#f0f921\"]],\"type\":\"heatmapgl\"}],\"histogram\":[{\"marker\":{\"pattern\":{\"fillmode\":\"overlay\",\"size\":10,\"solidity\":0.2}},\"type\":\"histogram\"}],\"histogram2d\":[{\"colorbar\":{\"outlinewidth\":0,\"ticks\":\"\"},\"colorscale\":[[0.0,\"#0d0887\"],[0.1111111111111111,\"#46039f\"],[0.2222222222222222,\"#7201a8\"],[0.3333333333333333,\"#9c179e\"],[0.4444444444444444,\"#bd3786\"],[0.5555555555555556,\"#d8576b\"],[0.6666666666666666,\"#ed7953\"],[0.7777777777777778,\"#fb9f3a\"],[0.8888888888888888,\"#fdca26\"],[1.0,\"#f0f921\"]],\"type\":\"histogram2d\"}],\"histogram2dcontour\":[{\"colorbar\":{\"outlinewidth\":0,\"ticks\":\"\"},\"colorscale\":[[0.0,\"#0d0887\"],[0.1111111111111111,\"#46039f\"],[0.2222222222222222,\"#7201a8\"],[0.3333333333333333,\"#9c179e\"],[0.4444444444444444,\"#bd3786\"],[0.5555555555555556,\"#d8576b\"],[0.6666666666666666,\"#ed7953\"],[0.7777777777777778,\"#fb9f3a\"],[0.8888888888888888,\"#fdca26\"],[1.0,\"#f0f921\"]],\"type\":\"histogram2dcontour\"}],\"mesh3d\":[{\"colorbar\":{\"outlinewidth\":0,\"ticks\":\"\"},\"type\":\"mesh3d\"}],\"parcoords\":[{\"line\":{\"colorbar\":{\"outlinewidth\":0,\"ticks\":\"\"}},\"type\":\"parcoords\"}],\"pie\":[{\"automargin\":true,\"type\":\"pie\"}],\"scatter\":[{\"marker\":{\"colorbar\":{\"outlinewidth\":0,\"ticks\":\"\"}},\"type\":\"scatter\"}],\"scatter3d\":[{\"line\":{\"colorbar\":{\"outlinewidth\":0,\"ticks\":\"\"}},\"marker\":{\"colorbar\":{\"outlinewidth\":0,\"ticks\":\"\"}},\"type\":\"scatter3d\"}],\"scattercarpet\":[{\"marker\":{\"colorbar\":{\"outlinewidth\":0,\"ticks\":\"\"}},\"type\":\"scattercarpet\"}],\"scattergeo\":[{\"marker\":{\"colorbar\":{\"outlinewidth\":0,\"ticks\":\"\"}},\"type\":\"scattergeo\"}],\"scattergl\":[{\"marker\":{\"colorbar\":{\"outlinewidth\":0,\"ticks\":\"\"}},\"type\":\"scattergl\"}],\"scattermapbox\":[{\"marker\":{\"colorbar\":{\"outlinewidth\":0,\"ticks\":\"\"}},\"type\":\"scattermapbox\"}],\"scatterpolar\":[{\"marker\":{\"colorbar\":{\"outlinewidth\":0,\"ticks\":\"\"}},\"type\":\"scatterpolar\"}],\"scatterpolargl\":[{\"marker\":{\"colorbar\":{\"outlinewidth\":0,\"ticks\":\"\"}},\"type\":\"scatterpolargl\"}],\"scatterternary\":[{\"marker\":{\"colorbar\":{\"outlinewidth\":0,\"ticks\":\"\"}},\"type\":\"scatterternary\"}],\"surface\":[{\"colorbar\":{\"outlinewidth\":0,\"ticks\":\"\"},\"colorscale\":[[0.0,\"#0d0887\"],[0.1111111111111111,\"#46039f\"],[0.2222222222222222,\"#7201a8\"],[0.3333333333333333,\"#9c179e\"],[0.4444444444444444,\"#bd3786\"],[0.5555555555555556,\"#d8576b\"],[0.6666666666666666,\"#ed7953\"],[0.7777777777777778,\"#fb9f3a\"],[0.8888888888888888,\"#fdca26\"],[1.0,\"#f0f921\"]],\"type\":\"surface\"}],\"table\":[{\"cells\":{\"fill\":{\"color\":\"#EBF0F8\"},\"line\":{\"color\":\"white\"}},\"header\":{\"fill\":{\"color\":\"#C8D4E3\"},\"line\":{\"color\":\"white\"}},\"type\":\"table\"}]},\"layout\":{\"annotationdefaults\":{\"arrowcolor\":\"#2a3f5f\",\"arrowhead\":0,\"arrowwidth\":1},\"autotypenumbers\":\"strict\",\"coloraxis\":{\"colorbar\":{\"outlinewidth\":0,\"ticks\":\"\"}},\"colorscale\":{\"diverging\":[[0,\"#8e0152\"],[0.1,\"#c51b7d\"],[0.2,\"#de77ae\"],[0.3,\"#f1b6da\"],[0.4,\"#fde0ef\"],[0.5,\"#f7f7f7\"],[0.6,\"#e6f5d0\"],[0.7,\"#b8e186\"],[0.8,\"#7fbc41\"],[0.9,\"#4d9221\"],[1,\"#276419\"]],\"sequential\":[[0.0,\"#0d0887\"],[0.1111111111111111,\"#46039f\"],[0.2222222222222222,\"#7201a8\"],[0.3333333333333333,\"#9c179e\"],[0.4444444444444444,\"#bd3786\"],[0.5555555555555556,\"#d8576b\"],[0.6666666666666666,\"#ed7953\"],[0.7777777777777778,\"#fb9f3a\"],[0.8888888888888888,\"#fdca26\"],[1.0,\"#f0f921\"]],\"sequentialminus\":[[0.0,\"#0d0887\"],[0.1111111111111111,\"#46039f\"],[0.2222222222222222,\"#7201a8\"],[0.3333333333333333,\"#9c179e\"],[0.4444444444444444,\"#bd3786\"],[0.5555555555555556,\"#d8576b\"],[0.6666666666666666,\"#ed7953\"],[0.7777777777777778,\"#fb9f3a\"],[0.8888888888888888,\"#fdca26\"],[1.0,\"#f0f921\"]]},\"colorway\":[\"#636efa\",\"#EF553B\",\"#00cc96\",\"#ab63fa\",\"#FFA15A\",\"#19d3f3\",\"#FF6692\",\"#B6E880\",\"#FF97FF\",\"#FECB52\"],\"font\":{\"color\":\"#2a3f5f\"},\"geo\":{\"bgcolor\":\"white\",\"lakecolor\":\"white\",\"landcolor\":\"#E5ECF6\",\"showlakes\":true,\"showland\":true,\"subunitcolor\":\"white\"},\"hoverlabel\":{\"align\":\"left\"},\"hovermode\":\"closest\",\"mapbox\":{\"style\":\"light\"},\"paper_bgcolor\":\"white\",\"plot_bgcolor\":\"#E5ECF6\",\"polar\":{\"angularaxis\":{\"gridcolor\":\"white\",\"linecolor\":\"white\",\"ticks\":\"\"},\"bgcolor\":\"#E5ECF6\",\"radialaxis\":{\"gridcolor\":\"white\",\"linecolor\":\"white\",\"ticks\":\"\"}},\"scene\":{\"xaxis\":{\"backgroundcolor\":\"#E5ECF6\",\"gridcolor\":\"white\",\"gridwidth\":2,\"linecolor\":\"white\",\"showbackground\":true,\"ticks\":\"\",\"zerolinecolor\":\"white\"},\"yaxis\":{\"backgroundcolor\":\"#E5ECF6\",\"gridcolor\":\"white\",\"gridwidth\":2,\"linecolor\":\"white\",\"showbackground\":true,\"ticks\":\"\",\"zerolinecolor\":\"white\"},\"zaxis\":{\"backgroundcolor\":\"#E5ECF6\",\"gridcolor\":\"white\",\"gridwidth\":2,\"linecolor\":\"white\",\"showbackground\":true,\"ticks\":\"\",\"zerolinecolor\":\"white\"}},\"shapedefaults\":{\"line\":{\"color\":\"#2a3f5f\"}},\"ternary\":{\"aaxis\":{\"gridcolor\":\"white\",\"linecolor\":\"white\",\"ticks\":\"\"},\"baxis\":{\"gridcolor\":\"white\",\"linecolor\":\"white\",\"ticks\":\"\"},\"bgcolor\":\"#E5ECF6\",\"caxis\":{\"gridcolor\":\"white\",\"linecolor\":\"white\",\"ticks\":\"\"}},\"title\":{\"x\":0.05},\"xaxis\":{\"automargin\":true,\"gridcolor\":\"white\",\"linecolor\":\"white\",\"ticks\":\"\",\"title\":{\"standoff\":15},\"zerolinecolor\":\"white\",\"zerolinewidth\":2},\"yaxis\":{\"automargin\":true,\"gridcolor\":\"white\",\"linecolor\":\"white\",\"ticks\":\"\",\"title\":{\"standoff\":15},\"zerolinecolor\":\"white\",\"zerolinewidth\":2}}},\"title\":{\"text\":\"Distribution of Probability of Being Alive\"},\"xaxis\":{\"title\":{\"text\":\"Probability of Being Alive\"}},\"yaxis\":{\"title\":{\"text\":\"Number of Customers\"}},\"plot_bgcolor\":\"rgba(0,0,0,0)\",\"paper_bgcolor\":\"rgba(0,0,0,0)\"},                        {\"responsive\": true}                    ).then(function(){\n",
       "                            \n",
       "var gd = document.getElementById('20959414-63ab-41fb-bf55-b0be4ff54cf1');\n",
       "var x = new MutationObserver(function (mutations, observer) {{\n",
       "        var display = window.getComputedStyle(gd).display;\n",
       "        if (!display || display === 'none') {{\n",
       "            console.log([gd, 'removed!']);\n",
       "            Plotly.purge(gd);\n",
       "            observer.disconnect();\n",
       "        }}\n",
       "}});\n",
       "\n",
       "// Listen for the removal of the full notebook cells\n",
       "var notebookContainer = gd.closest('#notebook-container');\n",
       "if (notebookContainer) {{\n",
       "    x.observe(notebookContainer, {childList: true});\n",
       "}}\n",
       "\n",
       "// Listen for the clearing of the current output cell\n",
       "var outputEl = gd.closest('.output');\n",
       "if (outputEl) {{\n",
       "    x.observe(outputEl, {childList: true});\n",
       "}}\n",
       "\n",
       "                        })                };                });            </script>        </div>"
      ]
     },
     "metadata": {},
     "output_type": "display_data"
    }
   ],
   "source": [
    "visuals.customer_aliveness()"
   ]
  },
  {
   "cell_type": "code",
   "execution_count": 4,
   "metadata": {},
   "outputs": [],
   "source": [
    "#updating the logs based on the max date of the akready filled LOGS table of GLOBBING database\n",
    "from zenq.api.endpoints import insert_logs_to_db\n",
    "insert_logs_to_db()"
   ]
  },
  {
   "cell_type": "code",
   "execution_count": null,
   "metadata": {},
   "outputs": [],
   "source": []
  },
  {
   "cell_type": "code",
   "execution_count": null,
   "metadata": {},
   "outputs": [],
   "source": []
  }
 ],
 "metadata": {
  "kernelspec": {
   "display_name": "Python 3 (ipykernel)",
   "language": "python",
   "name": "python3"
  },
  "language_info": {
   "codemirror_mode": {
    "name": "ipython",
    "version": 3
   },
   "file_extension": ".py",
   "mimetype": "text/x-python",
   "name": "python",
   "nbconvert_exporter": "python",
   "pygments_lexer": "ipython3",
   "version": "3.8.8"
  },
  "vscode": {
   "interpreter": {
    "hash": "8a5edab282632443219e051e4ade2d1d5bbc671c781051bf1437897cbdfea0f1"
   }
  }
 },
 "nbformat": 4,
 "nbformat_minor": 2
}
